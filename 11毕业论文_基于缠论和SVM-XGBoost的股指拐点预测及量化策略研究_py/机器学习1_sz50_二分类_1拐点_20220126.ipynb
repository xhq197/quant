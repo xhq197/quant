{
 "cells": [
  {
   "cell_type": "code",
   "execution_count": 1,
   "metadata": {},
   "outputs": [],
   "source": [
    "import pandas as pd\n",
    "import numpy as np\n",
    "from IPython.core.interactiveshell import InteractiveShell\n",
    "InteractiveShell.ast_node_interactivity = \"all\" \n",
    "import matplotlib.pyplot as plt"
   ]
  },
  {
   "cell_type": "markdown",
   "metadata": {},
   "source": [
    "## 数据检查"
   ]
  },
  {
   "cell_type": "code",
   "execution_count": 2,
   "metadata": {},
   "outputs": [],
   "source": [
    "index = pd.read_csv('./data/sz50_flag.csv',index_col = 0)\n",
    "index.DATETIME = pd.to_datetime(index.DATETIME)\n",
    "index.set_index('DATETIME',inplace = True)\n",
    "index.flag = index.flag.fillna(0)"
   ]
  },
  {
   "cell_type": "code",
   "execution_count": 3,
   "metadata": {},
   "outputs": [
    {
     "data": {
      "text/html": [
       "<div>\n",
       "<style scoped>\n",
       "    .dataframe tbody tr th:only-of-type {\n",
       "        vertical-align: middle;\n",
       "    }\n",
       "\n",
       "    .dataframe tbody tr th {\n",
       "        vertical-align: top;\n",
       "    }\n",
       "\n",
       "    .dataframe thead th {\n",
       "        text-align: right;\n",
       "    }\n",
       "</style>\n",
       "<table border=\"1\" class=\"dataframe\">\n",
       "  <thead>\n",
       "    <tr style=\"text-align: right;\">\n",
       "      <th></th>\n",
       "      <th>open</th>\n",
       "      <th>high</th>\n",
       "      <th>low</th>\n",
       "      <th>close</th>\n",
       "      <th>volume</th>\n",
       "      <th>amt</th>\n",
       "      <th>pct_chg</th>\n",
       "      <th>turn</th>\n",
       "      <th>MACD_MACD</th>\n",
       "      <th>MACD_DIFF</th>\n",
       "      <th>...</th>\n",
       "      <th>stage_low</th>\n",
       "      <th>up_days</th>\n",
       "      <th>down_days</th>\n",
       "      <th>breakout_ma</th>\n",
       "      <th>breakdown_ma</th>\n",
       "      <th>history_high_days</th>\n",
       "      <th>history_low_days</th>\n",
       "      <th>bull_bear_ma</th>\n",
       "      <th>bull_bear_ma.1</th>\n",
       "      <th>flag</th>\n",
       "    </tr>\n",
       "    <tr>\n",
       "      <th>DATETIME</th>\n",
       "      <th></th>\n",
       "      <th></th>\n",
       "      <th></th>\n",
       "      <th></th>\n",
       "      <th></th>\n",
       "      <th></th>\n",
       "      <th></th>\n",
       "      <th></th>\n",
       "      <th></th>\n",
       "      <th></th>\n",
       "      <th></th>\n",
       "      <th></th>\n",
       "      <th></th>\n",
       "      <th></th>\n",
       "      <th></th>\n",
       "      <th></th>\n",
       "      <th></th>\n",
       "      <th></th>\n",
       "      <th></th>\n",
       "      <th></th>\n",
       "      <th></th>\n",
       "    </tr>\n",
       "  </thead>\n",
       "  <tbody>\n",
       "    <tr>\n",
       "      <th>2005-01-04</th>\n",
       "      <td>836.988</td>\n",
       "      <td>836.988</td>\n",
       "      <td>824.008</td>\n",
       "      <td>827.071</td>\n",
       "      <td>403169700.0</td>\n",
       "      <td>2.136409e+09</td>\n",
       "      <td>-1.8579</td>\n",
       "      <td>1.0071</td>\n",
       "      <td>-3.3264</td>\n",
       "      <td>-10.8275</td>\n",
       "      <td>...</td>\n",
       "      <td>True</td>\n",
       "      <td>0</td>\n",
       "      <td>4</td>\n",
       "      <td>False</td>\n",
       "      <td>False</td>\n",
       "      <td>0</td>\n",
       "      <td>1</td>\n",
       "      <td>False</td>\n",
       "      <td>True</td>\n",
       "      <td>0.0</td>\n",
       "    </tr>\n",
       "    <tr>\n",
       "      <th>2005-01-05</th>\n",
       "      <td>825.707</td>\n",
       "      <td>836.428</td>\n",
       "      <td>822.966</td>\n",
       "      <td>831.428</td>\n",
       "      <td>302086300.0</td>\n",
       "      <td>1.705649e+09</td>\n",
       "      <td>0.5268</td>\n",
       "      <td>0.7546</td>\n",
       "      <td>-3.4300</td>\n",
       "      <td>-11.3081</td>\n",
       "      <td>...</td>\n",
       "      <td>True</td>\n",
       "      <td>1</td>\n",
       "      <td>0</td>\n",
       "      <td>False</td>\n",
       "      <td>False</td>\n",
       "      <td>0</td>\n",
       "      <td>2</td>\n",
       "      <td>False</td>\n",
       "      <td>True</td>\n",
       "      <td>0.0</td>\n",
       "    </tr>\n",
       "    <tr>\n",
       "      <th>2005-01-06</th>\n",
       "      <td>831.989</td>\n",
       "      <td>833.070</td>\n",
       "      <td>820.335</td>\n",
       "      <td>822.499</td>\n",
       "      <td>275357400.0</td>\n",
       "      <td>1.519687e+09</td>\n",
       "      <td>-1.0739</td>\n",
       "      <td>0.6878</td>\n",
       "      <td>-4.2799</td>\n",
       "      <td>-12.2681</td>\n",
       "      <td>...</td>\n",
       "      <td>True</td>\n",
       "      <td>0</td>\n",
       "      <td>1</td>\n",
       "      <td>False</td>\n",
       "      <td>False</td>\n",
       "      <td>0</td>\n",
       "      <td>3</td>\n",
       "      <td>False</td>\n",
       "      <td>True</td>\n",
       "      <td>-1.0</td>\n",
       "    </tr>\n",
       "    <tr>\n",
       "      <th>2005-01-07</th>\n",
       "      <td>822.669</td>\n",
       "      <td>832.950</td>\n",
       "      <td>819.440</td>\n",
       "      <td>823.616</td>\n",
       "      <td>306608600.0</td>\n",
       "      <td>1.640665e+09</td>\n",
       "      <td>0.1358</td>\n",
       "      <td>0.7659</td>\n",
       "      <td>-4.2610</td>\n",
       "      <td>-12.7912</td>\n",
       "      <td>...</td>\n",
       "      <td>True</td>\n",
       "      <td>1</td>\n",
       "      <td>0</td>\n",
       "      <td>False</td>\n",
       "      <td>False</td>\n",
       "      <td>0</td>\n",
       "      <td>3</td>\n",
       "      <td>False</td>\n",
       "      <td>True</td>\n",
       "      <td>0.0</td>\n",
       "    </tr>\n",
       "    <tr>\n",
       "      <th>2005-01-10</th>\n",
       "      <td>823.766</td>\n",
       "      <td>833.650</td>\n",
       "      <td>820.996</td>\n",
       "      <td>832.986</td>\n",
       "      <td>247941100.0</td>\n",
       "      <td>1.402314e+09</td>\n",
       "      <td>1.1377</td>\n",
       "      <td>0.6193</td>\n",
       "      <td>-2.6355</td>\n",
       "      <td>-12.3079</td>\n",
       "      <td>...</td>\n",
       "      <td>True</td>\n",
       "      <td>2</td>\n",
       "      <td>0</td>\n",
       "      <td>False</td>\n",
       "      <td>False</td>\n",
       "      <td>0</td>\n",
       "      <td>2</td>\n",
       "      <td>False</td>\n",
       "      <td>True</td>\n",
       "      <td>0.0</td>\n",
       "    </tr>\n",
       "  </tbody>\n",
       "</table>\n",
       "<p>5 rows × 111 columns</p>\n",
       "</div>"
      ],
      "text/plain": [
       "               open     high      low    close       volume           amt  \\\n",
       "DATETIME                                                                    \n",
       "2005-01-04  836.988  836.988  824.008  827.071  403169700.0  2.136409e+09   \n",
       "2005-01-05  825.707  836.428  822.966  831.428  302086300.0  1.705649e+09   \n",
       "2005-01-06  831.989  833.070  820.335  822.499  275357400.0  1.519687e+09   \n",
       "2005-01-07  822.669  832.950  819.440  823.616  306608600.0  1.640665e+09   \n",
       "2005-01-10  823.766  833.650  820.996  832.986  247941100.0  1.402314e+09   \n",
       "\n",
       "            pct_chg    turn  MACD_MACD  MACD_DIFF  ...  stage_low  up_days  \\\n",
       "DATETIME                                           ...                       \n",
       "2005-01-04  -1.8579  1.0071    -3.3264   -10.8275  ...       True        0   \n",
       "2005-01-05   0.5268  0.7546    -3.4300   -11.3081  ...       True        1   \n",
       "2005-01-06  -1.0739  0.6878    -4.2799   -12.2681  ...       True        0   \n",
       "2005-01-07   0.1358  0.7659    -4.2610   -12.7912  ...       True        1   \n",
       "2005-01-10   1.1377  0.6193    -2.6355   -12.3079  ...       True        2   \n",
       "\n",
       "            down_days  breakout_ma  breakdown_ma  history_high_days  \\\n",
       "DATETIME                                                              \n",
       "2005-01-04          4        False         False                  0   \n",
       "2005-01-05          0        False         False                  0   \n",
       "2005-01-06          1        False         False                  0   \n",
       "2005-01-07          0        False         False                  0   \n",
       "2005-01-10          0        False         False                  0   \n",
       "\n",
       "            history_low_days  bull_bear_ma  bull_bear_ma.1  flag  \n",
       "DATETIME                                                          \n",
       "2005-01-04                 1         False            True   0.0  \n",
       "2005-01-05                 2         False            True   0.0  \n",
       "2005-01-06                 3         False            True  -1.0  \n",
       "2005-01-07                 3         False            True   0.0  \n",
       "2005-01-10                 2         False            True   0.0  \n",
       "\n",
       "[5 rows x 111 columns]"
      ]
     },
     "execution_count": 3,
     "metadata": {},
     "output_type": "execute_result"
    }
   ],
   "source": [
    "index.head()"
   ]
  },
  {
   "cell_type": "code",
   "execution_count": 4,
   "metadata": {},
   "outputs": [
    {
     "name": "stdout",
     "output_type": "stream",
     "text": [
      "<class 'pandas.core.frame.DataFrame'>\n",
      "DatetimeIndex: 4141 entries, 2005-01-04 to 2022-01-14\n",
      "Data columns (total 10 columns):\n",
      " #   Column     Non-Null Count  Dtype  \n",
      "---  ------     --------------  -----  \n",
      " 0   open       4141 non-null   float64\n",
      " 1   high       4141 non-null   float64\n",
      " 2   low        4141 non-null   float64\n",
      " 3   close      4141 non-null   float64\n",
      " 4   volume     4141 non-null   float64\n",
      " 5   amt        4141 non-null   float64\n",
      " 6   pct_chg    4141 non-null   float64\n",
      " 7   turn       4141 non-null   float64\n",
      " 8   MACD_MACD  4141 non-null   float64\n",
      " 9   MACD_DIFF  4141 non-null   float64\n",
      "dtypes: float64(10)\n",
      "memory usage: 355.9 KB\n",
      "<class 'pandas.core.frame.DataFrame'>\n",
      "DatetimeIndex: 4141 entries, 2005-01-04 to 2022-01-14\n",
      "Data columns (total 10 columns):\n",
      " #   Column    Non-Null Count  Dtype  \n",
      "---  ------    --------------  -----  \n",
      " 0   MACD_DEA  4141 non-null   float64\n",
      " 1   KDJ_K     4141 non-null   float64\n",
      " 2   KDJ_D     4141 non-null   float64\n",
      " 3   KDJ_J     4141 non-null   float64\n",
      " 4   RSI       4141 non-null   float64\n",
      " 5   CCI       4141 non-null   float64\n",
      " 6   BIAS      4141 non-null   float64\n",
      " 7   ADTM      4141 non-null   float64\n",
      " 8   ADTM.1    4141 non-null   float64\n",
      " 9   ATR       4141 non-null   float64\n",
      "dtypes: float64(10)\n",
      "memory usage: 355.9 KB\n",
      "<class 'pandas.core.frame.DataFrame'>\n",
      "DatetimeIndex: 4141 entries, 2005-01-04 to 2022-01-14\n",
      "Data columns (total 10 columns):\n",
      " #   Column     Non-Null Count  Dtype  \n",
      "---  ------     --------------  -----  \n",
      " 0   ATR.1      4141 non-null   float64\n",
      " 1   BBI        4141 non-null   float64\n",
      " 2   BBIBOLL    4141 non-null   float64\n",
      " 3   BBIBOLL.1  4141 non-null   float64\n",
      " 4   BBIBOLL.2  4141 non-null   float64\n",
      " 5   BOLL       4141 non-null   float64\n",
      " 6   BOLL.1     4141 non-null   float64\n",
      " 7   BOLL.2     4141 non-null   float64\n",
      " 8   CDP        4141 non-null   float64\n",
      " 9   CDP.1      4141 non-null   float64\n",
      "dtypes: float64(10)\n",
      "memory usage: 355.9 KB\n",
      "<class 'pandas.core.frame.DataFrame'>\n",
      "DatetimeIndex: 4141 entries, 2005-01-04 to 2022-01-14\n",
      "Data columns (total 10 columns):\n",
      " #   Column  Non-Null Count  Dtype  \n",
      "---  ------  --------------  -----  \n",
      " 0   CDP.2   4141 non-null   float64\n",
      " 1   CDP.3   4141 non-null   float64\n",
      " 2   CDP.4   4141 non-null   float64\n",
      " 3   DMA     4141 non-null   float64\n",
      " 4   DMA.1   4141 non-null   float64\n",
      " 5   DMI     4141 non-null   float64\n",
      " 6   DMI.1   4141 non-null   float64\n",
      " 7   DMI.2   4141 non-null   float64\n",
      " 8   DMI.3   4141 non-null   float64\n",
      " 9   DMI_2   4141 non-null   float64\n",
      "dtypes: float64(10)\n",
      "memory usage: 355.9 KB\n",
      "<class 'pandas.core.frame.DataFrame'>\n",
      "DatetimeIndex: 4141 entries, 2005-01-04 to 2022-01-14\n",
      "Data columns (total 10 columns):\n",
      " #   Column    Non-Null Count  Dtype  \n",
      "---  ------    --------------  -----  \n",
      " 0   DMI_2.1   4141 non-null   float64\n",
      " 1   DMI_2.2   4141 non-null   float64\n",
      " 2   DMI_2.3   4141 non-null   float64\n",
      " 3   DPO       4141 non-null   float64\n",
      " 4   DPO.1     4141 non-null   float64\n",
      " 5   ENV       4141 non-null   float64\n",
      " 6   ENV.1     1 non-null      object \n",
      " 7   EXPMA     0 non-null      float64\n",
      " 8   slowKD    0 non-null      float64\n",
      " 9   slowKD.1  4141 non-null   float64\n",
      "dtypes: float64(9), object(1)\n",
      "memory usage: 355.9+ KB\n",
      "<class 'pandas.core.frame.DataFrame'>\n",
      "DatetimeIndex: 4141 entries, 2005-01-04 to 2022-01-14\n",
      "Data columns (total 10 columns):\n",
      " #   Column    Non-Null Count  Dtype  \n",
      "---  ------    --------------  -----  \n",
      " 0   MA        4141 non-null   float64\n",
      " 1   MIKE      4141 non-null   float64\n",
      " 2   MIKE.1    4141 non-null   float64\n",
      " 3   MTM       4141 non-null   float64\n",
      " 4   MTM.1     4141 non-null   float64\n",
      " 5   PRICEOSC  4141 non-null   float64\n",
      " 6   PVT       4141 non-null   float64\n",
      " 7   RC        4141 non-null   float64\n",
      " 8   ROC       4141 non-null   float64\n",
      " 9   ROC.1     4141 non-null   float64\n",
      "dtypes: float64(10)\n",
      "memory usage: 355.9 KB\n",
      "<class 'pandas.core.frame.DataFrame'>\n",
      "DatetimeIndex: 4141 entries, 2005-01-04 to 2022-01-14\n",
      "Data columns (total 10 columns):\n",
      " #   Column  Non-Null Count  Dtype  \n",
      "---  ------  --------------  -----  \n",
      " 0   SAR     4141 non-null   float64\n",
      " 1   SI      4141 non-null   float64\n",
      " 2   WR      4141 non-null   float64\n",
      " 3   SOBV    4141 non-null   float64\n",
      " 4   SRMI    4141 non-null   float64\n",
      " 5   STD     4141 non-null   float64\n",
      " 6   TAPI    4141 non-null   float64\n",
      " 7   TAPI.1  4141 non-null   float64\n",
      " 8   TRIX    4141 non-null   float64\n",
      " 9   TRIX.1  4141 non-null   float64\n",
      "dtypes: float64(10)\n",
      "memory usage: 355.9 KB\n",
      "<class 'pandas.core.frame.DataFrame'>\n",
      "DatetimeIndex: 4141 entries, 2005-01-04 to 2022-01-14\n",
      "Data columns (total 10 columns):\n",
      " #   Column     Non-Null Count  Dtype  \n",
      "---  ------     --------------  -----  \n",
      " 0   VHF        4141 non-null   float64\n",
      " 1   VMA        4141 non-null   float64\n",
      " 2   VMACD      4141 non-null   float64\n",
      " 3   VMACD.1    4141 non-null   float64\n",
      " 4   VMACD.2    4141 non-null   float64\n",
      " 5   VOSC       4141 non-null   float64\n",
      " 6   VSTD       4141 non-null   float64\n",
      " 7   WVAD       4141 non-null   float64\n",
      " 8   WVAD.1     4141 non-null   float64\n",
      " 9   vol_ratio  4141 non-null   float64\n",
      "dtypes: float64(10)\n",
      "memory usage: 355.9 KB\n",
      "<class 'pandas.core.frame.DataFrame'>\n",
      "DatetimeIndex: 4141 entries, 2005-01-04 to 2022-01-14\n",
      "Data columns (total 10 columns):\n",
      " #   Column               Non-Null Count  Dtype  \n",
      "---  ------               --------------  -----  \n",
      " 0   dealnum              0 non-null      float64\n",
      " 1   chg                  4141 non-null   float64\n",
      " 2   swing                4141 non-null   float64\n",
      " 3   vwap                 4141 non-null   float64\n",
      " 4   open_auction_price   0 non-null      float64\n",
      " 5   open_auction_volume  0 non-null      float64\n",
      " 6   open_auction_amount  0 non-null      float64\n",
      " 7   tech_upnum           4141 non-null   float64\n",
      " 8   tech_downnum         4141 non-null   float64\n",
      " 9   tech_limitupnum      4141 non-null   float64\n",
      "dtypes: float64(10)\n",
      "memory usage: 355.9 KB\n",
      "<class 'pandas.core.frame.DataFrame'>\n",
      "DatetimeIndex: 4141 entries, 2005-01-04 to 2022-01-14\n",
      "Data columns (total 10 columns):\n",
      " #   Column             Non-Null Count  Dtype  \n",
      "---  ------             --------------  -----  \n",
      " 0   tech_limitdownnum  4141 non-null   float64\n",
      " 1   div_compindex      1471 non-null   float64\n",
      " 2   val_pb_wgt         4141 non-null   float64\n",
      " 3   val_pe_avg         4141 non-null   float64\n",
      " 4   tech_uppct         4141 non-null   float64\n",
      " 5   tech_downpct       4141 non-null   float64\n",
      " 6   tech_limituppct    4141 non-null   float64\n",
      " 7   tech_limitdownpct  4141 non-null   float64\n",
      " 8   history_low        4141 non-null   bool   \n",
      " 9   stage_high         4141 non-null   bool   \n",
      "dtypes: bool(2), float64(8)\n",
      "memory usage: 299.3 KB\n",
      "<class 'pandas.core.frame.DataFrame'>\n",
      "DatetimeIndex: 4141 entries, 2005-01-04 to 2022-01-14\n",
      "Data columns (total 10 columns):\n",
      " #   Column             Non-Null Count  Dtype\n",
      "---  ------             --------------  -----\n",
      " 0   history_high       4141 non-null   bool \n",
      " 1   stage_low          4141 non-null   bool \n",
      " 2   up_days            4141 non-null   int64\n",
      " 3   down_days          4141 non-null   int64\n",
      " 4   breakout_ma        4141 non-null   bool \n",
      " 5   breakdown_ma       4141 non-null   bool \n",
      " 6   history_high_days  4141 non-null   int64\n",
      " 7   history_low_days   4141 non-null   int64\n",
      " 8   bull_bear_ma       4141 non-null   bool \n",
      " 9   bull_bear_ma.1     4141 non-null   bool \n",
      "dtypes: bool(6), int64(4)\n",
      "memory usage: 186.0 KB\n",
      "<class 'pandas.core.frame.DataFrame'>\n",
      "DatetimeIndex: 4141 entries, 2005-01-04 to 2022-01-14\n",
      "Data columns (total 1 columns):\n",
      " #   Column  Non-Null Count  Dtype  \n",
      "---  ------  --------------  -----  \n",
      " 0   flag    4141 non-null   float64\n",
      "dtypes: float64(1)\n",
      "memory usage: 64.7 KB\n"
     ]
    },
    {
     "data": {
      "text/plain": [
       "'TRUE和FAlSE会被识别成bool'"
      ]
     },
     "execution_count": 4,
     "metadata": {},
     "output_type": "execute_result"
    },
    {
     "data": {
      "text/plain": [
       "'类型：float、int、bool'"
      ]
     },
     "execution_count": 4,
     "metadata": {},
     "output_type": "execute_result"
    }
   ],
   "source": [
    "for i in range(1,len(index.columns)//10 + 2):\n",
    "    index.iloc[:,10*(i-1):10*i].info()\n",
    "'''TRUE和FAlSE会被识别成bool'''\n",
    "'''类型：float、int、bool'''"
   ]
  },
  {
   "cell_type": "code",
   "execution_count": 5,
   "metadata": {
    "scrolled": false
   },
   "outputs": [
    {
     "data": {
      "text/plain": [
       "'处理空值'"
      ]
     },
     "execution_count": 5,
     "metadata": {},
     "output_type": "execute_result"
    },
    {
     "data": {
      "text/plain": [
       "'处理前'"
      ]
     },
     "execution_count": 5,
     "metadata": {},
     "output_type": "execute_result"
    },
    {
     "data": {
      "text/plain": [
       "ENV.1                  4140\n",
       "EXPMA                  4141\n",
       "slowKD                 4141\n",
       "dealnum                4141\n",
       "open_auction_price     4141\n",
       "open_auction_volume    4141\n",
       "open_auction_amount    4141\n",
       "div_compindex          2670\n",
       "dtype: int64"
      ]
     },
     "execution_count": 5,
     "metadata": {},
     "output_type": "execute_result"
    },
    {
     "data": {
      "text/plain": [
       "'处理后'"
      ]
     },
     "execution_count": 5,
     "metadata": {},
     "output_type": "execute_result"
    },
    {
     "data": {
      "text/plain": [
       "Series([], dtype: int64)"
      ]
     },
     "execution_count": 5,
     "metadata": {},
     "output_type": "execute_result"
    }
   ],
   "source": [
    "'''处理空值'''\n",
    "'''处理前'''\n",
    "tmp_isnull = index.isnull().sum()\n",
    "tmp_isnull[tmp_isnull > 0]\n",
    "index.div_compindex = index.div_compindex.fillna(0)\n",
    "tmp_isnull = index.isnull().sum()\n",
    "tmp_isnull = tmp_isnull[tmp_isnull > 0]\n",
    "for col in tmp_isnull.index:\n",
    "    if col != 'flag':\n",
    "        index.drop(col,axis = 1,inplace = True)\n",
    "        \n",
    "'''处理后'''\n",
    "\n",
    "tmp_isnull = index.isnull().sum()\n",
    "tmp_isnull[tmp_isnull > 0]"
   ]
  },
  {
   "cell_type": "code",
   "execution_count": 6,
   "metadata": {},
   "outputs": [
    {
     "data": {
      "text/html": [
       "<div>\n",
       "<style scoped>\n",
       "    .dataframe tbody tr th:only-of-type {\n",
       "        vertical-align: middle;\n",
       "    }\n",
       "\n",
       "    .dataframe tbody tr th {\n",
       "        vertical-align: top;\n",
       "    }\n",
       "\n",
       "    .dataframe thead th {\n",
       "        text-align: right;\n",
       "    }\n",
       "</style>\n",
       "<table border=\"1\" class=\"dataframe\">\n",
       "  <thead>\n",
       "    <tr style=\"text-align: right;\">\n",
       "      <th></th>\n",
       "      <th>open</th>\n",
       "      <th>high</th>\n",
       "      <th>low</th>\n",
       "      <th>close</th>\n",
       "      <th>volume</th>\n",
       "      <th>amt</th>\n",
       "      <th>pct_chg</th>\n",
       "      <th>turn</th>\n",
       "      <th>MACD_MACD</th>\n",
       "      <th>MACD_DIFF</th>\n",
       "      <th>...</th>\n",
       "      <th>val_pe_avg</th>\n",
       "      <th>tech_uppct</th>\n",
       "      <th>tech_downpct</th>\n",
       "      <th>tech_limituppct</th>\n",
       "      <th>tech_limitdownpct</th>\n",
       "      <th>up_days</th>\n",
       "      <th>down_days</th>\n",
       "      <th>history_high_days</th>\n",
       "      <th>history_low_days</th>\n",
       "      <th>flag</th>\n",
       "    </tr>\n",
       "  </thead>\n",
       "  <tbody>\n",
       "    <tr>\n",
       "      <th>count</th>\n",
       "      <td>4141.000000</td>\n",
       "      <td>4141.000000</td>\n",
       "      <td>4141.000000</td>\n",
       "      <td>4141.000000</td>\n",
       "      <td>4.141000e+03</td>\n",
       "      <td>4.141000e+03</td>\n",
       "      <td>4141.000000</td>\n",
       "      <td>4141.000000</td>\n",
       "      <td>4141.000000</td>\n",
       "      <td>4141.000000</td>\n",
       "      <td>...</td>\n",
       "      <td>4141.000000</td>\n",
       "      <td>4141.000000</td>\n",
       "      <td>4141.000000</td>\n",
       "      <td>4141.000000</td>\n",
       "      <td>4141.000000</td>\n",
       "      <td>4141.000000</td>\n",
       "      <td>4141.000000</td>\n",
       "      <td>4141.000000</td>\n",
       "      <td>4141.000000</td>\n",
       "      <td>4141.000000</td>\n",
       "    </tr>\n",
       "    <tr>\n",
       "      <th>mean</th>\n",
       "      <td>2240.350648</td>\n",
       "      <td>2263.112641</td>\n",
       "      <td>2218.356122</td>\n",
       "      <td>2242.172003</td>\n",
       "      <td>3.115557e+09</td>\n",
       "      <td>4.139068e+10</td>\n",
       "      <td>0.046011</td>\n",
       "      <td>0.677353</td>\n",
       "      <td>0.003268</td>\n",
       "      <td>4.037448</td>\n",
       "      <td>...</td>\n",
       "      <td>29.921342</td>\n",
       "      <td>46.746591</td>\n",
       "      <td>47.023395</td>\n",
       "      <td>2.856354</td>\n",
       "      <td>1.081894</td>\n",
       "      <td>1.063994</td>\n",
       "      <td>0.910891</td>\n",
       "      <td>0.079691</td>\n",
       "      <td>0.021009</td>\n",
       "      <td>-0.000241</td>\n",
       "    </tr>\n",
       "    <tr>\n",
       "      <th>std</th>\n",
       "      <td>791.275045</td>\n",
       "      <td>799.109813</td>\n",
       "      <td>781.591185</td>\n",
       "      <td>790.951805</td>\n",
       "      <td>3.032074e+09</td>\n",
       "      <td>4.339364e+10</td>\n",
       "      <td>1.686527</td>\n",
       "      <td>0.906741</td>\n",
       "      <td>27.388286</td>\n",
       "      <td>51.923734</td>\n",
       "      <td>...</td>\n",
       "      <td>10.891980</td>\n",
       "      <td>28.589235</td>\n",
       "      <td>28.713420</td>\n",
       "      <td>6.715208</td>\n",
       "      <td>5.549111</td>\n",
       "      <td>1.608705</td>\n",
       "      <td>1.256877</td>\n",
       "      <td>0.421552</td>\n",
       "      <td>0.204521</td>\n",
       "      <td>0.276713</td>\n",
       "    </tr>\n",
       "    <tr>\n",
       "      <th>min</th>\n",
       "      <td>699.266000</td>\n",
       "      <td>706.879000</td>\n",
       "      <td>693.528000</td>\n",
       "      <td>700.434000</td>\n",
       "      <td>1.632751e+08</td>\n",
       "      <td>8.378735e+08</td>\n",
       "      <td>-9.470800</td>\n",
       "      <td>0.057000</td>\n",
       "      <td>-157.658900</td>\n",
       "      <td>-199.680100</td>\n",
       "      <td>...</td>\n",
       "      <td>14.766000</td>\n",
       "      <td>0.000000</td>\n",
       "      <td>0.000000</td>\n",
       "      <td>0.000000</td>\n",
       "      <td>0.000000</td>\n",
       "      <td>0.000000</td>\n",
       "      <td>0.000000</td>\n",
       "      <td>0.000000</td>\n",
       "      <td>0.000000</td>\n",
       "      <td>-1.000000</td>\n",
       "    </tr>\n",
       "    <tr>\n",
       "      <th>25%</th>\n",
       "      <td>1675.782000</td>\n",
       "      <td>1697.599000</td>\n",
       "      <td>1658.021000</td>\n",
       "      <td>1675.858000</td>\n",
       "      <td>1.642688e+09</td>\n",
       "      <td>1.699701e+10</td>\n",
       "      <td>-0.723200</td>\n",
       "      <td>0.172900</td>\n",
       "      <td>-11.088900</td>\n",
       "      <td>-18.357400</td>\n",
       "      <td>...</td>\n",
       "      <td>21.202100</td>\n",
       "      <td>22.000000</td>\n",
       "      <td>22.000000</td>\n",
       "      <td>0.000000</td>\n",
       "      <td>0.000000</td>\n",
       "      <td>0.000000</td>\n",
       "      <td>0.000000</td>\n",
       "      <td>0.000000</td>\n",
       "      <td>0.000000</td>\n",
       "      <td>0.000000</td>\n",
       "    </tr>\n",
       "    <tr>\n",
       "      <th>50%</th>\n",
       "      <td>2217.045000</td>\n",
       "      <td>2239.457500</td>\n",
       "      <td>2192.491200</td>\n",
       "      <td>2219.611900</td>\n",
       "      <td>2.433337e+09</td>\n",
       "      <td>2.912485e+10</td>\n",
       "      <td>0.036700</td>\n",
       "      <td>0.265000</td>\n",
       "      <td>0.599100</td>\n",
       "      <td>3.372200</td>\n",
       "      <td>...</td>\n",
       "      <td>26.365400</td>\n",
       "      <td>44.000000</td>\n",
       "      <td>48.000000</td>\n",
       "      <td>0.000000</td>\n",
       "      <td>0.000000</td>\n",
       "      <td>1.000000</td>\n",
       "      <td>0.000000</td>\n",
       "      <td>0.000000</td>\n",
       "      <td>0.000000</td>\n",
       "      <td>0.000000</td>\n",
       "    </tr>\n",
       "    <tr>\n",
       "      <th>75%</th>\n",
       "      <td>2797.231000</td>\n",
       "      <td>2822.589100</td>\n",
       "      <td>2762.298300</td>\n",
       "      <td>2798.769500</td>\n",
       "      <td>3.469665e+09</td>\n",
       "      <td>4.924094e+10</td>\n",
       "      <td>0.837100</td>\n",
       "      <td>0.837100</td>\n",
       "      <td>13.769600</td>\n",
       "      <td>25.298700</td>\n",
       "      <td>...</td>\n",
       "      <td>36.546000</td>\n",
       "      <td>70.000000</td>\n",
       "      <td>70.000000</td>\n",
       "      <td>2.000000</td>\n",
       "      <td>0.000000</td>\n",
       "      <td>2.000000</td>\n",
       "      <td>1.000000</td>\n",
       "      <td>0.000000</td>\n",
       "      <td>0.000000</td>\n",
       "      <td>0.000000</td>\n",
       "    </tr>\n",
       "    <tr>\n",
       "      <th>max</th>\n",
       "      <td>4726.083000</td>\n",
       "      <td>4772.933000</td>\n",
       "      <td>4688.263000</td>\n",
       "      <td>4731.826000</td>\n",
       "      <td>3.774594e+10</td>\n",
       "      <td>4.282975e+11</td>\n",
       "      <td>9.672900</td>\n",
       "      <td>7.464900</td>\n",
       "      <td>147.884300</td>\n",
       "      <td>226.097200</td>\n",
       "      <td>...</td>\n",
       "      <td>74.475800</td>\n",
       "      <td>100.000000</td>\n",
       "      <td>100.000000</td>\n",
       "      <td>94.000000</td>\n",
       "      <td>80.000000</td>\n",
       "      <td>19.000000</td>\n",
       "      <td>9.000000</td>\n",
       "      <td>3.000000</td>\n",
       "      <td>3.000000</td>\n",
       "      <td>1.000000</td>\n",
       "    </tr>\n",
       "  </tbody>\n",
       "</table>\n",
       "<p>8 rows × 96 columns</p>\n",
       "</div>"
      ],
      "text/plain": [
       "              open         high          low        close        volume  \\\n",
       "count  4141.000000  4141.000000  4141.000000  4141.000000  4.141000e+03   \n",
       "mean   2240.350648  2263.112641  2218.356122  2242.172003  3.115557e+09   \n",
       "std     791.275045   799.109813   781.591185   790.951805  3.032074e+09   \n",
       "min     699.266000   706.879000   693.528000   700.434000  1.632751e+08   \n",
       "25%    1675.782000  1697.599000  1658.021000  1675.858000  1.642688e+09   \n",
       "50%    2217.045000  2239.457500  2192.491200  2219.611900  2.433337e+09   \n",
       "75%    2797.231000  2822.589100  2762.298300  2798.769500  3.469665e+09   \n",
       "max    4726.083000  4772.933000  4688.263000  4731.826000  3.774594e+10   \n",
       "\n",
       "                amt      pct_chg         turn    MACD_MACD    MACD_DIFF  ...  \\\n",
       "count  4.141000e+03  4141.000000  4141.000000  4141.000000  4141.000000  ...   \n",
       "mean   4.139068e+10     0.046011     0.677353     0.003268     4.037448  ...   \n",
       "std    4.339364e+10     1.686527     0.906741    27.388286    51.923734  ...   \n",
       "min    8.378735e+08    -9.470800     0.057000  -157.658900  -199.680100  ...   \n",
       "25%    1.699701e+10    -0.723200     0.172900   -11.088900   -18.357400  ...   \n",
       "50%    2.912485e+10     0.036700     0.265000     0.599100     3.372200  ...   \n",
       "75%    4.924094e+10     0.837100     0.837100    13.769600    25.298700  ...   \n",
       "max    4.282975e+11     9.672900     7.464900   147.884300   226.097200  ...   \n",
       "\n",
       "        val_pe_avg   tech_uppct  tech_downpct  tech_limituppct  \\\n",
       "count  4141.000000  4141.000000   4141.000000      4141.000000   \n",
       "mean     29.921342    46.746591     47.023395         2.856354   \n",
       "std      10.891980    28.589235     28.713420         6.715208   \n",
       "min      14.766000     0.000000      0.000000         0.000000   \n",
       "25%      21.202100    22.000000     22.000000         0.000000   \n",
       "50%      26.365400    44.000000     48.000000         0.000000   \n",
       "75%      36.546000    70.000000     70.000000         2.000000   \n",
       "max      74.475800   100.000000    100.000000        94.000000   \n",
       "\n",
       "       tech_limitdownpct      up_days    down_days  history_high_days  \\\n",
       "count        4141.000000  4141.000000  4141.000000        4141.000000   \n",
       "mean            1.081894     1.063994     0.910891           0.079691   \n",
       "std             5.549111     1.608705     1.256877           0.421552   \n",
       "min             0.000000     0.000000     0.000000           0.000000   \n",
       "25%             0.000000     0.000000     0.000000           0.000000   \n",
       "50%             0.000000     1.000000     0.000000           0.000000   \n",
       "75%             0.000000     2.000000     1.000000           0.000000   \n",
       "max            80.000000    19.000000     9.000000           3.000000   \n",
       "\n",
       "       history_low_days         flag  \n",
       "count       4141.000000  4141.000000  \n",
       "mean           0.021009    -0.000241  \n",
       "std            0.204521     0.276713  \n",
       "min            0.000000    -1.000000  \n",
       "25%            0.000000     0.000000  \n",
       "50%            0.000000     0.000000  \n",
       "75%            0.000000     0.000000  \n",
       "max            3.000000     1.000000  \n",
       "\n",
       "[8 rows x 96 columns]"
      ]
     },
     "execution_count": 6,
     "metadata": {},
     "output_type": "execute_result"
    }
   ],
   "source": [
    "index.describe()"
   ]
  },
  {
   "cell_type": "code",
   "execution_count": 7,
   "metadata": {
    "scrolled": false
   },
   "outputs": [
    {
     "name": "stdout",
     "output_type": "stream",
     "text": [
      "拐点占比：100.00%\n",
      "正拐点占比：3.82%\n",
      "负拐点占比：3.84%\n"
     ]
    }
   ],
   "source": [
    "print('拐点占比：{:.2%}'.format((len(index) - index.isnull().sum()['flag'])/len(index) ))\n",
    "print('正拐点占比：{:.2%}'.format(len(index[index['flag'] == 1])/len(index)))\n",
    "print('负拐点占比：{:.2%}'.format(len(index[index['flag'] == -1])/len(index)))"
   ]
  },
  {
   "cell_type": "markdown",
   "metadata": {},
   "source": [
    "### 连续/离散"
   ]
  },
  {
   "cell_type": "code",
   "execution_count": 8,
   "metadata": {},
   "outputs": [
    {
     "name": "stdout",
     "output_type": "stream",
     "text": [
      "离散特征：tech_limitupnum\n",
      "离散特征：tech_limitdownnum\n",
      "离散特征：tech_limituppct\n",
      "离散特征：tech_limitdownpct\n",
      "离散特征：history_low\n",
      "离散特征：stage_high\n",
      "离散特征：history_high\n",
      "离散特征：stage_low\n",
      "离散特征：up_days\n",
      "离散特征：down_days\n",
      "离散特征：breakout_ma\n",
      "离散特征：breakdown_ma\n",
      "离散特征：history_high_days\n",
      "离散特征：history_low_days\n",
      "离散特征：bull_bear_ma\n",
      "离散特征：bull_bear_ma.1\n"
     ]
    },
    {
     "data": {
      "text/plain": [
       "103"
      ]
     },
     "execution_count": 8,
     "metadata": {},
     "output_type": "execute_result"
    },
    {
     "data": {
      "text/plain": [
       "'离散变量'"
      ]
     },
     "execution_count": 8,
     "metadata": {},
     "output_type": "execute_result"
    },
    {
     "data": {
      "text/plain": [
       "16"
      ]
     },
     "execution_count": 8,
     "metadata": {},
     "output_type": "execute_result"
    },
    {
     "data": {
      "text/plain": [
       "['tech_limitupnum',\n",
       " 'tech_limitdownnum',\n",
       " 'tech_limituppct',\n",
       " 'tech_limitdownpct',\n",
       " 'history_low',\n",
       " 'stage_high',\n",
       " 'history_high',\n",
       " 'stage_low',\n",
       " 'up_days',\n",
       " 'down_days',\n",
       " 'breakout_ma',\n",
       " 'breakdown_ma',\n",
       " 'history_high_days',\n",
       " 'history_low_days',\n",
       " 'bull_bear_ma',\n",
       " 'bull_bear_ma.1']"
      ]
     },
     "execution_count": 8,
     "metadata": {},
     "output_type": "execute_result"
    },
    {
     "data": {
      "text/plain": [
       "'连续变量'"
      ]
     },
     "execution_count": 8,
     "metadata": {},
     "output_type": "execute_result"
    },
    {
     "data": {
      "text/plain": [
       "87"
      ]
     },
     "execution_count": 8,
     "metadata": {},
     "output_type": "execute_result"
    },
    {
     "data": {
      "text/plain": [
       "['open',\n",
       " 'high',\n",
       " 'low',\n",
       " 'close',\n",
       " 'volume',\n",
       " 'amt',\n",
       " 'pct_chg',\n",
       " 'turn',\n",
       " 'MACD_MACD',\n",
       " 'MACD_DIFF',\n",
       " 'MACD_DEA',\n",
       " 'KDJ_K',\n",
       " 'KDJ_D',\n",
       " 'KDJ_J',\n",
       " 'RSI',\n",
       " 'CCI',\n",
       " 'BIAS',\n",
       " 'ADTM',\n",
       " 'ADTM.1',\n",
       " 'ATR',\n",
       " 'ATR.1',\n",
       " 'BBI',\n",
       " 'BBIBOLL',\n",
       " 'BBIBOLL.1',\n",
       " 'BBIBOLL.2',\n",
       " 'BOLL',\n",
       " 'BOLL.1',\n",
       " 'BOLL.2',\n",
       " 'CDP',\n",
       " 'CDP.1',\n",
       " 'CDP.2',\n",
       " 'CDP.3',\n",
       " 'CDP.4',\n",
       " 'DMA',\n",
       " 'DMA.1',\n",
       " 'DMI',\n",
       " 'DMI.1',\n",
       " 'DMI.2',\n",
       " 'DMI.3',\n",
       " 'DMI_2',\n",
       " 'DMI_2.1',\n",
       " 'DMI_2.2',\n",
       " 'DMI_2.3',\n",
       " 'DPO',\n",
       " 'DPO.1',\n",
       " 'ENV',\n",
       " 'slowKD.1',\n",
       " 'MA',\n",
       " 'MIKE',\n",
       " 'MIKE.1',\n",
       " 'MTM',\n",
       " 'MTM.1',\n",
       " 'PRICEOSC',\n",
       " 'PVT',\n",
       " 'RC',\n",
       " 'ROC',\n",
       " 'ROC.1',\n",
       " 'SAR',\n",
       " 'SI',\n",
       " 'WR',\n",
       " 'SOBV',\n",
       " 'SRMI',\n",
       " 'STD',\n",
       " 'TAPI',\n",
       " 'TAPI.1',\n",
       " 'TRIX',\n",
       " 'TRIX.1',\n",
       " 'VHF',\n",
       " 'VMA',\n",
       " 'VMACD',\n",
       " 'VMACD.1',\n",
       " 'VMACD.2',\n",
       " 'VOSC',\n",
       " 'VSTD',\n",
       " 'WVAD',\n",
       " 'WVAD.1',\n",
       " 'vol_ratio',\n",
       " 'chg',\n",
       " 'swing',\n",
       " 'vwap',\n",
       " 'tech_upnum',\n",
       " 'tech_downnum',\n",
       " 'div_compindex',\n",
       " 'val_pb_wgt',\n",
       " 'val_pe_avg',\n",
       " 'tech_uppct',\n",
       " 'tech_downpct']"
      ]
     },
     "execution_count": 8,
     "metadata": {},
     "output_type": "execute_result"
    }
   ],
   "source": [
    "unconti_col = []\n",
    "c = 0\n",
    "for i in range(len(index.columns[:-1])):\n",
    "    if len(index.iloc[:,i].value_counts()) < 50:\n",
    "        print('离散特征：{0}'.format(index.columns[i]))\n",
    "        unconti_col.append(index.columns[i])\n",
    "        c = 1\n",
    "if c == 0:\n",
    "    print('无离散特征')\n",
    "len(index.columns) - 1\n",
    "'''离散变量'''\n",
    "len(unconti_col)\n",
    "unconti_col\n",
    "'''连续变量'''\n",
    "conti_col = [col for col in index.columns[:-1] if col not in unconti_col]\n",
    "len(conti_col)\n",
    "conti_col"
   ]
  },
  {
   "cell_type": "markdown",
   "metadata": {},
   "source": [
    "### 连续变量"
   ]
  },
  {
   "cell_type": "code",
   "execution_count": 9,
   "metadata": {},
   "outputs": [],
   "source": [
    "# InteractiveShell.ast_node_interactivity = \"last_expr\" # 画图不输出冗余信息\n",
    "# import matplotlib.pyplot as plt\n",
    "# import seaborn as sns \n",
    "# %matplotlib inline"
   ]
  },
  {
   "cell_type": "code",
   "execution_count": 10,
   "metadata": {
    "scrolled": false
   },
   "outputs": [],
   "source": [
    "# for j in range(len(conti_col)//20 + 1):\n",
    "#     plt.figure(figsize=(15,15));\n",
    "#     for i in range(1,21):\n",
    "#         plt.subplot( 4,5,i);\n",
    "#         if j*20 + i < len(conti_col):\n",
    "#             sns.distplot(index[conti_col[j*20+i]]);\n",
    "#         else:\n",
    "#             continue\n",
    "#     plt.show();"
   ]
  },
  {
   "cell_type": "code",
   "execution_count": 11,
   "metadata": {
    "scrolled": false
   },
   "outputs": [],
   "source": [
    "# import matplotlib.pyplot as plt\n",
    "# for j in range(len(conti_col)//20 + 1):\n",
    "#     plt.figure(figsize=(15,15));\n",
    "#     for i in range(1,21):\n",
    "#         plt.subplot( 4,5,i);\n",
    "#         if j*20 + i < len(conti_col):\n",
    "#             index.boxplot(conti_col[j*20+i]);\n",
    "#         else:\n",
    "#             continue\n",
    "#     plt.show();"
   ]
  },
  {
   "cell_type": "code",
   "execution_count": 12,
   "metadata": {
    "scrolled": false
   },
   "outputs": [],
   "source": [
    "# for j in range(len(conti_col)//18 + 1):\n",
    "#     plt.figure(figsize=(15,30));\n",
    "#     for i in range(1,19):\n",
    "#         plt.subplot( 6,3,i);\n",
    "#         if j*18 + i < len(conti_col):\n",
    "#             sns.boxplot(x = 'flag',y = conti_col[j*18+i],data = index);\n",
    "#         else:\n",
    "#             continue\n",
    "#     plt.show();\n",
    "\n",
    "\n",
    "# # plt.figure(figsize=(15,30))\n",
    "# # for i in range(len(index.columns) - 1):\n",
    "# #     plt.subplot(6,3,i +1);\n",
    "# #     sns.boxplot(x = 'flag',y = index.columns[i],data = index);\n",
    "# # plt.show();"
   ]
  },
  {
   "cell_type": "code",
   "execution_count": 13,
   "metadata": {
    "scrolled": false
   },
   "outputs": [],
   "source": [
    "# index.iloc[:,:-1].plot(subplots=True,figsize=(15,30),layout = (6,3));"
   ]
  },
  {
   "cell_type": "code",
   "execution_count": 14,
   "metadata": {
    "scrolled": true
   },
   "outputs": [],
   "source": [
    "# index.iloc[:,:4].plot()"
   ]
  },
  {
   "cell_type": "markdown",
   "metadata": {},
   "source": [
    "#### 总结\n",
    "连续型+离散型（bool）；\n",
    "数据严重不平衡；\n",
    "数据量纲差异很大，需要归一化；\n",
    "根据flag进行分类，发现['K、D、J','RSI','CCI']各类分布差异比较大,且离群值较少。\n",
    "是否处理：\n",
    "离群值\n",
    "正态性\n",
    "离散bool变量\n",
    "\n",
    "Xgboost数据类型必须是int、float或bool，以上数据均满足。"
   ]
  },
  {
   "cell_type": "markdown",
   "metadata": {},
   "source": [
    "## 数据预处理\n"
   ]
  },
  {
   "cell_type": "code",
   "execution_count": 15,
   "metadata": {},
   "outputs": [],
   "source": [
    "from IPython.core.interactiveshell import InteractiveShell\n",
    "InteractiveShell.ast_node_interactivity = \"all\" "
   ]
  },
  {
   "cell_type": "code",
   "execution_count": 16,
   "metadata": {
    "scrolled": true
   },
   "outputs": [
    {
     "name": "stderr",
     "output_type": "stream",
     "text": [
      "D:\\set_up\\anaconda\\lib\\site-packages\\ipykernel_launcher.py:11: UserWarning: Pandas doesn't allow columns to be created via a new attribute name - see https://pandas.pydata.org/pandas-docs/stable/indexing.html#attribute-access\n",
      "  # This is added back by InteractiveShellApp.init_path()\n",
      "D:\\set_up\\anaconda\\lib\\site-packages\\ipykernel_launcher.py:13: UserWarning: Pandas doesn't allow columns to be created via a new attribute name - see https://pandas.pydata.org/pandas-docs/stable/indexing.html#attribute-access\n",
      "  del sys.path[0]\n"
     ]
    }
   ],
   "source": [
    "index.rename({'flag':'target'},inplace = True,axis = 1)\n",
    "# （1，-1） V 0\n",
    "# index.loc[(index.target == 1) | (index.target == -1),'target'] = 1\n",
    "\n",
    "# 1 V 0\n",
    "# index = index[index.target != -1]\n",
    "\n",
    "# 1 V 0 & target = 1 的+_1均为1\n",
    "# index = index[index.target != -1]\n",
    "index.loc[index.target == -1,'target'] = 0\n",
    "index.target_shift1 = index.target.shift(1)\n",
    "index.target_shift1.fillna(0,inplace = True)\n",
    "index.target_shift2 = index.target.shift(-1)\n",
    "index.target_shift2.fillna(0,inplace = True)\n",
    "index.target += index.target_shift1\n",
    "index.target += index.target_shift2"
   ]
  },
  {
   "cell_type": "markdown",
   "metadata": {},
   "source": [
    "### 均值填充"
   ]
  },
  {
   "cell_type": "code",
   "execution_count": 50,
   "metadata": {},
   "outputs": [],
   "source": [
    "for column in list(index.columns[index.isnull().sum() > 0]):\n",
    "    mean_val = index[column].mean()\n",
    "    index[column].fillna(mean_val, inplace=True)"
   ]
  },
  {
   "cell_type": "markdown",
   "metadata": {},
   "source": [
    "### 归一化"
   ]
  },
  {
   "cell_type": "code",
   "execution_count": 51,
   "metadata": {},
   "outputs": [],
   "source": [
    "from sklearn.preprocessing import StandardScaler\n",
    "\n",
    "## bool变量单独处理\n",
    "ss = StandardScaler()\n",
    "std_index = pd.DataFrame(ss.fit_transform(index[conti_col]),columns = list(conti_col),index = index.index)\n",
    "\n",
    "std_index = pd.DataFrame(std_index)\n",
    "std_index = std_index.merge(index[unconti_col],left_index = True,right_index = True,how = 'left')\n",
    "std_index = std_index.merge(index['target'],left_index = True,right_index = True,how = 'left')"
   ]
  },
  {
   "cell_type": "code",
   "execution_count": 52,
   "metadata": {},
   "outputs": [],
   "source": [
    "# index.to_csv('./data/sz50_process_data.csv')\n",
    "# std_index.to_csv('./data/sz50_process_std_data.csv')"
   ]
  },
  {
   "cell_type": "markdown",
   "metadata": {},
   "source": [
    "## 特征工程"
   ]
  },
  {
   "cell_type": "markdown",
   "metadata": {},
   "source": [
    "### 特征筛选"
   ]
  },
  {
   "cell_type": "code",
   "execution_count": 53,
   "metadata": {},
   "outputs": [],
   "source": [
    "#FEATURE.py 做特征筛选\n",
    "selected_std_index = pd.read_csv('./data/sz50_process_std_data_selected.csv',index_col =0)\n",
    "selected_std_col = list(selected_std_index.columns)"
   ]
  },
  {
   "cell_type": "code",
   "execution_count": 54,
   "metadata": {
    "scrolled": true
   },
   "outputs": [
    {
     "data": {
      "text/plain": [
       "30"
      ]
     },
     "execution_count": 54,
     "metadata": {},
     "output_type": "execute_result"
    }
   ],
   "source": [
    "len(selected_std_col)"
   ]
  },
  {
   "cell_type": "code",
   "execution_count": 55,
   "metadata": {},
   "outputs": [
    {
     "name": "stdout",
     "output_type": "stream",
     "text": [
      "<class 'pandas.core.frame.DataFrame'>\n",
      "DatetimeIndex: 4141 entries, 2005-01-04 to 2022-01-14\n",
      "Data columns (total 30 columns):\n",
      " #   Column           Non-Null Count  Dtype  \n",
      "---  ------           --------------  -----  \n",
      " 0   turn             4141 non-null   float64\n",
      " 1   BOLL.2           4141 non-null   float64\n",
      " 2   PVT              4141 non-null   float64\n",
      " 3   ROC.1            4141 non-null   float64\n",
      " 4   down_days        4141 non-null   int64  \n",
      " 5   ADTM.1           4141 non-null   float64\n",
      " 6   MIKE             4141 non-null   float64\n",
      " 7   DMI_2.3          4141 non-null   float64\n",
      " 8   MTM.1            4141 non-null   float64\n",
      " 9   MACD_DEA         4141 non-null   float64\n",
      " 10  vol_ratio        4141 non-null   float64\n",
      " 11  div_compindex    4141 non-null   float64\n",
      " 12  tech_uppct       4141 non-null   float64\n",
      " 13  WVAD.1           4141 non-null   float64\n",
      " 14  DMA              4141 non-null   float64\n",
      " 15  up_days          4141 non-null   int64  \n",
      " 16  RC               4141 non-null   float64\n",
      " 17  TRIX             4141 non-null   float64\n",
      " 18  tech_limitupnum  4141 non-null   float64\n",
      " 19  VOSC             4141 non-null   float64\n",
      " 20  tech_upnum       4141 non-null   float64\n",
      " 21  slowKD.1         4141 non-null   float64\n",
      " 22  DPO.1            4141 non-null   float64\n",
      " 23  tech_limituppct  4141 non-null   float64\n",
      " 24  WVAD             4141 non-null   float64\n",
      " 25  DMI              4141 non-null   float64\n",
      " 26  DMI_2            4141 non-null   float64\n",
      " 27  close            4141 non-null   float64\n",
      " 28  vwap             4141 non-null   float64\n",
      " 29  CDP.3            4141 non-null   float64\n",
      "dtypes: float64(28), int64(2)\n",
      "memory usage: 1.1 MB\n"
     ]
    }
   ],
   "source": [
    "std_index[selected_std_col].info()"
   ]
  },
  {
   "cell_type": "markdown",
   "metadata": {},
   "source": [
    "### PCA"
   ]
  },
  {
   "cell_type": "code",
   "execution_count": 56,
   "metadata": {},
   "outputs": [],
   "source": [
    "pca_X = std_index[selected_std_col].copy()"
   ]
  },
  {
   "cell_type": "code",
   "execution_count": 57,
   "metadata": {
    "scrolled": true
   },
   "outputs": [
    {
     "data": {
      "text/plain": [
       "PCA(n_components='mle')"
      ]
     },
     "execution_count": 57,
     "metadata": {},
     "output_type": "execute_result"
    },
    {
     "data": {
      "text/plain": [
       "[<matplotlib.lines.Line2D at 0x2517a759048>]"
      ]
     },
     "execution_count": 57,
     "metadata": {},
     "output_type": "execute_result"
    },
    {
     "data": {
      "text/plain": [
       "Text(0.5, 1.0, 'PCA')"
      ]
     },
     "execution_count": 57,
     "metadata": {},
     "output_type": "execute_result"
    },
    {
     "data": {
      "text/plain": [
       "Text(1, 0.6645027478112487, '0.6645')"
      ]
     },
     "execution_count": 57,
     "metadata": {},
     "output_type": "execute_result"
    },
    {
     "data": {
      "text/plain": [
       "Text(2, 0.7660453878933153, '0.766')"
      ]
     },
     "execution_count": 57,
     "metadata": {},
     "output_type": "execute_result"
    },
    {
     "data": {
      "text/plain": [
       "Text(3, 0.8262168936225183, '0.8262')"
      ]
     },
     "execution_count": 57,
     "metadata": {},
     "output_type": "execute_result"
    },
    {
     "data": {
      "text/plain": [
       "Text(4, 0.8715032843972366, '0.8715')"
      ]
     },
     "execution_count": 57,
     "metadata": {},
     "output_type": "execute_result"
    },
    {
     "data": {
      "text/plain": [
       "Text(5, 0.8930761758266074, '0.8931')"
      ]
     },
     "execution_count": 57,
     "metadata": {},
     "output_type": "execute_result"
    },
    {
     "data": {
      "text/plain": [
       "Text(6, 0.9078687163714426, '0.9079')"
      ]
     },
     "execution_count": 57,
     "metadata": {},
     "output_type": "execute_result"
    },
    {
     "data": {
      "text/plain": [
       "Text(7, 0.9219385807968186, '0.9219')"
      ]
     },
     "execution_count": 57,
     "metadata": {},
     "output_type": "execute_result"
    },
    {
     "data": {
      "text/plain": [
       "Text(8, 0.9335203239896465, '0.9335')"
      ]
     },
     "execution_count": 57,
     "metadata": {},
     "output_type": "execute_result"
    },
    {
     "data": {
      "text/plain": [
       "Text(9, 0.9444149457746563, '0.9444')"
      ]
     },
     "execution_count": 57,
     "metadata": {},
     "output_type": "execute_result"
    },
    {
     "data": {
      "text/plain": [
       "Text(10, 0.9544327037209882, '0.9544')"
      ]
     },
     "execution_count": 57,
     "metadata": {},
     "output_type": "execute_result"
    },
    {
     "data": {
      "image/png": "[encoded data removed]",
      "text/plain": [
       "<Figure size 432x288 with 1 Axes>"
      ]
     },
     "metadata": {
      "needs_background": "light"
     },
     "output_type": "display_data"
    },
    {
     "data": {
      "text/plain": [
       "'手肘法选n_components = 6'"
      ]
     },
     "execution_count": 57,
     "metadata": {},
     "output_type": "execute_result"
    }
   ],
   "source": [
    "from sklearn.decomposition import PCA\n",
    "pca = PCA(n_components='mle') #mle表示自动选最优\n",
    "pca.fit(pca_X)\n",
    "\n",
    "n_max = 10\n",
    "x = np.arange(1,n_max +1)\n",
    "y = pca.explained_variance_ratio_.cumsum()[:n_max]\n",
    "plt.plot(x,y);\n",
    "plt.title('PCA');\n",
    "# 设置数字标签\n",
    "for a, b in zip(x, y):\n",
    "    plt.text(a, b, round(b,4), ha='center', va='bottom');\n",
    "plt.show()\n",
    "'''手肘法选n_components = 6'''"
   ]
  },
  {
   "cell_type": "code",
   "execution_count": 58,
   "metadata": {},
   "outputs": [],
   "source": [
    "tar_n = 5"
   ]
  },
  {
   "cell_type": "code",
   "execution_count": 59,
   "metadata": {},
   "outputs": [
    {
     "data": {
      "text/plain": [
       "PCA(n_components=5)"
      ]
     },
     "execution_count": 59,
     "metadata": {},
     "output_type": "execute_result"
    },
    {
     "name": "stdout",
     "output_type": "stream",
     "text": [
      "PCA保留89.31%的信息\n"
     ]
    }
   ],
   "source": [
    "pca = PCA(n_components= tar_n)\n",
    "pca.fit(pca_X)\n",
    "print('PCA保留{:.2%}的信息'.format(pca.explained_variance_ratio_.sum()))\n",
    "PCA_out = pd.DataFrame(pca.transform(pca_X),columns = ['PCA_' + str(i) for i in range(tar_n)],index = index.index)\n",
    "PCA_out = PCA_out.merge(index.target,left_index = True,right_index = True,how = 'left')"
   ]
  },
  {
   "cell_type": "code",
   "execution_count": 60,
   "metadata": {
    "scrolled": true
   },
   "outputs": [
    {
     "data": {
      "text/html": [
       "<div>\n",
       "<style scoped>\n",
       "    .dataframe tbody tr th:only-of-type {\n",
       "        vertical-align: middle;\n",
       "    }\n",
       "\n",
       "    .dataframe tbody tr th {\n",
       "        vertical-align: top;\n",
       "    }\n",
       "\n",
       "    .dataframe thead th {\n",
       "        text-align: right;\n",
       "    }\n",
       "</style>\n",
       "<table border=\"1\" class=\"dataframe\">\n",
       "  <thead>\n",
       "    <tr style=\"text-align: right;\">\n",
       "      <th></th>\n",
       "      <th>PCA_0</th>\n",
       "      <th>PCA_1</th>\n",
       "      <th>PCA_2</th>\n",
       "      <th>PCA_3</th>\n",
       "      <th>PCA_4</th>\n",
       "      <th>target</th>\n",
       "    </tr>\n",
       "    <tr>\n",
       "      <th>DATETIME</th>\n",
       "      <th></th>\n",
       "      <th></th>\n",
       "      <th></th>\n",
       "      <th></th>\n",
       "      <th></th>\n",
       "      <th></th>\n",
       "    </tr>\n",
       "  </thead>\n",
       "  <tbody>\n",
       "    <tr>\n",
       "      <th>2005-01-04</th>\n",
       "      <td>-3.547704</td>\n",
       "      <td>2.793830</td>\n",
       "      <td>-3.989531</td>\n",
       "      <td>-1.940137</td>\n",
       "      <td>0.365867</td>\n",
       "      <td>0.0</td>\n",
       "    </tr>\n",
       "    <tr>\n",
       "      <th>2005-01-05</th>\n",
       "      <td>-3.274525</td>\n",
       "      <td>2.403393</td>\n",
       "      <td>-3.506525</td>\n",
       "      <td>1.667669</td>\n",
       "      <td>1.215214</td>\n",
       "      <td>0.0</td>\n",
       "    </tr>\n",
       "    <tr>\n",
       "      <th>2005-01-06</th>\n",
       "      <td>-3.491885</td>\n",
       "      <td>2.827159</td>\n",
       "      <td>-3.725191</td>\n",
       "      <td>-0.486269</td>\n",
       "      <td>0.970314</td>\n",
       "      <td>0.0</td>\n",
       "    </tr>\n",
       "    <tr>\n",
       "      <th>2005-01-07</th>\n",
       "      <td>-3.288378</td>\n",
       "      <td>2.604772</td>\n",
       "      <td>-3.507540</td>\n",
       "      <td>1.696177</td>\n",
       "      <td>1.382683</td>\n",
       "      <td>0.0</td>\n",
       "    </tr>\n",
       "    <tr>\n",
       "      <th>2005-01-10</th>\n",
       "      <td>-3.244417</td>\n",
       "      <td>2.473050</td>\n",
       "      <td>-3.336949</td>\n",
       "      <td>2.445230</td>\n",
       "      <td>1.616724</td>\n",
       "      <td>0.0</td>\n",
       "    </tr>\n",
       "    <tr>\n",
       "      <th>...</th>\n",
       "      <td>...</td>\n",
       "      <td>...</td>\n",
       "      <td>...</td>\n",
       "      <td>...</td>\n",
       "      <td>...</td>\n",
       "      <td>...</td>\n",
       "    </tr>\n",
       "    <tr>\n",
       "      <th>2022-01-10</th>\n",
       "      <td>-3.192846</td>\n",
       "      <td>-0.069117</td>\n",
       "      <td>3.614402</td>\n",
       "      <td>1.215845</td>\n",
       "      <td>1.554558</td>\n",
       "      <td>0.0</td>\n",
       "    </tr>\n",
       "    <tr>\n",
       "      <th>2022-01-11</th>\n",
       "      <td>-3.446706</td>\n",
       "      <td>0.396748</td>\n",
       "      <td>3.375157</td>\n",
       "      <td>-1.566999</td>\n",
       "      <td>1.014316</td>\n",
       "      <td>0.0</td>\n",
       "    </tr>\n",
       "    <tr>\n",
       "      <th>2022-01-12</th>\n",
       "      <td>-3.280076</td>\n",
       "      <td>0.310278</td>\n",
       "      <td>3.512234</td>\n",
       "      <td>0.414869</td>\n",
       "      <td>1.410884</td>\n",
       "      <td>0.0</td>\n",
       "    </tr>\n",
       "    <tr>\n",
       "      <th>2022-01-13</th>\n",
       "      <td>-3.474970</td>\n",
       "      <td>0.824279</td>\n",
       "      <td>3.243643</td>\n",
       "      <td>-1.459497</td>\n",
       "      <td>0.870055</td>\n",
       "      <td>0.0</td>\n",
       "    </tr>\n",
       "    <tr>\n",
       "      <th>2022-01-14</th>\n",
       "      <td>-3.590313</td>\n",
       "      <td>1.439925</td>\n",
       "      <td>3.068503</td>\n",
       "      <td>-2.096415</td>\n",
       "      <td>0.760683</td>\n",
       "      <td>0.0</td>\n",
       "    </tr>\n",
       "  </tbody>\n",
       "</table>\n",
       "<p>4141 rows × 6 columns</p>\n",
       "</div>"
      ],
      "text/plain": [
       "               PCA_0     PCA_1     PCA_2     PCA_3     PCA_4  target\n",
       "DATETIME                                                            \n",
       "2005-01-04 -3.547704  2.793830 -3.989531 -1.940137  0.365867     0.0\n",
       "2005-01-05 -3.274525  2.403393 -3.506525  1.667669  1.215214     0.0\n",
       "2005-01-06 -3.491885  2.827159 -3.725191 -0.486269  0.970314     0.0\n",
       "2005-01-07 -3.288378  2.604772 -3.507540  1.696177  1.382683     0.0\n",
       "2005-01-10 -3.244417  2.473050 -3.336949  2.445230  1.616724     0.0\n",
       "...              ...       ...       ...       ...       ...     ...\n",
       "2022-01-10 -3.192846 -0.069117  3.614402  1.215845  1.554558     0.0\n",
       "2022-01-11 -3.446706  0.396748  3.375157 -1.566999  1.014316     0.0\n",
       "2022-01-12 -3.280076  0.310278  3.512234  0.414869  1.410884     0.0\n",
       "2022-01-13 -3.474970  0.824279  3.243643 -1.459497  0.870055     0.0\n",
       "2022-01-14 -3.590313  1.439925  3.068503 -2.096415  0.760683     0.0\n",
       "\n",
       "[4141 rows x 6 columns]"
      ]
     },
     "execution_count": 60,
     "metadata": {},
     "output_type": "execute_result"
    }
   ],
   "source": [
    "PCA_out"
   ]
  },
  {
   "cell_type": "markdown",
   "metadata": {},
   "source": [
    "### 划分验证集"
   ]
  },
  {
   "cell_type": "code",
   "execution_count": 61,
   "metadata": {},
   "outputs": [],
   "source": [
    "# std_index[selected_std_col + ['target']] # 筛选后的变量 -> LR\n",
    "# PCA_out #筛选后 + PCA\n",
    "# std_index #归一化，未筛选，未PCA -> XGB RF\n",
    "train_test_in = std_index .copy()"
   ]
  },
  {
   "cell_type": "code",
   "execution_count": 62,
   "metadata": {
    "scrolled": true
   },
   "outputs": [
    {
     "data": {
      "text/plain": [
       "'validation_train'"
      ]
     },
     "execution_count": 62,
     "metadata": {},
     "output_type": "execute_result"
    },
    {
     "name": "stdout",
     "output_type": "stream",
     "text": [
      "Index(['open', 'high', 'low', 'close', 'volume', 'amt', 'pct_chg', 'turn',\n",
      "       'MACD_MACD', 'MACD_DIFF',\n",
      "       ...\n",
      "       'history_high', 'stage_low', 'up_days', 'down_days', 'breakout_ma',\n",
      "       'breakdown_ma', 'history_high_days', 'history_low_days', 'bull_bear_ma',\n",
      "       'bull_bear_ma.1'],\n",
      "      dtype='object', length=103)\n",
      "Index(['target'], dtype='object')\n"
     ]
    },
    {
     "data": {
      "text/plain": [
       "'validation_test'"
      ]
     },
     "execution_count": 62,
     "metadata": {},
     "output_type": "execute_result"
    },
    {
     "name": "stdout",
     "output_type": "stream",
     "text": [
      "Index(['open', 'high', 'low', 'close', 'volume', 'amt', 'pct_chg', 'turn',\n",
      "       'MACD_MACD', 'MACD_DIFF',\n",
      "       ...\n",
      "       'history_high', 'stage_low', 'up_days', 'down_days', 'breakout_ma',\n",
      "       'breakdown_ma', 'history_high_days', 'history_low_days', 'bull_bear_ma',\n",
      "       'bull_bear_ma.1'],\n",
      "      dtype='object', length=103)\n",
      "Index(['target'], dtype='object')\n"
     ]
    }
   ],
   "source": [
    "validation_train = train_test_in.iloc[:-int(len(train_test_in)*0.3),:]\n",
    "validation_test = train_test_in.iloc[-int(len(train_test_in)*0.3):,:]\n",
    "\n",
    "'''validation_train'''\n",
    "validation_train_f = validation_train.drop(['target'], axis=1)\n",
    "validation_train_l = validation_train[['target']]\n",
    "print(validation_train_f.columns)\n",
    "print(validation_train_l.columns)\n",
    "\n",
    "'''validation_test'''\n",
    "validation_test_f = validation_test.drop(['target'], axis=1)\n",
    "validation_test_l = validation_test[['target']]\n",
    "print(validation_test_f.columns)\n",
    "print(validation_test_l.columns)"
   ]
  },
  {
   "cell_type": "code",
   "execution_count": 63,
   "metadata": {},
   "outputs": [
    {
     "data": {
      "text/html": [
       "<div>\n",
       "<style scoped>\n",
       "    .dataframe tbody tr th:only-of-type {\n",
       "        vertical-align: middle;\n",
       "    }\n",
       "\n",
       "    .dataframe tbody tr th {\n",
       "        vertical-align: top;\n",
       "    }\n",
       "\n",
       "    .dataframe thead th {\n",
       "        text-align: right;\n",
       "    }\n",
       "</style>\n",
       "<table border=\"1\" class=\"dataframe\">\n",
       "  <thead>\n",
       "    <tr style=\"text-align: right;\">\n",
       "      <th></th>\n",
       "      <th>open</th>\n",
       "      <th>high</th>\n",
       "      <th>low</th>\n",
       "      <th>close</th>\n",
       "      <th>volume</th>\n",
       "      <th>amt</th>\n",
       "      <th>pct_chg</th>\n",
       "      <th>turn</th>\n",
       "      <th>MACD_MACD</th>\n",
       "      <th>MACD_DIFF</th>\n",
       "      <th>...</th>\n",
       "      <th>stage_low</th>\n",
       "      <th>up_days</th>\n",
       "      <th>down_days</th>\n",
       "      <th>breakout_ma</th>\n",
       "      <th>breakdown_ma</th>\n",
       "      <th>history_high_days</th>\n",
       "      <th>history_low_days</th>\n",
       "      <th>bull_bear_ma</th>\n",
       "      <th>bull_bear_ma.1</th>\n",
       "      <th>target</th>\n",
       "    </tr>\n",
       "    <tr>\n",
       "      <th>DATETIME</th>\n",
       "      <th></th>\n",
       "      <th></th>\n",
       "      <th></th>\n",
       "      <th></th>\n",
       "      <th></th>\n",
       "      <th></th>\n",
       "      <th></th>\n",
       "      <th></th>\n",
       "      <th></th>\n",
       "      <th></th>\n",
       "      <th></th>\n",
       "      <th></th>\n",
       "      <th></th>\n",
       "      <th></th>\n",
       "      <th></th>\n",
       "      <th></th>\n",
       "      <th></th>\n",
       "      <th></th>\n",
       "      <th></th>\n",
       "      <th></th>\n",
       "      <th></th>\n",
       "    </tr>\n",
       "  </thead>\n",
       "  <tbody>\n",
       "    <tr>\n",
       "      <th>2022-01-10</th>\n",
       "      <td>1.234858</td>\n",
       "      <td>1.219134</td>\n",
       "      <td>1.253420</td>\n",
       "      <td>1.256795</td>\n",
       "      <td>0.073465</td>\n",
       "      <td>0.787821</td>\n",
       "      <td>0.209087</td>\n",
       "      <td>-0.450075</td>\n",
       "      <td>-0.646346</td>\n",
       "      <td>-0.196237</td>\n",
       "      <td>...</td>\n",
       "      <td>False</td>\n",
       "      <td>2</td>\n",
       "      <td>0</td>\n",
       "      <td>False</td>\n",
       "      <td>True</td>\n",
       "      <td>0</td>\n",
       "      <td>0</td>\n",
       "      <td>False</td>\n",
       "      <td>False</td>\n",
       "      <td>0.0</td>\n",
       "    </tr>\n",
       "    <tr>\n",
       "      <th>2022-01-11</th>\n",
       "      <td>1.250169</td>\n",
       "      <td>1.232509</td>\n",
       "      <td>1.269419</td>\n",
       "      <td>1.229499</td>\n",
       "      <td>-0.016135</td>\n",
       "      <td>0.725915</td>\n",
       "      <td>-0.422879</td>\n",
       "      <td>-0.474231</td>\n",
       "      <td>-0.670374</td>\n",
       "      <td>-0.246768</td>\n",
       "      <td>...</td>\n",
       "      <td>False</td>\n",
       "      <td>0</td>\n",
       "      <td>1</td>\n",
       "      <td>False</td>\n",
       "      <td>False</td>\n",
       "      <td>0</td>\n",
       "      <td>0</td>\n",
       "      <td>False</td>\n",
       "      <td>False</td>\n",
       "      <td>0.0</td>\n",
       "    </tr>\n",
       "    <tr>\n",
       "      <th>2022-01-12</th>\n",
       "      <td>1.238459</td>\n",
       "      <td>1.227909</td>\n",
       "      <td>1.270541</td>\n",
       "      <td>1.257038</td>\n",
       "      <td>0.042422</td>\n",
       "      <td>0.715908</td>\n",
       "      <td>0.374477</td>\n",
       "      <td>-0.458458</td>\n",
       "      <td>-0.549059</td>\n",
       "      <td>-0.250967</td>\n",
       "      <td>...</td>\n",
       "      <td>False</td>\n",
       "      <td>1</td>\n",
       "      <td>0</td>\n",
       "      <td>False</td>\n",
       "      <td>False</td>\n",
       "      <td>0</td>\n",
       "      <td>0</td>\n",
       "      <td>False</td>\n",
       "      <td>True</td>\n",
       "      <td>0.0</td>\n",
       "    </tr>\n",
       "    <tr>\n",
       "      <th>2022-01-13</th>\n",
       "      <td>1.267343</td>\n",
       "      <td>1.232401</td>\n",
       "      <td>1.234158</td>\n",
       "      <td>1.191032</td>\n",
       "      <td>0.119627</td>\n",
       "      <td>0.833432</td>\n",
       "      <td>-0.983804</td>\n",
       "      <td>-0.437612</td>\n",
       "      <td>-0.686561</td>\n",
       "      <td>-0.332490</td>\n",
       "      <td>...</td>\n",
       "      <td>False</td>\n",
       "      <td>0</td>\n",
       "      <td>1</td>\n",
       "      <td>False</td>\n",
       "      <td>False</td>\n",
       "      <td>0</td>\n",
       "      <td>0</td>\n",
       "      <td>False</td>\n",
       "      <td>True</td>\n",
       "      <td>0.0</td>\n",
       "    </tr>\n",
       "    <tr>\n",
       "      <th>2022-01-14</th>\n",
       "      <td>1.179881</td>\n",
       "      <td>1.139826</td>\n",
       "      <td>1.175483</td>\n",
       "      <td>1.134053</td>\n",
       "      <td>0.110877</td>\n",
       "      <td>0.732255</td>\n",
       "      <td>-0.866507</td>\n",
       "      <td>-0.439928</td>\n",
       "      <td>-0.944235</td>\n",
       "      <td>-0.462697</td>\n",
       "      <td>...</td>\n",
       "      <td>False</td>\n",
       "      <td>0</td>\n",
       "      <td>2</td>\n",
       "      <td>False</td>\n",
       "      <td>False</td>\n",
       "      <td>0</td>\n",
       "      <td>0</td>\n",
       "      <td>False</td>\n",
       "      <td>True</td>\n",
       "      <td>0.0</td>\n",
       "    </tr>\n",
       "  </tbody>\n",
       "</table>\n",
       "<p>5 rows × 104 columns</p>\n",
       "</div>"
      ],
      "text/plain": [
       "                open      high       low     close    volume       amt  \\\n",
       "DATETIME                                                                 \n",
       "2022-01-10  1.234858  1.219134  1.253420  1.256795  0.073465  0.787821   \n",
       "2022-01-11  1.250169  1.232509  1.269419  1.229499 -0.016135  0.725915   \n",
       "2022-01-12  1.238459  1.227909  1.270541  1.257038  0.042422  0.715908   \n",
       "2022-01-13  1.267343  1.232401  1.234158  1.191032  0.119627  0.833432   \n",
       "2022-01-14  1.179881  1.139826  1.175483  1.134053  0.110877  0.732255   \n",
       "\n",
       "             pct_chg      turn  MACD_MACD  MACD_DIFF  ...  stage_low  up_days  \\\n",
       "DATETIME                                              ...                       \n",
       "2022-01-10  0.209087 -0.450075  -0.646346  -0.196237  ...      False        2   \n",
       "2022-01-11 -0.422879 -0.474231  -0.670374  -0.246768  ...      False        0   \n",
       "2022-01-12  0.374477 -0.458458  -0.549059  -0.250967  ...      False        1   \n",
       "2022-01-13 -0.983804 -0.437612  -0.686561  -0.332490  ...      False        0   \n",
       "2022-01-14 -0.866507 -0.439928  -0.944235  -0.462697  ...      False        0   \n",
       "\n",
       "            down_days  breakout_ma  breakdown_ma  history_high_days  \\\n",
       "DATETIME                                                              \n",
       "2022-01-10          0        False          True                  0   \n",
       "2022-01-11          1        False         False                  0   \n",
       "2022-01-12          0        False         False                  0   \n",
       "2022-01-13          1        False         False                  0   \n",
       "2022-01-14          2        False         False                  0   \n",
       "\n",
       "            history_low_days  bull_bear_ma  bull_bear_ma.1  target  \n",
       "DATETIME                                                            \n",
       "2022-01-10                 0         False           False     0.0  \n",
       "2022-01-11                 0         False           False     0.0  \n",
       "2022-01-12                 0         False            True     0.0  \n",
       "2022-01-13                 0         False            True     0.0  \n",
       "2022-01-14                 0         False            True     0.0  \n",
       "\n",
       "[5 rows x 104 columns]"
      ]
     },
     "execution_count": 63,
     "metadata": {},
     "output_type": "execute_result"
    }
   ],
   "source": [
    "validation_test.tail()"
   ]
  },
  {
   "cell_type": "markdown",
   "metadata": {},
   "source": [
    "### SMOTE上采样"
   ]
  },
  {
   "cell_type": "code",
   "execution_count": 64,
   "metadata": {},
   "outputs": [],
   "source": [
    "smote_train_x_in =  validation_train_f.copy()\n",
    "smote_train_y_in = validation_train_l.copy()"
   ]
  },
  {
   "cell_type": "code",
   "execution_count": 65,
   "metadata": {
    "scrolled": false
   },
   "outputs": [],
   "source": [
    "# 使用imlbearn库中上采样方法中的SMOTE接口\n",
    "from imblearn.over_sampling import SMOTE,ADASYN \n",
    "# 定义SMOTE模型，random_state相当于随机数种子的作用\n",
    "smo = SMOTE(random_state=42)\n",
    "smote_train_x_out, smote_train_y_out = smo.fit_resample(smote_train_x_in, smote_train_y_in)"
   ]
  },
  {
   "cell_type": "code",
   "execution_count": 66,
   "metadata": {
    "scrolled": false
   },
   "outputs": [
    {
     "data": {
      "text/plain": [
       "1.0    2572\n",
       "0.0    2572\n",
       "Name: target, dtype: int64"
      ]
     },
     "execution_count": 66,
     "metadata": {},
     "output_type": "execute_result"
    }
   ],
   "source": [
    "smote_train_y_out.target.value_counts()"
   ]
  },
  {
   "cell_type": "markdown",
   "metadata": {},
   "source": [
    "## 搭建模型"
   ]
  },
  {
   "cell_type": "code",
   "execution_count": 67,
   "metadata": {},
   "outputs": [],
   "source": [
    "import pandas as pd\n",
    "import numpy as np\n",
    "import datetime\n",
    "import xgboost as xgb\n",
    "from xgboost import plot_importance\n",
    "from sklearn.metrics import roc_auc_score\n",
    "import matplotlib.pyplot as plt\n",
    "from sklearn.metrics import confusion_matrix,recall_score,roc_auc_score,precision_score"
   ]
  },
  {
   "cell_type": "markdown",
   "metadata": {},
   "source": [
    "### XGBOOST\n",
    "测试集：过去1242天的数据,即30%的数据。\n",
    "训练集：1 ~ 2899天数据，即70%的数据。"
   ]
  },
  {
   "cell_type": "code",
   "execution_count": 68,
   "metadata": {},
   "outputs": [],
   "source": [
    "params = {\n",
    "    'booster': 'gbtree',\n",
    "    'objective': 'binary:logistic',\n",
    "    'gamma': 0.1,  # 用于控制是否后剪枝的参数,越大越保守，一般0.1、0.2这样子。\n",
    "    'max_depth': 2,  # 构建树的深度，越大越容易过拟合\n",
    "    'lambda': 2,  # 控制模型复杂度的权重值的L2正则化项参数，参数越大，模型越不容易过拟合。\n",
    "    'subsample': 0.8,  # 随机采样训练样本\n",
    "    'colsample_bytree': 0.8,  # 生成树时进行的列采样\n",
    "    'min_child_weight': 18,\n",
    "    'silent': 0,  # 设置成1则没有运行信息输出，最好是设置为0.\n",
    "    'eta': 0.03,  # 如同学习率\n",
    "    'eval_metric': 'auc',\n",
    "}"
   ]
  },
  {
   "cell_type": "code",
   "execution_count": 69,
   "metadata": {},
   "outputs": [],
   "source": [
    "params1 =  {\n",
    "    'booster': 'gbtree',\n",
    "    'objective': 'binary:logistic',\n",
    "    'gamma': 0.1,  # 用于控制是否后剪枝的参数,越大越保守，一般0.1、0.2这样子。\n",
    "    'max_depth': 3,  # 构建树的深度，越大越容易过拟合\n",
    "    'lambda': 4,  # 控制模型复杂度的权重值的L2正则化项参数，参数越大，模型越不容易过拟合。\n",
    "    'alpha':3, #权重的L1正则化项。\n",
    "    'subsample': 0.5,  # 随机采样训练样本\n",
    "    'colsample_bytree': 0.8,  # 生成树时进行的列采样\n",
    "    'min_child_weight': 10,\n",
    "    'silent': 0,  # 设置成1则没有运行信息输出，最好是设置为0.\n",
    "    'eta': 0.03,  # 如同学习率\n",
    "    'eval_metric': 'auc'\n",
    "    \n",
    "}"
   ]
  },
  {
   "cell_type": "code",
   "execution_count": 70,
   "metadata": {
    "scrolled": true
   },
   "outputs": [],
   "source": [
    "def XGB_train_func(params,validation_train_f,validation_train_l,validation_test_f,validation_test_l ):\n",
    "    xgb_train = xgb.DMatrix(validation_train_f, label=validation_train_l)\n",
    "    xgb_test = xgb.DMatrix(validation_test_f, label=validation_test_l)\n",
    "    watchlist = [(xgb_train, 'train'), (xgb_test, 'val')]\n",
    "    module = xgb.train(params, xgb_train, num_boost_round=200, evals=watchlist)\n",
    "    result = module.predict(xgb_test)\n",
    "    features = module.get_fscore()\n",
    "    features = list(dict(sorted(features.items(), key=lambda d: d[1])).keys())  #[-5:]\n",
    "    features.reverse()\n",
    "    print(features)\n",
    "    plot_importance(module)\n",
    "    plt.show()\n",
    "    print(\"auc:{0:.2%} \".format(roc_auc_score(validation_test_l.values, result)))\n",
    "    return result,features\n"
   ]
  },
  {
   "cell_type": "code",
   "execution_count": 71,
   "metadata": {},
   "outputs": [],
   "source": [
    "def judge(test_l,pre):\n",
    "    '''\n",
    "    输入两个series或np.array\n",
    "    '''\n",
    "    print('TN|FP')\n",
    "    print('FN|TP')\n",
    "    print(confusion_matrix(test_l,pre ))\n",
    "    TN, FP, FN, TP = confusion_matrix(test_l,pre ).ravel()\n",
    "\n",
    "    precision = TP / (TP+FP)  # 查准率\n",
    "    recall = TP / (TP+FN)  # 查全率\n",
    "    accuracy = (TP+TN)/(TP+FP+TN+FN)\n",
    "    print('precision:{0:.2%}, recall:{1:.2%}, accuracy:{2:.2%}'.format(precision,recall,accuracy))"
   ]
  },
  {
   "cell_type": "code",
   "execution_count": 72,
   "metadata": {},
   "outputs": [
    {
     "name": "stdout",
     "output_type": "stream",
     "text": [
      "[02:23:29] WARNING: C:\\Users\\Administrator\\workspace\\xgboost-win64_release_1.0.0\\src\\learner.cc:328: \n",
      "Parameters: { silent } might not be used.\n",
      "\n",
      "  This may not be accurate due to some parameters are only used in language bindings but\n",
      "  passed down to XGBoost core.  Or some parameters are not used but slip through this\n",
      "  verification. Please open an issue if you find above cases.\n",
      "\n",
      "\n",
      "[0]\ttrain-auc:0.75858\tval-auc:0.72922\n",
      "[1]\ttrain-auc:0.75931\tval-auc:0.73157\n",
      "[2]\ttrain-auc:0.78065\tval-auc:0.75471\n",
      "[3]\ttrain-auc:0.78066\tval-auc:0.75477\n",
      "[4]\ttrain-auc:0.78170\tval-auc:0.75551\n",
      "[5]\ttrain-auc:0.79109\tval-auc:0.76190\n",
      "[6]\ttrain-auc:0.79400\tval-auc:0.76609\n",
      "[7]\ttrain-auc:0.79301\tval-auc:0.76501\n",
      "[8]\ttrain-auc:0.79285\tval-auc:0.76485\n",
      "[9]\ttrain-auc:0.79398\tval-auc:0.76562\n",
      "[10]\ttrain-auc:0.79435\tval-auc:0.76663\n",
      "[11]\ttrain-auc:0.80780\tval-auc:0.77665\n",
      "[12]\ttrain-auc:0.81195\tval-auc:0.77880\n",
      "[13]\ttrain-auc:0.81905\tval-auc:0.77949\n",
      "[14]\ttrain-auc:0.81957\tval-auc:0.77832\n",
      "[15]\ttrain-auc:0.81987\tval-auc:0.77837\n",
      "[16]\ttrain-auc:0.81976\tval-auc:0.77870\n",
      "[17]\ttrain-auc:0.82591\tval-auc:0.77835\n",
      "[18]\ttrain-auc:0.82610\tval-auc:0.77851\n",
      "[19]\ttrain-auc:0.82618\tval-auc:0.77882\n",
      "[20]\ttrain-auc:0.82665\tval-auc:0.77857\n",
      "[21]\ttrain-auc:0.82994\tval-auc:0.78639\n",
      "[22]\ttrain-auc:0.82995\tval-auc:0.78634\n",
      "[23]\ttrain-auc:0.83357\tval-auc:0.78635\n",
      "[24]\ttrain-auc:0.83342\tval-auc:0.78629\n",
      "[25]\ttrain-auc:0.83319\tval-auc:0.78700\n",
      "[26]\ttrain-auc:0.83366\tval-auc:0.78658\n",
      "[27]\ttrain-auc:0.83381\tval-auc:0.78680\n",
      "[28]\ttrain-auc:0.83395\tval-auc:0.78681\n",
      "[29]\ttrain-auc:0.83387\tval-auc:0.78687\n",
      "[30]\ttrain-auc:0.83434\tval-auc:0.78684\n",
      "[31]\ttrain-auc:0.83454\tval-auc:0.78634\n",
      "[32]\ttrain-auc:0.83454\tval-auc:0.78617\n",
      "[33]\ttrain-auc:0.83439\tval-auc:0.78639\n",
      "[34]\ttrain-auc:0.83754\tval-auc:0.78747\n",
      "[35]\ttrain-auc:0.83781\tval-auc:0.78681\n",
      "[36]\ttrain-auc:0.83790\tval-auc:0.78701\n",
      "[37]\ttrain-auc:0.83847\tval-auc:0.78712\n",
      "[38]\ttrain-auc:0.83870\tval-auc:0.78743\n",
      "[39]\ttrain-auc:0.83893\tval-auc:0.78758\n",
      "[40]\ttrain-auc:0.84077\tval-auc:0.78410\n",
      "[41]\ttrain-auc:0.84083\tval-auc:0.78412\n",
      "[42]\ttrain-auc:0.83986\tval-auc:0.78548\n",
      "[43]\ttrain-auc:0.84014\tval-auc:0.78534\n",
      "[44]\ttrain-auc:0.84022\tval-auc:0.78538\n",
      "[45]\ttrain-auc:0.84051\tval-auc:0.78583\n",
      "[46]\ttrain-auc:0.84288\tval-auc:0.78527\n",
      "[47]\ttrain-auc:0.84377\tval-auc:0.78459\n",
      "[48]\ttrain-auc:0.84449\tval-auc:0.78412\n",
      "[49]\ttrain-auc:0.84842\tval-auc:0.78273\n",
      "[50]\ttrain-auc:0.84819\tval-auc:0.78279\n",
      "[51]\ttrain-auc:0.84791\tval-auc:0.78280\n",
      "[52]\ttrain-auc:0.84777\tval-auc:0.78224\n",
      "[53]\ttrain-auc:0.84879\tval-auc:0.78202\n",
      "[54]\ttrain-auc:0.85059\tval-auc:0.78202\n",
      "[55]\ttrain-auc:0.85090\tval-auc:0.78193\n",
      "[56]\ttrain-auc:0.85152\tval-auc:0.78197\n",
      "[57]\ttrain-auc:0.85151\tval-auc:0.78198\n",
      "[58]\ttrain-auc:0.85196\tval-auc:0.78130\n",
      "[59]\ttrain-auc:0.85243\tval-auc:0.78141\n",
      "[60]\ttrain-auc:0.85221\tval-auc:0.78144\n",
      "[61]\ttrain-auc:0.85264\tval-auc:0.78138\n",
      "[62]\ttrain-auc:0.85292\tval-auc:0.78152\n",
      "[63]\ttrain-auc:0.85316\tval-auc:0.78131\n",
      "[64]\ttrain-auc:0.85376\tval-auc:0.78056\n",
      "[65]\ttrain-auc:0.85355\tval-auc:0.78240\n",
      "[66]\ttrain-auc:0.85510\tval-auc:0.78622\n",
      "[67]\ttrain-auc:0.85550\tval-auc:0.78595\n",
      "[68]\ttrain-auc:0.85693\tval-auc:0.78649\n",
      "[69]\ttrain-auc:0.85703\tval-auc:0.78715\n",
      "[70]\ttrain-auc:0.85691\tval-auc:0.78718\n",
      "[71]\ttrain-auc:0.85733\tval-auc:0.78681\n",
      "[72]\ttrain-auc:0.85786\tval-auc:0.78651\n",
      "[73]\ttrain-auc:0.85836\tval-auc:0.78615\n",
      "[74]\ttrain-auc:0.85847\tval-auc:0.78695\n",
      "[75]\ttrain-auc:0.85984\tval-auc:0.78939\n",
      "[76]\ttrain-auc:0.86074\tval-auc:0.79100\n",
      "[77]\ttrain-auc:0.86158\tval-auc:0.79034\n",
      "[78]\ttrain-auc:0.86171\tval-auc:0.79028\n",
      "[79]\ttrain-auc:0.86216\tval-auc:0.78972\n",
      "[80]\ttrain-auc:0.86257\tval-auc:0.78963\n",
      "[81]\ttrain-auc:0.86281\tval-auc:0.78976\n",
      "[82]\ttrain-auc:0.86358\tval-auc:0.78933\n",
      "[83]\ttrain-auc:0.86352\tval-auc:0.78924\n",
      "[84]\ttrain-auc:0.86414\tval-auc:0.78911\n",
      "[85]\ttrain-auc:0.86421\tval-auc:0.78896\n",
      "[86]\ttrain-auc:0.86465\tval-auc:0.78867\n",
      "[87]\ttrain-auc:0.86487\tval-auc:0.78890\n",
      "[88]\ttrain-auc:0.86562\tval-auc:0.78834\n",
      "[89]\ttrain-auc:0.86596\tval-auc:0.78817\n",
      "[90]\ttrain-auc:0.86604\tval-auc:0.78789\n",
      "[91]\ttrain-auc:0.86638\tval-auc:0.78671\n",
      "[92]\ttrain-auc:0.86704\tval-auc:0.78584\n",
      "[93]\ttrain-auc:0.86736\tval-auc:0.78562\n",
      "[94]\ttrain-auc:0.86791\tval-auc:0.78624\n",
      "[95]\ttrain-auc:0.86815\tval-auc:0.78585\n",
      "[96]\ttrain-auc:0.86946\tval-auc:0.78597\n",
      "[97]\ttrain-auc:0.86984\tval-auc:0.78494\n",
      "[98]\ttrain-auc:0.87084\tval-auc:0.78499\n",
      "[99]\ttrain-auc:0.87144\tval-auc:0.78488\n",
      "[100]\ttrain-auc:0.87177\tval-auc:0.78408\n",
      "[101]\ttrain-auc:0.87201\tval-auc:0.78386\n",
      "[102]\ttrain-auc:0.87219\tval-auc:0.78377\n",
      "[103]\ttrain-auc:0.87231\tval-auc:0.78382\n",
      "[104]\ttrain-auc:0.87256\tval-auc:0.78360\n",
      "[105]\ttrain-auc:0.87281\tval-auc:0.78322\n",
      "[106]\ttrain-auc:0.87298\tval-auc:0.78340\n",
      "[107]\ttrain-auc:0.87321\tval-auc:0.78330\n",
      "[108]\ttrain-auc:0.87329\tval-auc:0.78288\n",
      "[109]\ttrain-auc:0.87313\tval-auc:0.78293\n",
      "[110]\ttrain-auc:0.87348\tval-auc:0.78197\n",
      "[111]\ttrain-auc:0.87457\tval-auc:0.78152\n",
      "[112]\ttrain-auc:0.87555\tval-auc:0.78151\n",
      "[113]\ttrain-auc:0.87577\tval-auc:0.78143\n",
      "[114]\ttrain-auc:0.87635\tval-auc:0.78158\n",
      "[115]\ttrain-auc:0.87661\tval-auc:0.78114\n",
      "[116]\ttrain-auc:0.87679\tval-auc:0.78151\n",
      "[117]\ttrain-auc:0.87733\tval-auc:0.78295\n",
      "[118]\ttrain-auc:0.87748\tval-auc:0.78230\n",
      "[119]\ttrain-auc:0.87824\tval-auc:0.78214\n",
      "[120]\ttrain-auc:0.87900\tval-auc:0.78169\n",
      "[121]\ttrain-auc:0.87892\tval-auc:0.78180\n",
      "[122]\ttrain-auc:0.87880\tval-auc:0.78190\n",
      "[123]\ttrain-auc:0.87884\tval-auc:0.78235\n",
      "[124]\ttrain-auc:0.87895\tval-auc:0.78246\n",
      "[125]\ttrain-auc:0.87950\tval-auc:0.78251\n",
      "[126]\ttrain-auc:0.87968\tval-auc:0.78255\n",
      "[127]\ttrain-auc:0.88136\tval-auc:0.78324\n",
      "[128]\ttrain-auc:0.88218\tval-auc:0.78422\n",
      "[129]\ttrain-auc:0.88293\tval-auc:0.78372\n",
      "[130]\ttrain-auc:0.88309\tval-auc:0.78409\n",
      "[131]\ttrain-auc:0.88323\tval-auc:0.78419\n",
      "[132]\ttrain-auc:0.88401\tval-auc:0.78422\n",
      "[133]\ttrain-auc:0.88412\tval-auc:0.78377\n",
      "[134]\ttrain-auc:0.88484\tval-auc:0.78380\n",
      "[135]\ttrain-auc:0.88468\tval-auc:0.78391\n",
      "[136]\ttrain-auc:0.88476\tval-auc:0.78393\n",
      "[137]\ttrain-auc:0.88521\tval-auc:0.78402\n",
      "[138]\ttrain-auc:0.88536\tval-auc:0.78389\n",
      "[139]\ttrain-auc:0.88608\tval-auc:0.78399\n",
      "[140]\ttrain-auc:0.88675\tval-auc:0.78407\n",
      "[141]\ttrain-auc:0.88691\tval-auc:0.78394\n",
      "[142]\ttrain-auc:0.88706\tval-auc:0.78407\n",
      "[143]\ttrain-auc:0.88732\tval-auc:0.78403\n",
      "[144]\ttrain-auc:0.88787\tval-auc:0.78403\n",
      "[145]\ttrain-auc:0.88806\tval-auc:0.78417\n",
      "[146]\ttrain-auc:0.88856\tval-auc:0.78357\n",
      "[147]\ttrain-auc:0.88902\tval-auc:0.78465\n",
      "[148]\ttrain-auc:0.88914\tval-auc:0.78473\n",
      "[149]\ttrain-auc:0.88931\tval-auc:0.78397\n",
      "[150]\ttrain-auc:0.88935\tval-auc:0.78370\n",
      "[151]\ttrain-auc:0.88993\tval-auc:0.78349\n",
      "[152]\ttrain-auc:0.89058\tval-auc:0.78352\n",
      "[153]\ttrain-auc:0.89098\tval-auc:0.78347\n",
      "[154]\ttrain-auc:0.89133\tval-auc:0.78308\n",
      "[155]\ttrain-auc:0.89178\tval-auc:0.78363\n",
      "[156]\ttrain-auc:0.89223\tval-auc:0.78386\n",
      "[157]\ttrain-auc:0.89262\tval-auc:0.78494\n",
      "[158]\ttrain-auc:0.89273\tval-auc:0.78466\n",
      "[159]\ttrain-auc:0.89311\tval-auc:0.78477\n",
      "[160]\ttrain-auc:0.89339\tval-auc:0.78474\n",
      "[161]\ttrain-auc:0.89355\tval-auc:0.78484\n",
      "[162]\ttrain-auc:0.89365\tval-auc:0.78470\n",
      "[163]\ttrain-auc:0.89404\tval-auc:0.78514\n",
      "[164]\ttrain-auc:0.89414\tval-auc:0.78503\n",
      "[165]\ttrain-auc:0.89426\tval-auc:0.78456\n",
      "[166]\ttrain-auc:0.89459\tval-auc:0.78441\n",
      "[167]\ttrain-auc:0.89495\tval-auc:0.78400\n",
      "[168]\ttrain-auc:0.89540\tval-auc:0.78393\n",
      "[169]\ttrain-auc:0.89554\tval-auc:0.78399\n",
      "[170]\ttrain-auc:0.89578\tval-auc:0.78395\n",
      "[171]\ttrain-auc:0.89632\tval-auc:0.78402\n",
      "[172]\ttrain-auc:0.89659\tval-auc:0.78437\n",
      "[173]\ttrain-auc:0.89696\tval-auc:0.78395\n",
      "[174]\ttrain-auc:0.89761\tval-auc:0.78369\n",
      "[175]\ttrain-auc:0.89784\tval-auc:0.78411\n",
      "[176]\ttrain-auc:0.89804\tval-auc:0.78382\n",
      "[177]\ttrain-auc:0.89841\tval-auc:0.78337\n",
      "[178]\ttrain-auc:0.89849\tval-auc:0.78329\n",
      "[179]\ttrain-auc:0.89863\tval-auc:0.78332\n",
      "[180]\ttrain-auc:0.89888\tval-auc:0.78332\n",
      "[181]\ttrain-auc:0.89924\tval-auc:0.78330\n",
      "[182]\ttrain-auc:0.89967\tval-auc:0.78321\n",
      "[183]\ttrain-auc:0.89972\tval-auc:0.78296\n",
      "[184]\ttrain-auc:0.90041\tval-auc:0.78304\n",
      "[185]\ttrain-auc:0.90084\tval-auc:0.78305\n",
      "[186]\ttrain-auc:0.90109\tval-auc:0.78251\n",
      "[187]\ttrain-auc:0.90145\tval-auc:0.78219\n",
      "[188]\ttrain-auc:0.90156\tval-auc:0.78214\n",
      "[189]\ttrain-auc:0.90192\tval-auc:0.78239\n",
      "[190]\ttrain-auc:0.90207\tval-auc:0.78239\n",
      "[191]\ttrain-auc:0.90213\tval-auc:0.78229\n",
      "[192]\ttrain-auc:0.90253\tval-auc:0.78189\n",
      "[193]\ttrain-auc:0.90265\tval-auc:0.78156\n",
      "[194]\ttrain-auc:0.90302\tval-auc:0.78092\n",
      "[195]\ttrain-auc:0.90342\tval-auc:0.78106\n",
      "[196]\ttrain-auc:0.90357\tval-auc:0.78106\n",
      "[197]\ttrain-auc:0.90379\tval-auc:0.78102\n"
     ]
    },
    {
     "name": "stdout",
     "output_type": "stream",
     "text": [
      "[198]\ttrain-auc:0.90384\tval-auc:0.78094\n",
      "[199]\ttrain-auc:0.90421\tval-auc:0.78109\n",
      "['KDJ_J', 'CCI', 'down_days', 'stage_low', 'vol_ratio', 'DMI.3', 'tech_downnum', 'ADTM.1', 'MTM', 'SOBV', 'MACD_MACD', 'tech_limitdownnum', 'history_high_days', 'ADTM', 'VMACD', 'val_pe_avg', 'MACD_DIFF', 'SI', 'VSTD', 'WVAD.1', 'DPO.1', 'val_pb_wgt', 'DMI_2.3', 'turn', 'ATR', 'tech_upnum', 'DMI_2.2', 'slowKD.1', 'ROC.1', 'VMACD.2', 'up_days', 'tech_downpct', 'PRICEOSC', 'bull_bear_ma', 'tech_limitdownpct', 'MIKE', 'KDJ_D', 'BIAS', 'SAR', 'DMI_2.1', 'SRMI', 'STD', 'VMACD.1', 'ATR.1', 'BBIBOLL.1', 'DMA.1', 'RSI', 'TRIX.1', 'MIKE.1', 'VOSC', 'WR', 'BOLL.2', 'DPO', 'DMI', 'low', 'VHF', 'DMI.1', 'vwap']\n"
     ]
    },
    {
     "data": {
      "image/png": "[encoded data removed]",
      "text/plain": [
       "<Figure size 432x288 with 1 Axes>"
      ]
     },
     "metadata": {
      "needs_background": "light"
     },
     "output_type": "display_data"
    },
    {
     "name": "stdout",
     "output_type": "stream",
     "text": [
      "auc:78.11% \n"
     ]
    }
   ],
   "source": [
    "XGB_test_prob,XGB_imp_f = XGB_train_func(params,smote_train_x_out,smote_train_y_out,validation_test_f,validation_test_l)"
   ]
  },
  {
   "cell_type": "code",
   "execution_count": 73,
   "metadata": {
    "scrolled": false
   },
   "outputs": [
    {
     "name": "stdout",
     "output_type": "stream",
     "text": [
      "TN|FP\n",
      "FN|TP\n",
      "[[709 386]\n",
      " [ 35 112]]\n",
      "precision:22.49%, recall:76.19%, accuracy:66.10%\n"
     ]
    }
   ],
   "source": [
    "judge(validation_test_l,np.where(XGB_test_prob >= 0.5,1,0))"
   ]
  },
  {
   "cell_type": "markdown",
   "metadata": {},
   "source": [
    "### XGB调参"
   ]
  },
  {
   "cell_type": "code",
   "execution_count": 74,
   "metadata": {},
   "outputs": [
    {
     "name": "stdout",
     "output_type": "stream",
     "text": [
      "[02:23:33] WARNING: C:\\Users\\Administrator\\workspace\\xgboost-win64_release_1.0.0\\src\\learner.cc:328: \n",
      "Parameters: { silent } might not be used.\n",
      "\n",
      "  This may not be accurate due to some parameters are only used in language bindings but\n",
      "  passed down to XGBoost core.  Or some parameters are not used but slip through this\n",
      "  verification. Please open an issue if you find above cases.\n",
      "\n",
      "\n",
      "[0]\ttrain-auc:0.79186\tval-auc:0.75001\n",
      "[1]\ttrain-auc:0.81657\tval-auc:0.76236\n",
      "[2]\ttrain-auc:0.83182\tval-auc:0.76741\n",
      "[3]\ttrain-auc:0.83717\tval-auc:0.76712\n",
      "[4]\ttrain-auc:0.84410\tval-auc:0.76549\n",
      "[5]\ttrain-auc:0.84617\tval-auc:0.76446\n",
      "[6]\ttrain-auc:0.84784\tval-auc:0.76563\n",
      "[7]\ttrain-auc:0.84825\tval-auc:0.76751\n",
      "[8]\ttrain-auc:0.84859\tval-auc:0.76723\n",
      "[9]\ttrain-auc:0.84952\tval-auc:0.77402\n",
      "[10]\ttrain-auc:0.84869\tval-auc:0.77636\n",
      "[11]\ttrain-auc:0.84870\tval-auc:0.77813\n",
      "[12]\ttrain-auc:0.85161\tval-auc:0.78179\n",
      "[13]\ttrain-auc:0.85226\tval-auc:0.78257\n",
      "[14]\ttrain-auc:0.85416\tval-auc:0.78097\n",
      "[15]\ttrain-auc:0.85437\tval-auc:0.78150\n",
      "[16]\ttrain-auc:0.85578\tval-auc:0.78205\n",
      "[17]\ttrain-auc:0.85624\tval-auc:0.77945\n",
      "[18]\ttrain-auc:0.85683\tval-auc:0.78082\n",
      "[19]\ttrain-auc:0.85796\tval-auc:0.78443\n",
      "[20]\ttrain-auc:0.86011\tval-auc:0.78594\n",
      "[21]\ttrain-auc:0.86152\tval-auc:0.78543\n",
      "[22]\ttrain-auc:0.86202\tval-auc:0.78546\n",
      "[23]\ttrain-auc:0.86276\tval-auc:0.78692\n",
      "[24]\ttrain-auc:0.86453\tval-auc:0.78724\n",
      "[25]\ttrain-auc:0.86458\tval-auc:0.78701\n",
      "[26]\ttrain-auc:0.86440\tval-auc:0.78696\n",
      "[27]\ttrain-auc:0.86525\tval-auc:0.78619\n",
      "[28]\ttrain-auc:0.86494\tval-auc:0.78606\n",
      "[29]\ttrain-auc:0.86693\tval-auc:0.78905\n",
      "[30]\ttrain-auc:0.86736\tval-auc:0.78945\n",
      "[31]\ttrain-auc:0.86829\tval-auc:0.78860\n",
      "[32]\ttrain-auc:0.86891\tval-auc:0.78907\n",
      "[33]\ttrain-auc:0.86928\tval-auc:0.78923\n",
      "[34]\ttrain-auc:0.86929\tval-auc:0.78925\n",
      "[35]\ttrain-auc:0.86926\tval-auc:0.78922\n",
      "[36]\ttrain-auc:0.86892\tval-auc:0.78923\n",
      "[37]\ttrain-auc:0.86885\tval-auc:0.79032\n",
      "[38]\ttrain-auc:0.86943\tval-auc:0.78955\n",
      "[39]\ttrain-auc:0.86975\tval-auc:0.78986\n",
      "[40]\ttrain-auc:0.87045\tval-auc:0.78966\n",
      "[41]\ttrain-auc:0.87014\tval-auc:0.78980\n",
      "[42]\ttrain-auc:0.87206\tval-auc:0.78957\n",
      "[43]\ttrain-auc:0.87243\tval-auc:0.78914\n",
      "[44]\ttrain-auc:0.87341\tval-auc:0.78830\n",
      "[45]\ttrain-auc:0.87406\tval-auc:0.78826\n",
      "[46]\ttrain-auc:0.87409\tval-auc:0.78832\n",
      "[47]\ttrain-auc:0.87477\tval-auc:0.78936\n",
      "[48]\ttrain-auc:0.87566\tval-auc:0.78909\n",
      "[49]\ttrain-auc:0.87779\tval-auc:0.78748\n",
      "[50]\ttrain-auc:0.87882\tval-auc:0.78668\n",
      "[51]\ttrain-auc:0.87858\tval-auc:0.78665\n",
      "[52]\ttrain-auc:0.87911\tval-auc:0.78694\n",
      "[53]\ttrain-auc:0.87991\tval-auc:0.78635\n",
      "[54]\ttrain-auc:0.88041\tval-auc:0.78603\n",
      "[55]\ttrain-auc:0.88072\tval-auc:0.78645\n",
      "[56]\ttrain-auc:0.88147\tval-auc:0.78802\n",
      "[57]\ttrain-auc:0.88158\tval-auc:0.78764\n",
      "[58]\ttrain-auc:0.88268\tval-auc:0.78791\n",
      "[59]\ttrain-auc:0.88337\tval-auc:0.78796\n",
      "[60]\ttrain-auc:0.88321\tval-auc:0.78804\n",
      "[61]\ttrain-auc:0.88351\tval-auc:0.78771\n",
      "[62]\ttrain-auc:0.88374\tval-auc:0.78777\n",
      "[63]\ttrain-auc:0.88437\tval-auc:0.78730\n",
      "[64]\ttrain-auc:0.88588\tval-auc:0.78781\n",
      "[65]\ttrain-auc:0.88626\tval-auc:0.78768\n",
      "[66]\ttrain-auc:0.88755\tval-auc:0.78855\n",
      "[67]\ttrain-auc:0.88815\tval-auc:0.78850\n",
      "[68]\ttrain-auc:0.88885\tval-auc:0.78828\n",
      "[69]\ttrain-auc:0.88997\tval-auc:0.78744\n",
      "[70]\ttrain-auc:0.89104\tval-auc:0.78797\n",
      "[71]\ttrain-auc:0.89121\tval-auc:0.78774\n",
      "[72]\ttrain-auc:0.89136\tval-auc:0.78773\n",
      "[73]\ttrain-auc:0.89168\tval-auc:0.78768\n",
      "[74]\ttrain-auc:0.89221\tval-auc:0.78761\n",
      "[75]\ttrain-auc:0.89289\tval-auc:0.78832\n",
      "[76]\ttrain-auc:0.89287\tval-auc:0.78830\n",
      "[77]\ttrain-auc:0.89367\tval-auc:0.78776\n",
      "[78]\ttrain-auc:0.89422\tval-auc:0.78806\n",
      "[79]\ttrain-auc:0.89488\tval-auc:0.78801\n",
      "[80]\ttrain-auc:0.89570\tval-auc:0.78835\n",
      "[81]\ttrain-auc:0.89621\tval-auc:0.78823\n",
      "[82]\ttrain-auc:0.89621\tval-auc:0.78814\n",
      "[83]\ttrain-auc:0.89664\tval-auc:0.78806\n",
      "[84]\ttrain-auc:0.89666\tval-auc:0.78804\n",
      "[85]\ttrain-auc:0.89756\tval-auc:0.78869\n",
      "[86]\ttrain-auc:0.89806\tval-auc:0.78831\n",
      "[87]\ttrain-auc:0.89840\tval-auc:0.78852\n",
      "[88]\ttrain-auc:0.89866\tval-auc:0.78837\n",
      "[89]\ttrain-auc:0.89863\tval-auc:0.78830\n",
      "[90]\ttrain-auc:0.89935\tval-auc:0.78822\n",
      "[91]\ttrain-auc:0.90008\tval-auc:0.78739\n",
      "[92]\ttrain-auc:0.90086\tval-auc:0.78634\n",
      "[93]\ttrain-auc:0.90149\tval-auc:0.78679\n",
      "[94]\ttrain-auc:0.90212\tval-auc:0.78687\n",
      "[95]\ttrain-auc:0.90270\tval-auc:0.78670\n",
      "[96]\ttrain-auc:0.90315\tval-auc:0.78637\n",
      "[97]\ttrain-auc:0.90369\tval-auc:0.78643\n",
      "[98]\ttrain-auc:0.90378\tval-auc:0.78634\n",
      "[99]\ttrain-auc:0.90424\tval-auc:0.78661\n",
      "[100]\ttrain-auc:0.90457\tval-auc:0.78653\n",
      "[101]\ttrain-auc:0.90485\tval-auc:0.78632\n",
      "[102]\ttrain-auc:0.90557\tval-auc:0.78654\n",
      "[103]\ttrain-auc:0.90574\tval-auc:0.78646\n",
      "[104]\ttrain-auc:0.90695\tval-auc:0.78613\n",
      "[105]\ttrain-auc:0.90740\tval-auc:0.78588\n",
      "[106]\ttrain-auc:0.90804\tval-auc:0.78635\n",
      "[107]\ttrain-auc:0.90822\tval-auc:0.78664\n",
      "[108]\ttrain-auc:0.90879\tval-auc:0.78677\n",
      "[109]\ttrain-auc:0.90914\tval-auc:0.78648\n",
      "[110]\ttrain-auc:0.90935\tval-auc:0.78592\n",
      "[111]\ttrain-auc:0.91040\tval-auc:0.78587\n",
      "[112]\ttrain-auc:0.91113\tval-auc:0.78664\n",
      "[113]\ttrain-auc:0.91124\tval-auc:0.78635\n",
      "[114]\ttrain-auc:0.91185\tval-auc:0.78677\n",
      "[115]\ttrain-auc:0.91231\tval-auc:0.78712\n",
      "[116]\ttrain-auc:0.91302\tval-auc:0.78702\n",
      "[117]\ttrain-auc:0.91425\tval-auc:0.78739\n",
      "[118]\ttrain-auc:0.91492\tval-auc:0.78722\n",
      "[119]\ttrain-auc:0.91567\tval-auc:0.78648\n",
      "[120]\ttrain-auc:0.91590\tval-auc:0.78638\n",
      "[121]\ttrain-auc:0.91702\tval-auc:0.78657\n",
      "[122]\ttrain-auc:0.91771\tval-auc:0.78658\n",
      "[123]\ttrain-auc:0.91768\tval-auc:0.78672\n",
      "[124]\ttrain-auc:0.91816\tval-auc:0.78702\n",
      "[125]\ttrain-auc:0.91828\tval-auc:0.78636\n",
      "[126]\ttrain-auc:0.91849\tval-auc:0.78602\n",
      "[127]\ttrain-auc:0.91914\tval-auc:0.78613\n",
      "[128]\ttrain-auc:0.91946\tval-auc:0.78651\n",
      "[129]\ttrain-auc:0.92011\tval-auc:0.78621\n",
      "[130]\ttrain-auc:0.92015\tval-auc:0.78651\n",
      "[131]\ttrain-auc:0.92041\tval-auc:0.78670\n",
      "[132]\ttrain-auc:0.92141\tval-auc:0.78669\n",
      "[133]\ttrain-auc:0.92186\tval-auc:0.78684\n",
      "[134]\ttrain-auc:0.92222\tval-auc:0.78649\n",
      "[135]\ttrain-auc:0.92259\tval-auc:0.78634\n",
      "[136]\ttrain-auc:0.92339\tval-auc:0.78667\n",
      "[137]\ttrain-auc:0.92349\tval-auc:0.78624\n",
      "[138]\ttrain-auc:0.92364\tval-auc:0.78618\n",
      "[139]\ttrain-auc:0.92404\tval-auc:0.78553\n",
      "[140]\ttrain-auc:0.92432\tval-auc:0.78525\n",
      "[141]\ttrain-auc:0.92466\tval-auc:0.78492\n",
      "[142]\ttrain-auc:0.92488\tval-auc:0.78487\n",
      "[143]\ttrain-auc:0.92528\tval-auc:0.78550\n",
      "[144]\ttrain-auc:0.92545\tval-auc:0.78566\n",
      "[145]\ttrain-auc:0.92592\tval-auc:0.78556\n",
      "[146]\ttrain-auc:0.92623\tval-auc:0.78570\n",
      "[147]\ttrain-auc:0.92703\tval-auc:0.78641\n",
      "[148]\ttrain-auc:0.92720\tval-auc:0.78602\n",
      "[149]\ttrain-auc:0.92751\tval-auc:0.78569\n",
      "[150]\ttrain-auc:0.92769\tval-auc:0.78548\n",
      "[151]\ttrain-auc:0.92827\tval-auc:0.78565\n",
      "[152]\ttrain-auc:0.92859\tval-auc:0.78572\n",
      "[153]\ttrain-auc:0.92893\tval-auc:0.78565\n",
      "[154]\ttrain-auc:0.92937\tval-auc:0.78597\n",
      "[155]\ttrain-auc:0.92977\tval-auc:0.78579\n",
      "[156]\ttrain-auc:0.93002\tval-auc:0.78593\n",
      "[157]\ttrain-auc:0.93049\tval-auc:0.78575\n",
      "[158]\ttrain-auc:0.93104\tval-auc:0.78577\n",
      "[159]\ttrain-auc:0.93119\tval-auc:0.78584\n",
      "[160]\ttrain-auc:0.93178\tval-auc:0.78603\n",
      "[161]\ttrain-auc:0.93227\tval-auc:0.78576\n",
      "[162]\ttrain-auc:0.93250\tval-auc:0.78581\n",
      "[163]\ttrain-auc:0.93263\tval-auc:0.78567\n",
      "[164]\ttrain-auc:0.93271\tval-auc:0.78559\n",
      "[165]\ttrain-auc:0.93311\tval-auc:0.78525\n",
      "[166]\ttrain-auc:0.93333\tval-auc:0.78490\n",
      "[167]\ttrain-auc:0.93387\tval-auc:0.78478\n",
      "[168]\ttrain-auc:0.93419\tval-auc:0.78470\n",
      "[169]\ttrain-auc:0.93464\tval-auc:0.78477\n",
      "[170]\ttrain-auc:0.93501\tval-auc:0.78499\n",
      "[171]\ttrain-auc:0.93573\tval-auc:0.78502\n",
      "[172]\ttrain-auc:0.93595\tval-auc:0.78539\n",
      "[173]\ttrain-auc:0.93630\tval-auc:0.78500\n",
      "[174]\ttrain-auc:0.93661\tval-auc:0.78492\n",
      "[175]\ttrain-auc:0.93685\tval-auc:0.78479\n",
      "[176]\ttrain-auc:0.93723\tval-auc:0.78432\n",
      "[177]\ttrain-auc:0.93737\tval-auc:0.78405\n",
      "[178]\ttrain-auc:0.93745\tval-auc:0.78384\n",
      "[179]\ttrain-auc:0.93733\tval-auc:0.78385\n",
      "[180]\ttrain-auc:0.93754\tval-auc:0.78390\n",
      "[181]\ttrain-auc:0.93769\tval-auc:0.78380\n",
      "[182]\ttrain-auc:0.93800\tval-auc:0.78361\n",
      "[183]\ttrain-auc:0.93825\tval-auc:0.78359\n",
      "[184]\ttrain-auc:0.93847\tval-auc:0.78328\n",
      "[185]\ttrain-auc:0.93869\tval-auc:0.78351\n",
      "[186]\ttrain-auc:0.93917\tval-auc:0.78365\n",
      "[187]\ttrain-auc:0.93934\tval-auc:0.78322\n",
      "[188]\ttrain-auc:0.93950\tval-auc:0.78324\n",
      "[189]\ttrain-auc:0.93988\tval-auc:0.78330\n",
      "[190]\ttrain-auc:0.94028\tval-auc:0.78325\n",
      "[191]\ttrain-auc:0.94057\tval-auc:0.78323\n",
      "[192]\ttrain-auc:0.94087\tval-auc:0.78349\n",
      "[193]\ttrain-auc:0.94176\tval-auc:0.78311\n",
      "[194]\ttrain-auc:0.94203\tval-auc:0.78314\n",
      "[195]\ttrain-auc:0.94243\tval-auc:0.78339\n",
      "[196]\ttrain-auc:0.94266\tval-auc:0.78354\n",
      "[197]\ttrain-auc:0.94297\tval-auc:0.78358\n"
     ]
    },
    {
     "name": "stdout",
     "output_type": "stream",
     "text": [
      "[198]\ttrain-auc:0.94317\tval-auc:0.78355\n",
      "[199]\ttrain-auc:0.94341\tval-auc:0.78382\n",
      "['KDJ_J', 'down_days', 'vol_ratio', 'val_pe_avg', 'DMI.3', 'CCI', 'MTM', 'stage_low', 'ADTM.1', 'turn', 'MACD_MACD', 'tech_downnum', 'ADTM', 'SOBV', 'SI', 'up_days', 'VSTD', 'VOSC', 'DMI_2.3', 'slowKD.1', 'DMI_2.2', 'KDJ_D', 'tech_limitupnum', 'VMACD.2', 'WVAD.1', 'DMI', 'vwap', 'bull_bear_ma', 'tech_limitdownnum', 'VMACD', 'VMACD.1', 'RSI', 'WVAD', 'ATR', 'DMI.1', 'history_high_days', 'val_pb_wgt', 'BOLL.2', 'PRICEOSC', 'SRMI', 'DMI.2', 'TAPI', 'DPO.1', 'STD', 'TAPI.1', 'ROC.1', 'MTM.1', 'MACD_DIFF', 'MACD_DEA', 'WR', 'KDJ_K', 'DPO', 'tech_limituppct', 'PVT', 'MIKE', 'DMA.1', 'tech_downpct', 'TRIX', 'ROC', 'BIAS', 'VMA', 'tech_limitdownpct', 'BOLL.1', 'VHF', 'CDP.2', 'DMI_2', 'MIKE.1', 'ATR.1', 'amt', 'stage_high', 'DMA', 'tech_upnum', 'BOLL', 'swing', 'volume', 'BBIBOLL.2', 'TRIX.1', 'pct_chg', 'tech_uppct', 'high', 'SAR', 'CDP.4', 'DMI_2.1', 'ENV', 'BBIBOLL.1', 'BBI', 'bull_bear_ma.1', 'low', 'open']\n"
     ]
    },
    {
     "data": {
      "image/png": "[encoded data removed]",
      "text/plain": [
       "<Figure size 432x288 with 1 Axes>"
      ]
     },
     "metadata": {
      "needs_background": "light"
     },
     "output_type": "display_data"
    },
    {
     "name": "stdout",
     "output_type": "stream",
     "text": [
      "auc:78.38% \n"
     ]
    }
   ],
   "source": [
    "XGB_test_prob1,XGB_imp_f1 = XGB_train_func(params1,smote_train_x_out,smote_train_y_out,validation_test_f,validation_test_l)"
   ]
  },
  {
   "cell_type": "code",
   "execution_count": 75,
   "metadata": {},
   "outputs": [
    {
     "name": "stdout",
     "output_type": "stream",
     "text": [
      "TN|FP\n",
      "FN|TP\n",
      "[[720 375]\n",
      " [ 33 114]]\n",
      "precision:23.31%, recall:77.55%, accuracy:67.15%\n"
     ]
    }
   ],
   "source": [
    "judge(validation_test_l,np.where(XGB_test_prob1 >= 0.5,1,0))"
   ]
  },
  {
   "cell_type": "markdown",
   "metadata": {},
   "source": [
    "### LR"
   ]
  },
  {
   "cell_type": "code",
   "execution_count": 76,
   "metadata": {},
   "outputs": [],
   "source": [
    "from sklearn.linear_model import LogisticRegression"
   ]
  },
  {
   "cell_type": "code",
   "execution_count": 77,
   "metadata": {},
   "outputs": [],
   "source": [
    "def LR_train_func(train_feature,train_label,test_feature ,test_label ):\n",
    "    print('开始训练logisticRegression模型:')\n",
    "    LR_module = LogisticRegression(penalty='l2', solver='sag', max_iter=500, \\\n",
    "                                   random_state=42, n_jobs=4)  # class_weight={0:0.924,1:0.076}\n",
    "    # module = lgb.LGBMClassifier(\n",
    "    #     num_leaves=64,  # num_leaves = 2^max_depth * 0.6 #\n",
    "    #     max_depth=6,\n",
    "    #     n_estimators=80,\n",
    "    #     learning_rate=0.1\n",
    "    # )\n",
    "    '''训练集'''\n",
    "    LR_module.fit(train_feature, train_label)\n",
    "    train_accurcy = LR_module.score(train_feature, train_label) * 100\n",
    "    test_accurcy = LR_module.score(test_feature, test_label) * 100\n",
    "    test_predict = LR_module.predict_proba(test_feature)\n",
    "    print(\"训练集正确率为%.2s%%\" % train_accurcy)\n",
    "    print(\"测试集正确率为%.2s%%\" % test_accurcy)\n",
    "    return test_predict[:, 1]"
   ]
  },
  {
   "cell_type": "code",
   "execution_count": 78,
   "metadata": {
    "scrolled": true
   },
   "outputs": [
    {
     "name": "stdout",
     "output_type": "stream",
     "text": [
      "开始训练logisticRegression模型:\n"
     ]
    },
    {
     "name": "stderr",
     "output_type": "stream",
     "text": [
      "D:\\set_up\\anaconda\\lib\\site-packages\\sklearn\\utils\\validation.py:993: DataConversionWarning: A column-vector y was passed when a 1d array was expected. Please change the shape of y to (n_samples, ), for example using ravel().\n",
      "  y = column_or_1d(y, warn=True)\n"
     ]
    },
    {
     "name": "stdout",
     "output_type": "stream",
     "text": [
      "训练集正确率为82%\n",
      "测试集正确率为71%\n",
      "TN|FP\n",
      "FN|TP\n",
      "[[796 299]\n",
      " [ 60  87]]\n",
      "precision:22.54%, recall:59.18%, accuracy:71.10%\n"
     ]
    },
    {
     "name": "stderr",
     "output_type": "stream",
     "text": [
      "D:\\set_up\\anaconda\\lib\\site-packages\\sklearn\\linear_model\\_sag.py:354: ConvergenceWarning: The max_iter was reached which means the coef_ did not converge\n",
      "  ConvergenceWarning,\n"
     ]
    }
   ],
   "source": [
    "LR_test_prob = LR_train_func(smote_train_x_out,smote_train_y_out,validation_test_f,validation_test_l)\n",
    "judge(validation_test_l,np.where(LR_test_prob >= 0.5,1,0))"
   ]
  },
  {
   "cell_type": "markdown",
   "metadata": {},
   "source": [
    "### LR调参"
   ]
  },
  {
   "cell_type": "code",
   "execution_count": 79,
   "metadata": {},
   "outputs": [],
   "source": [
    "selected_col = selected_std_col.copy() #XGB_imp_f[:20]"
   ]
  },
  {
   "cell_type": "code",
   "execution_count": 80,
   "metadata": {
    "scrolled": false
   },
   "outputs": [
    {
     "name": "stdout",
     "output_type": "stream",
     "text": [
      "开始训练logisticRegression模型:\n"
     ]
    },
    {
     "name": "stderr",
     "output_type": "stream",
     "text": [
      "D:\\set_up\\anaconda\\lib\\site-packages\\sklearn\\utils\\validation.py:993: DataConversionWarning: A column-vector y was passed when a 1d array was expected. Please change the shape of y to (n_samples, ), for example using ravel().\n",
      "  y = column_or_1d(y, warn=True)\n"
     ]
    },
    {
     "name": "stdout",
     "output_type": "stream",
     "text": [
      "训练集正确率为82%\n",
      "测试集正确率为71%\n",
      "TN|FP\n",
      "FN|TP\n",
      "[[796 299]\n",
      " [ 60  87]]\n",
      "precision:22.54%, recall:59.18%, accuracy:71.10%\n"
     ]
    },
    {
     "name": "stderr",
     "output_type": "stream",
     "text": [
      "D:\\set_up\\anaconda\\lib\\site-packages\\sklearn\\linear_model\\_sag.py:354: ConvergenceWarning: The max_iter was reached which means the coef_ did not converge\n",
      "  ConvergenceWarning,\n"
     ]
    }
   ],
   "source": [
    "LR_test_prob = LR_train_func(smote_train_x_out,smote_train_y_out,validation_test_f,validation_test_l)\n",
    "judge(validation_test_l,np.where(LR_test_prob >= 0.5,1,0))"
   ]
  },
  {
   "cell_type": "markdown",
   "metadata": {},
   "source": [
    "## RF"
   ]
  },
  {
   "cell_type": "code",
   "execution_count": 81,
   "metadata": {},
   "outputs": [],
   "source": [
    "from sklearn.ensemble import RandomForestClassifier\n",
    "from sklearn.model_selection import GridSearchCV\n",
    "\n",
    "\n",
    "RF_train_x,RF_train_y = smote_train_x_out.copy(),smote_train_y_out.copy()"
   ]
  },
  {
   "cell_type": "code",
   "execution_count": 46,
   "metadata": {},
   "outputs": [
    {
     "data": {
      "text/plain": [
       "RandomForestClassifier(oob_score=True, random_state=10)"
      ]
     },
     "execution_count": 46,
     "metadata": {},
     "output_type": "execute_result"
    },
    {
     "data": {
      "text/plain": [
       "0.9595692807801707"
      ]
     },
     "execution_count": 46,
     "metadata": {},
     "output_type": "execute_result"
    },
    {
     "name": "stdout",
     "output_type": "stream",
     "text": [
      "TN|FP\n",
      "FN|TP\n",
      "[[974  73]\n",
      " [118  29]]\n",
      "precision:28.43%, recall:19.73%, accuracy:84.00%\n"
     ]
    }
   ],
   "source": [
    "RF_module = RandomForestClassifier(oob_score=True, random_state=10)\n",
    "RF_module.fit(RF_train_x,RF_train_y.values.ravel())\n",
    "RF_module.oob_score_\n",
    "RF_test_prob = RF_module.predict_proba(validation_test_f)[:,1]\n",
    "judge(validation_test_l,np.where(RF_test_prob >= 0.5,1,0))"
   ]
  },
  {
   "cell_type": "markdown",
   "metadata": {},
   "source": [
    "### RF调参"
   ]
  },
  {
   "cell_type": "code",
   "execution_count": 47,
   "metadata": {},
   "outputs": [
    {
     "data": {
      "text/plain": [
       "GridSearchCV(cv=5,\n",
       "             estimator=RandomForestClassifier(max_depth=8, max_features='sqrt',\n",
       "                                              min_samples_leaf=20,\n",
       "                                              min_samples_split=100,\n",
       "                                              random_state=10),\n",
       "             param_grid={'n_estimators': range(10, 71, 10)}, scoring='roc_auc')"
      ]
     },
     "execution_count": 47,
     "metadata": {},
     "output_type": "execute_result"
    },
    {
     "data": {
      "text/plain": [
       "([{'n_estimators': 10},\n",
       "  {'n_estimators': 20},\n",
       "  {'n_estimators': 30},\n",
       "  {'n_estimators': 40},\n",
       "  {'n_estimators': 50},\n",
       "  {'n_estimators': 60},\n",
       "  {'n_estimators': 70}],\n",
       " array([0.65452018, 0.66490606, 0.67342936, 0.6702679 , 0.67612835,\n",
       "        0.67480769, 0.67663945]),\n",
       " {'n_estimators': 70},\n",
       " 0.6766394537739471)"
      ]
     },
     "execution_count": 47,
     "metadata": {},
     "output_type": "execute_result"
    }
   ],
   "source": [
    "#首先对n_estimators进行网格搜索\n",
    "param_test1= {'n_estimators':range(10,71,10)}\n",
    "gsearch1= GridSearchCV(estimator = RandomForestClassifier(min_samples_split=100,\n",
    "                                 min_samples_leaf=20,max_depth=8,max_features='sqrt' ,random_state=10),\n",
    "                       param_grid =param_test1, scoring='roc_auc',cv=5)\n",
    "gsearch1.fit(RF_train_x,RF_train_y.values.ravel() )\n",
    "gsearch1.cv_results_['params'],gsearch1.cv_results_['mean_test_score'],gsearch1.best_params_, gsearch1.best_score_"
   ]
  },
  {
   "cell_type": "code",
   "execution_count": null,
   "metadata": {
    "scrolled": true
   },
   "outputs": [],
   "source": [
    "#这样我们得到了最佳的弱学习器迭代次数，接着我们对决策树最大深度max_depth和内部节点再划分所需最小样本数min_samples_split进行网格搜索。\n",
    "param_test2= {'max_depth':range(3,14,2), 'min_samples_split':range(50,201,20)}\n",
    "gsearch2= GridSearchCV(estimator = RandomForestClassifier(n_estimators= 20,min_samples_leaf=20,max_features='sqrt' ,\\\n",
    "                                                          oob_score=True,random_state=10),\n",
    "                           param_grid = param_test2,scoring='roc_auc', cv=5)\n",
    "gsearch2.fit(RF_train_x,RF_train_y.values.ravel())\n",
    "gsearch2.cv_results_['params'],gsearch2.cv_results_['mean_test_score'],gsearch2.best_params_, gsearch2.best_score_\n"
   ]
  },
  {
   "cell_type": "code",
   "execution_count": null,
   "metadata": {
    "scrolled": true
   },
   "outputs": [],
   "source": [
    "gsearch2.best_params_, gsearch2.best_score_"
   ]
  },
  {
   "cell_type": "code",
   "execution_count": 393,
   "metadata": {},
   "outputs": [
    {
     "name": "stderr",
     "output_type": "stream",
     "text": [
      "D:\\set_up\\anaconda\\lib\\site-packages\\sklearn\\ensemble\\_forest.py:564: UserWarning: Some inputs do not have OOB scores. This probably means too few trees were used to compute any reliable OOB estimates.\n",
      "  UserWarning,\n"
     ]
    },
    {
     "data": {
      "text/plain": [
       "RandomForestClassifier(max_depth=13, max_features='sqrt', min_samples_leaf=20,\n",
       "                       min_samples_split=50, n_estimators=20, oob_score=True,\n",
       "                       random_state=10)"
      ]
     },
     "execution_count": 393,
     "metadata": {},
     "output_type": "execute_result"
    },
    {
     "data": {
      "text/plain": [
       "0.8919372900335947"
      ]
     },
     "execution_count": 393,
     "metadata": {},
     "output_type": "execute_result"
    }
   ],
   "source": [
    "#已经取了三个最优参数，看看现在模型的袋外分数：\n",
    "rf1= RandomForestClassifier(n_estimators= 20, max_depth=13, min_samples_split=50,\n",
    "                                 min_samples_leaf=20,max_features='sqrt' ,oob_score=True,random_state=10)\n",
    "rf1.fit(RF_train_x,RF_train_y.values.ravel())\n",
    "rf1.oob_score_ #袋外分数越高，模型的泛化能力越强。"
   ]
  },
  {
   "cell_type": "code",
   "execution_count": 395,
   "metadata": {
    "scrolled": true
   },
   "outputs": [
    {
     "name": "stderr",
     "output_type": "stream",
     "text": [
      "D:\\set_up\\anaconda\\lib\\site-packages\\sklearn\\ensemble\\_forest.py:564: UserWarning: Some inputs do not have OOB scores. This probably means too few trees were used to compute any reliable OOB estimates.\n",
      "  UserWarning,\n",
      "D:\\set_up\\anaconda\\lib\\site-packages\\sklearn\\ensemble\\_forest.py:564: UserWarning: Some inputs do not have OOB scores. This probably means too few trees were used to compute any reliable OOB estimates.\n",
      "  UserWarning,\n",
      "D:\\set_up\\anaconda\\lib\\site-packages\\sklearn\\ensemble\\_forest.py:564: UserWarning: Some inputs do not have OOB scores. This probably means too few trees were used to compute any reliable OOB estimates.\n",
      "  UserWarning,\n",
      "D:\\set_up\\anaconda\\lib\\site-packages\\sklearn\\ensemble\\_forest.py:564: UserWarning: Some inputs do not have OOB scores. This probably means too few trees were used to compute any reliable OOB estimates.\n",
      "  UserWarning,\n",
      "D:\\set_up\\anaconda\\lib\\site-packages\\sklearn\\ensemble\\_forest.py:564: UserWarning: Some inputs do not have OOB scores. This probably means too few trees were used to compute any reliable OOB estimates.\n",
      "  UserWarning,\n",
      "D:\\set_up\\anaconda\\lib\\site-packages\\sklearn\\ensemble\\_forest.py:564: UserWarning: Some inputs do not have OOB scores. This probably means too few trees were used to compute any reliable OOB estimates.\n",
      "  UserWarning,\n",
      "D:\\set_up\\anaconda\\lib\\site-packages\\sklearn\\ensemble\\_forest.py:564: UserWarning: Some inputs do not have OOB scores. This probably means too few trees were used to compute any reliable OOB estimates.\n",
      "  UserWarning,\n",
      "D:\\set_up\\anaconda\\lib\\site-packages\\sklearn\\ensemble\\_forest.py:564: UserWarning: Some inputs do not have OOB scores. This probably means too few trees were used to compute any reliable OOB estimates.\n",
      "  UserWarning,\n",
      "D:\\set_up\\anaconda\\lib\\site-packages\\sklearn\\ensemble\\_forest.py:564: UserWarning: Some inputs do not have OOB scores. This probably means too few trees were used to compute any reliable OOB estimates.\n",
      "  UserWarning,\n",
      "D:\\set_up\\anaconda\\lib\\site-packages\\sklearn\\ensemble\\_forest.py:564: UserWarning: Some inputs do not have OOB scores. This probably means too few trees were used to compute any reliable OOB estimates.\n",
      "  UserWarning,\n",
      "D:\\set_up\\anaconda\\lib\\site-packages\\sklearn\\ensemble\\_forest.py:564: UserWarning: Some inputs do not have OOB scores. This probably means too few trees were used to compute any reliable OOB estimates.\n",
      "  UserWarning,\n",
      "D:\\set_up\\anaconda\\lib\\site-packages\\sklearn\\ensemble\\_forest.py:564: UserWarning: Some inputs do not have OOB scores. This probably means too few trees were used to compute any reliable OOB estimates.\n",
      "  UserWarning,\n",
      "D:\\set_up\\anaconda\\lib\\site-packages\\sklearn\\ensemble\\_forest.py:564: UserWarning: Some inputs do not have OOB scores. This probably means too few trees were used to compute any reliable OOB estimates.\n",
      "  UserWarning,\n",
      "D:\\set_up\\anaconda\\lib\\site-packages\\sklearn\\ensemble\\_forest.py:564: UserWarning: Some inputs do not have OOB scores. This probably means too few trees were used to compute any reliable OOB estimates.\n",
      "  UserWarning,\n",
      "D:\\set_up\\anaconda\\lib\\site-packages\\sklearn\\ensemble\\_forest.py:564: UserWarning: Some inputs do not have OOB scores. This probably means too few trees were used to compute any reliable OOB estimates.\n",
      "  UserWarning,\n",
      "D:\\set_up\\anaconda\\lib\\site-packages\\sklearn\\ensemble\\_forest.py:564: UserWarning: Some inputs do not have OOB scores. This probably means too few trees were used to compute any reliable OOB estimates.\n",
      "  UserWarning,\n",
      "D:\\set_up\\anaconda\\lib\\site-packages\\sklearn\\ensemble\\_forest.py:564: UserWarning: Some inputs do not have OOB scores. This probably means too few trees were used to compute any reliable OOB estimates.\n",
      "  UserWarning,\n",
      "D:\\set_up\\anaconda\\lib\\site-packages\\sklearn\\ensemble\\_forest.py:564: UserWarning: Some inputs do not have OOB scores. This probably means too few trees were used to compute any reliable OOB estimates.\n",
      "  UserWarning,\n",
      "D:\\set_up\\anaconda\\lib\\site-packages\\sklearn\\ensemble\\_forest.py:564: UserWarning: Some inputs do not have OOB scores. This probably means too few trees were used to compute any reliable OOB estimates.\n",
      "  UserWarning,\n",
      "D:\\set_up\\anaconda\\lib\\site-packages\\sklearn\\ensemble\\_forest.py:564: UserWarning: Some inputs do not have OOB scores. This probably means too few trees were used to compute any reliable OOB estimates.\n",
      "  UserWarning,\n",
      "D:\\set_up\\anaconda\\lib\\site-packages\\sklearn\\ensemble\\_forest.py:564: UserWarning: Some inputs do not have OOB scores. This probably means too few trees were used to compute any reliable OOB estimates.\n",
      "  UserWarning,\n",
      "D:\\set_up\\anaconda\\lib\\site-packages\\sklearn\\ensemble\\_forest.py:564: UserWarning: Some inputs do not have OOB scores. This probably means too few trees were used to compute any reliable OOB estimates.\n",
      "  UserWarning,\n",
      "D:\\set_up\\anaconda\\lib\\site-packages\\sklearn\\ensemble\\_forest.py:564: UserWarning: Some inputs do not have OOB scores. This probably means too few trees were used to compute any reliable OOB estimates.\n",
      "  UserWarning,\n",
      "D:\\set_up\\anaconda\\lib\\site-packages\\sklearn\\ensemble\\_forest.py:564: UserWarning: Some inputs do not have OOB scores. This probably means too few trees were used to compute any reliable OOB estimates.\n",
      "  UserWarning,\n",
      "D:\\set_up\\anaconda\\lib\\site-packages\\sklearn\\ensemble\\_forest.py:564: UserWarning: Some inputs do not have OOB scores. This probably means too few trees were used to compute any reliable OOB estimates.\n",
      "  UserWarning,\n",
      "D:\\set_up\\anaconda\\lib\\site-packages\\sklearn\\ensemble\\_forest.py:564: UserWarning: Some inputs do not have OOB scores. This probably means too few trees were used to compute any reliable OOB estimates.\n",
      "  UserWarning,\n",
      "D:\\set_up\\anaconda\\lib\\site-packages\\sklearn\\ensemble\\_forest.py:564: UserWarning: Some inputs do not have OOB scores. This probably means too few trees were used to compute any reliable OOB estimates.\n",
      "  UserWarning,\n",
      "D:\\set_up\\anaconda\\lib\\site-packages\\sklearn\\ensemble\\_forest.py:564: UserWarning: Some inputs do not have OOB scores. This probably means too few trees were used to compute any reliable OOB estimates.\n",
      "  UserWarning,\n",
      "D:\\set_up\\anaconda\\lib\\site-packages\\sklearn\\ensemble\\_forest.py:564: UserWarning: Some inputs do not have OOB scores. This probably means too few trees were used to compute any reliable OOB estimates.\n",
      "  UserWarning,\n",
      "D:\\set_up\\anaconda\\lib\\site-packages\\sklearn\\ensemble\\_forest.py:564: UserWarning: Some inputs do not have OOB scores. This probably means too few trees were used to compute any reliable OOB estimates.\n",
      "  UserWarning,\n",
      "D:\\set_up\\anaconda\\lib\\site-packages\\sklearn\\ensemble\\_forest.py:564: UserWarning: Some inputs do not have OOB scores. This probably means too few trees were used to compute any reliable OOB estimates.\n",
      "  UserWarning,\n",
      "D:\\set_up\\anaconda\\lib\\site-packages\\sklearn\\ensemble\\_forest.py:564: UserWarning: Some inputs do not have OOB scores. This probably means too few trees were used to compute any reliable OOB estimates.\n",
      "  UserWarning,\n",
      "D:\\set_up\\anaconda\\lib\\site-packages\\sklearn\\ensemble\\_forest.py:564: UserWarning: Some inputs do not have OOB scores. This probably means too few trees were used to compute any reliable OOB estimates.\n",
      "  UserWarning,\n",
      "D:\\set_up\\anaconda\\lib\\site-packages\\sklearn\\ensemble\\_forest.py:564: UserWarning: Some inputs do not have OOB scores. This probably means too few trees were used to compute any reliable OOB estimates.\n",
      "  UserWarning,\n",
      "D:\\set_up\\anaconda\\lib\\site-packages\\sklearn\\ensemble\\_forest.py:564: UserWarning: Some inputs do not have OOB scores. This probably means too few trees were used to compute any reliable OOB estimates.\n",
      "  UserWarning,\n",
      "D:\\set_up\\anaconda\\lib\\site-packages\\sklearn\\ensemble\\_forest.py:564: UserWarning: Some inputs do not have OOB scores. This probably means too few trees were used to compute any reliable OOB estimates.\n",
      "  UserWarning,\n",
      "D:\\set_up\\anaconda\\lib\\site-packages\\sklearn\\ensemble\\_forest.py:564: UserWarning: Some inputs do not have OOB scores. This probably means too few trees were used to compute any reliable OOB estimates.\n",
      "  UserWarning,\n",
      "D:\\set_up\\anaconda\\lib\\site-packages\\sklearn\\ensemble\\_forest.py:564: UserWarning: Some inputs do not have OOB scores. This probably means too few trees were used to compute any reliable OOB estimates.\n",
      "  UserWarning,\n"
     ]
    },
    {
     "name": "stderr",
     "output_type": "stream",
     "text": [
      "D:\\set_up\\anaconda\\lib\\site-packages\\sklearn\\ensemble\\_forest.py:564: UserWarning: Some inputs do not have OOB scores. This probably means too few trees were used to compute any reliable OOB estimates.\n",
      "  UserWarning,\n",
      "D:\\set_up\\anaconda\\lib\\site-packages\\sklearn\\ensemble\\_forest.py:564: UserWarning: Some inputs do not have OOB scores. This probably means too few trees were used to compute any reliable OOB estimates.\n",
      "  UserWarning,\n",
      "D:\\set_up\\anaconda\\lib\\site-packages\\sklearn\\ensemble\\_forest.py:564: UserWarning: Some inputs do not have OOB scores. This probably means too few trees were used to compute any reliable OOB estimates.\n",
      "  UserWarning,\n",
      "D:\\set_up\\anaconda\\lib\\site-packages\\sklearn\\ensemble\\_forest.py:564: UserWarning: Some inputs do not have OOB scores. This probably means too few trees were used to compute any reliable OOB estimates.\n",
      "  UserWarning,\n",
      "D:\\set_up\\anaconda\\lib\\site-packages\\sklearn\\ensemble\\_forest.py:564: UserWarning: Some inputs do not have OOB scores. This probably means too few trees were used to compute any reliable OOB estimates.\n",
      "  UserWarning,\n",
      "D:\\set_up\\anaconda\\lib\\site-packages\\sklearn\\ensemble\\_forest.py:564: UserWarning: Some inputs do not have OOB scores. This probably means too few trees were used to compute any reliable OOB estimates.\n",
      "  UserWarning,\n",
      "D:\\set_up\\anaconda\\lib\\site-packages\\sklearn\\ensemble\\_forest.py:564: UserWarning: Some inputs do not have OOB scores. This probably means too few trees were used to compute any reliable OOB estimates.\n",
      "  UserWarning,\n",
      "D:\\set_up\\anaconda\\lib\\site-packages\\sklearn\\ensemble\\_forest.py:564: UserWarning: Some inputs do not have OOB scores. This probably means too few trees were used to compute any reliable OOB estimates.\n",
      "  UserWarning,\n",
      "D:\\set_up\\anaconda\\lib\\site-packages\\sklearn\\ensemble\\_forest.py:564: UserWarning: Some inputs do not have OOB scores. This probably means too few trees were used to compute any reliable OOB estimates.\n",
      "  UserWarning,\n",
      "D:\\set_up\\anaconda\\lib\\site-packages\\sklearn\\ensemble\\_forest.py:564: UserWarning: Some inputs do not have OOB scores. This probably means too few trees were used to compute any reliable OOB estimates.\n",
      "  UserWarning,\n",
      "D:\\set_up\\anaconda\\lib\\site-packages\\sklearn\\ensemble\\_forest.py:564: UserWarning: Some inputs do not have OOB scores. This probably means too few trees were used to compute any reliable OOB estimates.\n",
      "  UserWarning,\n",
      "D:\\set_up\\anaconda\\lib\\site-packages\\sklearn\\ensemble\\_forest.py:564: UserWarning: Some inputs do not have OOB scores. This probably means too few trees were used to compute any reliable OOB estimates.\n",
      "  UserWarning,\n",
      "D:\\set_up\\anaconda\\lib\\site-packages\\sklearn\\ensemble\\_forest.py:564: UserWarning: Some inputs do not have OOB scores. This probably means too few trees were used to compute any reliable OOB estimates.\n",
      "  UserWarning,\n",
      "D:\\set_up\\anaconda\\lib\\site-packages\\sklearn\\ensemble\\_forest.py:564: UserWarning: Some inputs do not have OOB scores. This probably means too few trees were used to compute any reliable OOB estimates.\n",
      "  UserWarning,\n",
      "D:\\set_up\\anaconda\\lib\\site-packages\\sklearn\\ensemble\\_forest.py:564: UserWarning: Some inputs do not have OOB scores. This probably means too few trees were used to compute any reliable OOB estimates.\n",
      "  UserWarning,\n",
      "D:\\set_up\\anaconda\\lib\\site-packages\\sklearn\\ensemble\\_forest.py:564: UserWarning: Some inputs do not have OOB scores. This probably means too few trees were used to compute any reliable OOB estimates.\n",
      "  UserWarning,\n",
      "D:\\set_up\\anaconda\\lib\\site-packages\\sklearn\\ensemble\\_forest.py:564: UserWarning: Some inputs do not have OOB scores. This probably means too few trees were used to compute any reliable OOB estimates.\n",
      "  UserWarning,\n",
      "D:\\set_up\\anaconda\\lib\\site-packages\\sklearn\\ensemble\\_forest.py:564: UserWarning: Some inputs do not have OOB scores. This probably means too few trees were used to compute any reliable OOB estimates.\n",
      "  UserWarning,\n",
      "D:\\set_up\\anaconda\\lib\\site-packages\\sklearn\\ensemble\\_forest.py:564: UserWarning: Some inputs do not have OOB scores. This probably means too few trees were used to compute any reliable OOB estimates.\n",
      "  UserWarning,\n",
      "D:\\set_up\\anaconda\\lib\\site-packages\\sklearn\\ensemble\\_forest.py:564: UserWarning: Some inputs do not have OOB scores. This probably means too few trees were used to compute any reliable OOB estimates.\n",
      "  UserWarning,\n",
      "D:\\set_up\\anaconda\\lib\\site-packages\\sklearn\\ensemble\\_forest.py:564: UserWarning: Some inputs do not have OOB scores. This probably means too few trees were used to compute any reliable OOB estimates.\n",
      "  UserWarning,\n",
      "D:\\set_up\\anaconda\\lib\\site-packages\\sklearn\\ensemble\\_forest.py:564: UserWarning: Some inputs do not have OOB scores. This probably means too few trees were used to compute any reliable OOB estimates.\n",
      "  UserWarning,\n",
      "D:\\set_up\\anaconda\\lib\\site-packages\\sklearn\\ensemble\\_forest.py:564: UserWarning: Some inputs do not have OOB scores. This probably means too few trees were used to compute any reliable OOB estimates.\n",
      "  UserWarning,\n",
      "D:\\set_up\\anaconda\\lib\\site-packages\\sklearn\\ensemble\\_forest.py:564: UserWarning: Some inputs do not have OOB scores. This probably means too few trees were used to compute any reliable OOB estimates.\n",
      "  UserWarning,\n",
      "D:\\set_up\\anaconda\\lib\\site-packages\\sklearn\\ensemble\\_forest.py:564: UserWarning: Some inputs do not have OOB scores. This probably means too few trees were used to compute any reliable OOB estimates.\n",
      "  UserWarning,\n",
      "D:\\set_up\\anaconda\\lib\\site-packages\\sklearn\\ensemble\\_forest.py:564: UserWarning: Some inputs do not have OOB scores. This probably means too few trees were used to compute any reliable OOB estimates.\n",
      "  UserWarning,\n",
      "D:\\set_up\\anaconda\\lib\\site-packages\\sklearn\\ensemble\\_forest.py:564: UserWarning: Some inputs do not have OOB scores. This probably means too few trees were used to compute any reliable OOB estimates.\n",
      "  UserWarning,\n",
      "D:\\set_up\\anaconda\\lib\\site-packages\\sklearn\\ensemble\\_forest.py:564: UserWarning: Some inputs do not have OOB scores. This probably means too few trees were used to compute any reliable OOB estimates.\n",
      "  UserWarning,\n",
      "D:\\set_up\\anaconda\\lib\\site-packages\\sklearn\\ensemble\\_forest.py:564: UserWarning: Some inputs do not have OOB scores. This probably means too few trees were used to compute any reliable OOB estimates.\n",
      "  UserWarning,\n",
      "D:\\set_up\\anaconda\\lib\\site-packages\\sklearn\\ensemble\\_forest.py:564: UserWarning: Some inputs do not have OOB scores. This probably means too few trees were used to compute any reliable OOB estimates.\n",
      "  UserWarning,\n",
      "D:\\set_up\\anaconda\\lib\\site-packages\\sklearn\\ensemble\\_forest.py:564: UserWarning: Some inputs do not have OOB scores. This probably means too few trees were used to compute any reliable OOB estimates.\n",
      "  UserWarning,\n",
      "D:\\set_up\\anaconda\\lib\\site-packages\\sklearn\\ensemble\\_forest.py:564: UserWarning: Some inputs do not have OOB scores. This probably means too few trees were used to compute any reliable OOB estimates.\n",
      "  UserWarning,\n",
      "D:\\set_up\\anaconda\\lib\\site-packages\\sklearn\\ensemble\\_forest.py:564: UserWarning: Some inputs do not have OOB scores. This probably means too few trees were used to compute any reliable OOB estimates.\n",
      "  UserWarning,\n",
      "D:\\set_up\\anaconda\\lib\\site-packages\\sklearn\\ensemble\\_forest.py:564: UserWarning: Some inputs do not have OOB scores. This probably means too few trees were used to compute any reliable OOB estimates.\n",
      "  UserWarning,\n",
      "D:\\set_up\\anaconda\\lib\\site-packages\\sklearn\\ensemble\\_forest.py:564: UserWarning: Some inputs do not have OOB scores. This probably means too few trees were used to compute any reliable OOB estimates.\n",
      "  UserWarning,\n",
      "D:\\set_up\\anaconda\\lib\\site-packages\\sklearn\\ensemble\\_forest.py:564: UserWarning: Some inputs do not have OOB scores. This probably means too few trees were used to compute any reliable OOB estimates.\n",
      "  UserWarning,\n",
      "D:\\set_up\\anaconda\\lib\\site-packages\\sklearn\\ensemble\\_forest.py:564: UserWarning: Some inputs do not have OOB scores. This probably means too few trees were used to compute any reliable OOB estimates.\n",
      "  UserWarning,\n",
      "D:\\set_up\\anaconda\\lib\\site-packages\\sklearn\\ensemble\\_forest.py:564: UserWarning: Some inputs do not have OOB scores. This probably means too few trees were used to compute any reliable OOB estimates.\n",
      "  UserWarning,\n"
     ]
    },
    {
     "name": "stderr",
     "output_type": "stream",
     "text": [
      "D:\\set_up\\anaconda\\lib\\site-packages\\sklearn\\ensemble\\_forest.py:564: UserWarning: Some inputs do not have OOB scores. This probably means too few trees were used to compute any reliable OOB estimates.\n",
      "  UserWarning,\n",
      "D:\\set_up\\anaconda\\lib\\site-packages\\sklearn\\ensemble\\_forest.py:564: UserWarning: Some inputs do not have OOB scores. This probably means too few trees were used to compute any reliable OOB estimates.\n",
      "  UserWarning,\n",
      "D:\\set_up\\anaconda\\lib\\site-packages\\sklearn\\ensemble\\_forest.py:564: UserWarning: Some inputs do not have OOB scores. This probably means too few trees were used to compute any reliable OOB estimates.\n",
      "  UserWarning,\n",
      "D:\\set_up\\anaconda\\lib\\site-packages\\sklearn\\ensemble\\_forest.py:564: UserWarning: Some inputs do not have OOB scores. This probably means too few trees were used to compute any reliable OOB estimates.\n",
      "  UserWarning,\n",
      "D:\\set_up\\anaconda\\lib\\site-packages\\sklearn\\ensemble\\_forest.py:564: UserWarning: Some inputs do not have OOB scores. This probably means too few trees were used to compute any reliable OOB estimates.\n",
      "  UserWarning,\n",
      "D:\\set_up\\anaconda\\lib\\site-packages\\sklearn\\ensemble\\_forest.py:564: UserWarning: Some inputs do not have OOB scores. This probably means too few trees were used to compute any reliable OOB estimates.\n",
      "  UserWarning,\n",
      "D:\\set_up\\anaconda\\lib\\site-packages\\sklearn\\ensemble\\_forest.py:564: UserWarning: Some inputs do not have OOB scores. This probably means too few trees were used to compute any reliable OOB estimates.\n",
      "  UserWarning,\n",
      "D:\\set_up\\anaconda\\lib\\site-packages\\sklearn\\ensemble\\_forest.py:564: UserWarning: Some inputs do not have OOB scores. This probably means too few trees were used to compute any reliable OOB estimates.\n",
      "  UserWarning,\n",
      "D:\\set_up\\anaconda\\lib\\site-packages\\sklearn\\ensemble\\_forest.py:564: UserWarning: Some inputs do not have OOB scores. This probably means too few trees were used to compute any reliable OOB estimates.\n",
      "  UserWarning,\n",
      "D:\\set_up\\anaconda\\lib\\site-packages\\sklearn\\ensemble\\_forest.py:564: UserWarning: Some inputs do not have OOB scores. This probably means too few trees were used to compute any reliable OOB estimates.\n",
      "  UserWarning,\n",
      "D:\\set_up\\anaconda\\lib\\site-packages\\sklearn\\ensemble\\_forest.py:564: UserWarning: Some inputs do not have OOB scores. This probably means too few trees were used to compute any reliable OOB estimates.\n",
      "  UserWarning,\n",
      "D:\\set_up\\anaconda\\lib\\site-packages\\sklearn\\ensemble\\_forest.py:564: UserWarning: Some inputs do not have OOB scores. This probably means too few trees were used to compute any reliable OOB estimates.\n",
      "  UserWarning,\n",
      "D:\\set_up\\anaconda\\lib\\site-packages\\sklearn\\ensemble\\_forest.py:564: UserWarning: Some inputs do not have OOB scores. This probably means too few trees were used to compute any reliable OOB estimates.\n",
      "  UserWarning,\n",
      "D:\\set_up\\anaconda\\lib\\site-packages\\sklearn\\ensemble\\_forest.py:564: UserWarning: Some inputs do not have OOB scores. This probably means too few trees were used to compute any reliable OOB estimates.\n",
      "  UserWarning,\n",
      "D:\\set_up\\anaconda\\lib\\site-packages\\sklearn\\ensemble\\_forest.py:564: UserWarning: Some inputs do not have OOB scores. This probably means too few trees were used to compute any reliable OOB estimates.\n",
      "  UserWarning,\n",
      "D:\\set_up\\anaconda\\lib\\site-packages\\sklearn\\ensemble\\_forest.py:564: UserWarning: Some inputs do not have OOB scores. This probably means too few trees were used to compute any reliable OOB estimates.\n",
      "  UserWarning,\n",
      "D:\\set_up\\anaconda\\lib\\site-packages\\sklearn\\ensemble\\_forest.py:564: UserWarning: Some inputs do not have OOB scores. This probably means too few trees were used to compute any reliable OOB estimates.\n",
      "  UserWarning,\n",
      "D:\\set_up\\anaconda\\lib\\site-packages\\sklearn\\ensemble\\_forest.py:564: UserWarning: Some inputs do not have OOB scores. This probably means too few trees were used to compute any reliable OOB estimates.\n",
      "  UserWarning,\n",
      "D:\\set_up\\anaconda\\lib\\site-packages\\sklearn\\ensemble\\_forest.py:564: UserWarning: Some inputs do not have OOB scores. This probably means too few trees were used to compute any reliable OOB estimates.\n",
      "  UserWarning,\n",
      "D:\\set_up\\anaconda\\lib\\site-packages\\sklearn\\ensemble\\_forest.py:564: UserWarning: Some inputs do not have OOB scores. This probably means too few trees were used to compute any reliable OOB estimates.\n",
      "  UserWarning,\n",
      "D:\\set_up\\anaconda\\lib\\site-packages\\sklearn\\ensemble\\_forest.py:564: UserWarning: Some inputs do not have OOB scores. This probably means too few trees were used to compute any reliable OOB estimates.\n",
      "  UserWarning,\n",
      "D:\\set_up\\anaconda\\lib\\site-packages\\sklearn\\ensemble\\_forest.py:564: UserWarning: Some inputs do not have OOB scores. This probably means too few trees were used to compute any reliable OOB estimates.\n",
      "  UserWarning,\n",
      "D:\\set_up\\anaconda\\lib\\site-packages\\sklearn\\ensemble\\_forest.py:564: UserWarning: Some inputs do not have OOB scores. This probably means too few trees were used to compute any reliable OOB estimates.\n",
      "  UserWarning,\n",
      "D:\\set_up\\anaconda\\lib\\site-packages\\sklearn\\ensemble\\_forest.py:564: UserWarning: Some inputs do not have OOB scores. This probably means too few trees were used to compute any reliable OOB estimates.\n",
      "  UserWarning,\n",
      "D:\\set_up\\anaconda\\lib\\site-packages\\sklearn\\ensemble\\_forest.py:564: UserWarning: Some inputs do not have OOB scores. This probably means too few trees were used to compute any reliable OOB estimates.\n",
      "  UserWarning,\n"
     ]
    },
    {
     "data": {
      "text/plain": [
       "GridSearchCV(cv=5,\n",
       "             estimator=RandomForestClassifier(max_depth=13, max_features='sqrt',\n",
       "                                              n_estimators=20, oob_score=True,\n",
       "                                              random_state=10),\n",
       "             param_grid={'min_samples_leaf': range(10, 60, 10),\n",
       "                         'min_samples_split': range(80, 150, 20)},\n",
       "             scoring='roc_auc')"
      ]
     },
     "execution_count": 395,
     "metadata": {},
     "output_type": "execute_result"
    },
    {
     "data": {
      "text/plain": [
       "([{'min_samples_leaf': 10, 'min_samples_split': 80},\n",
       "  {'min_samples_leaf': 10, 'min_samples_split': 100},\n",
       "  {'min_samples_leaf': 10, 'min_samples_split': 120},\n",
       "  {'min_samples_leaf': 10, 'min_samples_split': 140},\n",
       "  {'min_samples_leaf': 20, 'min_samples_split': 80},\n",
       "  {'min_samples_leaf': 20, 'min_samples_split': 100},\n",
       "  {'min_samples_leaf': 20, 'min_samples_split': 120},\n",
       "  {'min_samples_leaf': 20, 'min_samples_split': 140},\n",
       "  {'min_samples_leaf': 30, 'min_samples_split': 80},\n",
       "  {'min_samples_leaf': 30, 'min_samples_split': 100},\n",
       "  {'min_samples_leaf': 30, 'min_samples_split': 120},\n",
       "  {'min_samples_leaf': 30, 'min_samples_split': 140},\n",
       "  {'min_samples_leaf': 40, 'min_samples_split': 80},\n",
       "  {'min_samples_leaf': 40, 'min_samples_split': 100},\n",
       "  {'min_samples_leaf': 40, 'min_samples_split': 120},\n",
       "  {'min_samples_leaf': 40, 'min_samples_split': 140},\n",
       "  {'min_samples_leaf': 50, 'min_samples_split': 80},\n",
       "  {'min_samples_leaf': 50, 'min_samples_split': 100},\n",
       "  {'min_samples_leaf': 50, 'min_samples_split': 120},\n",
       "  {'min_samples_leaf': 50, 'min_samples_split': 140}],\n",
       " array([0.84555482, 0.84609387, 0.83589744, 0.8238931 , 0.84613136,\n",
       "        0.84053137, 0.83116665, 0.82860395, 0.82785336, 0.84338468,\n",
       "        0.83284704, 0.82639024, 0.82688273, 0.83189071, 0.82124463,\n",
       "        0.81907435, 0.81940465, 0.81940465, 0.81784401, 0.81427336]),\n",
       " {'max_depth': 13, 'min_samples_split': 50},\n",
       " 0.858134900239006)"
      ]
     },
     "execution_count": 395,
     "metadata": {},
     "output_type": "execute_result"
    }
   ],
   "source": [
    "#再对内部节点再划分所需最小样本数min_samples_split和叶子节点最少样本数min_samples_leaf一起调参\n",
    "param_test3= {'min_samples_split':range(80,150,20), 'min_samples_leaf':range(10,60,10)}\n",
    "gsearch3= GridSearchCV(estimator = RandomForestClassifier(n_estimators= 20,max_depth=13,\n",
    "                                 max_features='sqrt' ,oob_score=True, random_state=10),\n",
    "   param_grid = param_test3,scoring='roc_auc', cv=5)\n",
    "gsearch3.fit(RF_train_x,RF_train_y.values.ravel())\n",
    "gsearch3.cv_results_['params'],gsearch3.cv_results_['mean_test_score'],gsearch3.best_params_, gsearch3.best_score_"
   ]
  },
  {
   "cell_type": "code",
   "execution_count": 397,
   "metadata": {},
   "outputs": [
    {
     "data": {
      "text/plain": [
       "({'min_samples_leaf': 20, 'min_samples_split': 80}, 0.8461313604335)"
      ]
     },
     "execution_count": 397,
     "metadata": {},
     "output_type": "execute_result"
    }
   ],
   "source": [
    "gsearch3.best_params_, gsearch3.best_score_"
   ]
  },
  {
   "cell_type": "code",
   "execution_count": 399,
   "metadata": {
    "scrolled": true
   },
   "outputs": [
    {
     "name": "stderr",
     "output_type": "stream",
     "text": [
      "D:\\set_up\\anaconda\\lib\\site-packages\\sklearn\\ensemble\\_forest.py:564: UserWarning: Some inputs do not have OOB scores. This probably means too few trees were used to compute any reliable OOB estimates.\n",
      "  UserWarning,\n",
      "D:\\set_up\\anaconda\\lib\\site-packages\\sklearn\\ensemble\\_forest.py:564: UserWarning: Some inputs do not have OOB scores. This probably means too few trees were used to compute any reliable OOB estimates.\n",
      "  UserWarning,\n",
      "D:\\set_up\\anaconda\\lib\\site-packages\\sklearn\\ensemble\\_forest.py:564: UserWarning: Some inputs do not have OOB scores. This probably means too few trees were used to compute any reliable OOB estimates.\n",
      "  UserWarning,\n",
      "D:\\set_up\\anaconda\\lib\\site-packages\\sklearn\\ensemble\\_forest.py:564: UserWarning: Some inputs do not have OOB scores. This probably means too few trees were used to compute any reliable OOB estimates.\n",
      "  UserWarning,\n",
      "D:\\set_up\\anaconda\\lib\\site-packages\\sklearn\\ensemble\\_forest.py:564: UserWarning: Some inputs do not have OOB scores. This probably means too few trees were used to compute any reliable OOB estimates.\n",
      "  UserWarning,\n",
      "D:\\set_up\\anaconda\\lib\\site-packages\\sklearn\\ensemble\\_forest.py:564: UserWarning: Some inputs do not have OOB scores. This probably means too few trees were used to compute any reliable OOB estimates.\n",
      "  UserWarning,\n",
      "D:\\set_up\\anaconda\\lib\\site-packages\\sklearn\\ensemble\\_forest.py:564: UserWarning: Some inputs do not have OOB scores. This probably means too few trees were used to compute any reliable OOB estimates.\n",
      "  UserWarning,\n",
      "D:\\set_up\\anaconda\\lib\\site-packages\\sklearn\\ensemble\\_forest.py:564: UserWarning: Some inputs do not have OOB scores. This probably means too few trees were used to compute any reliable OOB estimates.\n",
      "  UserWarning,\n",
      "D:\\set_up\\anaconda\\lib\\site-packages\\sklearn\\ensemble\\_forest.py:564: UserWarning: Some inputs do not have OOB scores. This probably means too few trees were used to compute any reliable OOB estimates.\n",
      "  UserWarning,\n",
      "D:\\set_up\\anaconda\\lib\\site-packages\\sklearn\\ensemble\\_forest.py:564: UserWarning: Some inputs do not have OOB scores. This probably means too few trees were used to compute any reliable OOB estimates.\n",
      "  UserWarning,\n",
      "D:\\set_up\\anaconda\\lib\\site-packages\\sklearn\\ensemble\\_forest.py:564: UserWarning: Some inputs do not have OOB scores. This probably means too few trees were used to compute any reliable OOB estimates.\n",
      "  UserWarning,\n",
      "D:\\set_up\\anaconda\\lib\\site-packages\\sklearn\\ensemble\\_forest.py:564: UserWarning: Some inputs do not have OOB scores. This probably means too few trees were used to compute any reliable OOB estimates.\n",
      "  UserWarning,\n",
      "D:\\set_up\\anaconda\\lib\\site-packages\\sklearn\\ensemble\\_forest.py:564: UserWarning: Some inputs do not have OOB scores. This probably means too few trees were used to compute any reliable OOB estimates.\n",
      "  UserWarning,\n",
      "D:\\set_up\\anaconda\\lib\\site-packages\\sklearn\\ensemble\\_forest.py:564: UserWarning: Some inputs do not have OOB scores. This probably means too few trees were used to compute any reliable OOB estimates.\n",
      "  UserWarning,\n",
      "D:\\set_up\\anaconda\\lib\\site-packages\\sklearn\\ensemble\\_forest.py:564: UserWarning: Some inputs do not have OOB scores. This probably means too few trees were used to compute any reliable OOB estimates.\n",
      "  UserWarning,\n",
      "D:\\set_up\\anaconda\\lib\\site-packages\\sklearn\\ensemble\\_forest.py:564: UserWarning: Some inputs do not have OOB scores. This probably means too few trees were used to compute any reliable OOB estimates.\n",
      "  UserWarning,\n",
      "D:\\set_up\\anaconda\\lib\\site-packages\\sklearn\\ensemble\\_forest.py:564: UserWarning: Some inputs do not have OOB scores. This probably means too few trees were used to compute any reliable OOB estimates.\n",
      "  UserWarning,\n",
      "D:\\set_up\\anaconda\\lib\\site-packages\\sklearn\\ensemble\\_forest.py:564: UserWarning: Some inputs do not have OOB scores. This probably means too few trees were used to compute any reliable OOB estimates.\n",
      "  UserWarning,\n",
      "D:\\set_up\\anaconda\\lib\\site-packages\\sklearn\\ensemble\\_forest.py:564: UserWarning: Some inputs do not have OOB scores. This probably means too few trees were used to compute any reliable OOB estimates.\n",
      "  UserWarning,\n",
      "D:\\set_up\\anaconda\\lib\\site-packages\\sklearn\\ensemble\\_forest.py:564: UserWarning: Some inputs do not have OOB scores. This probably means too few trees were used to compute any reliable OOB estimates.\n",
      "  UserWarning,\n",
      "D:\\set_up\\anaconda\\lib\\site-packages\\sklearn\\ensemble\\_forest.py:564: UserWarning: Some inputs do not have OOB scores. This probably means too few trees were used to compute any reliable OOB estimates.\n",
      "  UserWarning,\n"
     ]
    },
    {
     "data": {
      "text/plain": [
       "GridSearchCV(cv=5,\n",
       "             estimator=RandomForestClassifier(max_depth=13, min_samples_leaf=20,\n",
       "                                              min_samples_split=80,\n",
       "                                              n_estimators=20, oob_score=True,\n",
       "                                              random_state=10),\n",
       "             param_grid={'max_features': range(3, 11, 2)}, scoring='roc_auc')"
      ]
     },
     "execution_count": 399,
     "metadata": {},
     "output_type": "execute_result"
    },
    {
     "data": {
      "text/plain": [
       "([{'max_features': 3},\n",
       "  {'max_features': 5},\n",
       "  {'max_features': 7},\n",
       "  {'max_features': 9}],\n",
       " array([0.80656575, 0.83655574, 0.84115399, 0.84087633]))"
      ]
     },
     "execution_count": 399,
     "metadata": {},
     "output_type": "execute_result"
    }
   ],
   "source": [
    "#最后我们再对最大特征数max_features做调参:\n",
    "param_test4= {'max_features':range(3,11,2)}\n",
    "gsearch4= GridSearchCV(estimator = RandomForestClassifier(n_estimators= 20,max_depth=13, min_samples_split=80,\n",
    "                                 min_samples_leaf=20 ,oob_score=True, random_state=10),\n",
    "   param_grid = param_test4,scoring='roc_auc', cv=5)\n",
    "gsearch4.fit(RF_train_x,RF_train_y.values.ravel())\n",
    "gsearch4.cv_results_['params'],gsearch4.cv_results_['mean_test_score']"
   ]
  },
  {
   "cell_type": "code",
   "execution_count": 400,
   "metadata": {},
   "outputs": [
    {
     "data": {
      "text/plain": [
       "({'max_features': 7}, 0.8411539858334912)"
      ]
     },
     "execution_count": 400,
     "metadata": {},
     "output_type": "execute_result"
    }
   ],
   "source": [
    "gsearch4.best_params_, gsearch4.best_score_"
   ]
  },
  {
   "cell_type": "code",
   "execution_count": 82,
   "metadata": {},
   "outputs": [
    {
     "name": "stderr",
     "output_type": "stream",
     "text": [
      "D:\\set_up\\anaconda\\lib\\site-packages\\sklearn\\ensemble\\_forest.py:564: UserWarning: Some inputs do not have OOB scores. This probably means too few trees were used to compute any reliable OOB estimates.\n",
      "  UserWarning,\n"
     ]
    },
    {
     "data": {
      "text/plain": [
       "RandomForestClassifier(max_depth=13, max_features=7, min_samples_leaf=20,\n",
       "                       min_samples_split=80, n_estimators=20, oob_score=True,\n",
       "                       random_state=10)"
      ]
     },
     "execution_count": 82,
     "metadata": {},
     "output_type": "execute_result"
    },
    {
     "data": {
      "text/plain": [
       "0.8322317262830482"
      ]
     },
     "execution_count": 82,
     "metadata": {},
     "output_type": "execute_result"
    },
    {
     "name": "stdout",
     "output_type": "stream",
     "text": [
      "TN|FP\n",
      "FN|TP\n",
      "[[788 307]\n",
      " [ 46 101]]\n",
      "precision:24.75%, recall:68.71%, accuracy:71.58%\n"
     ]
    }
   ],
   "source": [
    "RF_module1= RandomForestClassifier(n_estimators= 20, max_depth=13, min_samples_split=80,\n",
    "                                 min_samples_leaf=20,max_features=7 ,oob_score=True, random_state=10)\n",
    "RF_module1.fit(RF_train_x,RF_train_y.values.ravel())\n",
    "RF_module1.oob_score_\n",
    "RF_test_prob1 = RF_module1.predict_proba(validation_test_f)[:,1]\n",
    "judge(validation_test_l,np.where(RF_test_prob1 >= 0.5,1,0))"
   ]
  },
  {
   "cell_type": "markdown",
   "metadata": {},
   "source": [
    "## SVM"
   ]
  },
  {
   "cell_type": "code",
   "execution_count": 83,
   "metadata": {},
   "outputs": [],
   "source": [
    "SVM_train_x,SVM_train_y =  smote_train_x_out.copy(),smote_train_y_out.copy()"
   ]
  },
  {
   "cell_type": "code",
   "execution_count": 84,
   "metadata": {},
   "outputs": [
    {
     "name": "stdout",
     "output_type": "stream",
     "text": [
      "#### kernel = rbf ####\n"
     ]
    },
    {
     "data": {
      "text/plain": [
       "SVC(probability=True)"
      ]
     },
     "execution_count": 84,
     "metadata": {},
     "output_type": "execute_result"
    },
    {
     "name": "stdout",
     "output_type": "stream",
     "text": [
      "*** prob ***\n",
      "TN|FP\n",
      "FN|TP\n",
      "[[759 336]\n",
      " [ 48  99]]\n",
      "precision:22.76%, recall:67.35%, accuracy:69.08%\n",
      "*** pre ***\n",
      "TN|FP\n",
      "FN|TP\n",
      "[[679 416]\n",
      " [ 33 114]]\n",
      "precision:21.51%, recall:77.55%, accuracy:63.85%\n",
      "#### kernel = linear ####\n"
     ]
    },
    {
     "data": {
      "text/plain": [
       "SVC(probability=True)"
      ]
     },
     "execution_count": 84,
     "metadata": {},
     "output_type": "execute_result"
    },
    {
     "name": "stdout",
     "output_type": "stream",
     "text": [
      "*** prob ***\n",
      "TN|FP\n",
      "FN|TP\n",
      "[[768 327]\n",
      " [ 50  97]]\n",
      "precision:22.88%, recall:65.99%, accuracy:69.65%\n",
      "*** pre ***\n",
      "TN|FP\n",
      "FN|TP\n",
      "[[679 416]\n",
      " [ 33 114]]\n",
      "precision:21.51%, recall:77.55%, accuracy:63.85%\n",
      "#### kernel = poly ####\n"
     ]
    },
    {
     "data": {
      "text/plain": [
       "SVC(kernel='poly', probability=True)"
      ]
     },
     "execution_count": 84,
     "metadata": {},
     "output_type": "execute_result"
    },
    {
     "name": "stdout",
     "output_type": "stream",
     "text": [
      "*** prob ***\n",
      "TN|FP\n",
      "FN|TP\n",
      "[[550 545]\n",
      " [ 23 124]]\n",
      "precision:18.54%, recall:84.35%, accuracy:54.27%\n",
      "*** pre ***\n",
      "TN|FP\n",
      "FN|TP\n",
      "[[281 814]\n",
      " [  8 139]]\n",
      "precision:14.59%, recall:94.56%, accuracy:33.82%\n"
     ]
    }
   ],
   "source": [
    "from sklearn import svm\n",
    "# select different type of kernel function and compare the score\n",
    "\n",
    "print('#### kernel = rbf ####')\n",
    "clf_rbf = svm.SVC(kernel='rbf',probability=True)\n",
    "clf_rbf.fit(SVM_train_x,SVM_train_y.values.ravel())\n",
    "SVM_test_prob = clf_rbf.predict_proba(validation_test_f)[:,-1]     # Compute probabilities of possible outcomes for samples in X.\n",
    "SVM_test_pre = clf_rbf.predict(validation_test_f)                  # 模型对测试集的预测结果\n",
    "print('*** prob ***')\n",
    "judge(validation_test_l,np.where(SVM_test_prob >= 0.5,1,0))\n",
    "print('*** pre ***')\n",
    "judge(validation_test_l,SVM_test_pre)\n",
    "\n",
    "print('#### kernel = linear ####')\n",
    "clf_rbf = svm.SVC(kernel='rbf',probability=True)\n",
    "clf_rbf.fit(SVM_train_x,SVM_train_y.values.ravel())\n",
    "SVM_test_prob = clf_rbf.predict_proba(validation_test_f)[:,-1]     # Compute probabilities of possible outcomes for samples in X.\n",
    "SVM_test_pre = clf_rbf.predict(validation_test_f)                  # 模型对测试集的预测结果\n",
    "print('*** prob ***')\n",
    "judge(validation_test_l,np.where(SVM_test_prob >= 0.5,1,0))\n",
    "print('*** pre ***')\n",
    "judge(validation_test_l,SVM_test_pre)\n",
    "\n",
    "print('#### kernel = poly ####')\n",
    "clf_rbf = svm.SVC(kernel='poly',probability=True)\n",
    "clf_rbf.fit(SVM_train_x,SVM_train_y.values.ravel())\n",
    "SVM_test_prob = clf_rbf.predict_proba(validation_test_f)[:,-1]     # Compute probabilities of possible outcomes for samples in X.\n",
    "SVM_test_pre = clf_rbf.predict(validation_test_f)                  # 模型对测试集的预测结果\n",
    "print('*** prob ***')\n",
    "judge(validation_test_l,np.where(SVM_test_prob >= 0.5,1,0))\n",
    "print('*** pre ***')\n",
    "judge(validation_test_l,SVM_test_pre)"
   ]
  },
  {
   "cell_type": "code",
   "execution_count": 85,
   "metadata": {},
   "outputs": [
    {
     "name": "stdout",
     "output_type": "stream",
     "text": [
      "#### kernel = linear ####\n"
     ]
    },
    {
     "data": {
      "text/plain": [
       "SVC(probability=True)"
      ]
     },
     "execution_count": 85,
     "metadata": {},
     "output_type": "execute_result"
    },
    {
     "name": "stdout",
     "output_type": "stream",
     "text": [
      "*** prob ***\n",
      "TN|FP\n",
      "FN|TP\n",
      "[[767 328]\n",
      " [ 50  97]]\n",
      "precision:22.82%, recall:65.99%, accuracy:69.57%\n",
      "*** pre ***\n",
      "TN|FP\n",
      "FN|TP\n",
      "[[679 416]\n",
      " [ 33 114]]\n",
      "precision:21.51%, recall:77.55%, accuracy:63.85%\n"
     ]
    }
   ],
   "source": [
    "# 选 linear \n",
    "print('#### kernel = linear ####')\n",
    "clf_rbf = svm.SVC(kernel='rbf',probability=True)\n",
    "clf_rbf.fit(SVM_train_x,SVM_train_y.values.ravel())\n",
    "SVM_test_prob = clf_rbf.predict_proba(validation_test_f)[:,-1]     # Compute probabilities of possible outcomes for samples in X.\n",
    "SVM_test_pre = clf_rbf.predict(validation_test_f)                  # 模型对测试集的预测结果\n",
    "print('*** prob ***')\n",
    "judge(validation_test_l,np.where(SVM_test_prob >= 0.5,1,0))\n",
    "print('*** pre ***')\n",
    "judge(validation_test_l,SVM_test_pre)"
   ]
  },
  {
   "cell_type": "markdown",
   "metadata": {},
   "source": [
    "## 多模型合并"
   ]
  },
  {
   "cell_type": "code",
   "execution_count": 91,
   "metadata": {
    "scrolled": true
   },
   "outputs": [
    {
     "name": "stdout",
     "output_type": "stream",
     "text": [
      "#### avg_prob ####\n",
      "TN|FP\n",
      "FN|TP\n",
      "[[771 324]\n",
      " [ 45 102]]\n",
      "precision:23.94%, recall:69.39%, accuracy:70.29%\n",
      "#### intersection_pre ####\n",
      "票数:4\n",
      "TN|FP\n",
      "FN|TP\n",
      "[[978 117]\n",
      " [ 99  48]]\n",
      "precision:29.09%, recall:32.65%, accuracy:82.61%\n",
      "票数:3\n",
      "TN|FP\n",
      "FN|TP\n",
      "[[865 230]\n",
      " [ 68  79]]\n",
      "precision:25.57%, recall:53.74%, accuracy:76.01%\n",
      "票数:2\n",
      "TN|FP\n",
      "FN|TP\n",
      "[[771 324]\n",
      " [ 44 103]]\n",
      "precision:24.12%, recall:70.07%, accuracy:70.37%\n",
      "票数:1\n",
      "TN|FP\n",
      "FN|TP\n",
      "[[659 436]\n",
      " [ 26 121]]\n",
      "precision:21.72%, recall:82.31%, accuracy:62.80%\n"
     ]
    }
   ],
   "source": [
    "XGB_test_pre = np.where(XGB_test_prob1 >= 0.6,1,0)\n",
    "LR_test_pre = np.where(LR_test_prob >= 0.6,1,0)\n",
    "RF_test_pre = np.where(RF_test_prob1 >= 0.6,1,0)\n",
    "SVM_test_pre = SVM_test_pre.copy()\n",
    "\n",
    "print('#### avg_prob ####')\n",
    "# avg_test_prob =  (XGB_test_prob1+ RF_test_prob1 )/2 \n",
    "avg_test_prob = (XGB_test_prob1 + LR_test_prob + RF_test_prob1 + SVM_test_prob)/4\n",
    "\n",
    "\n",
    "avg_test_pre = np.where(avg_test_prob >= 0.5,1,0)\n",
    "judge(validation_test_l,avg_test_pre)\n",
    "print('#### intersection_pre ####')\n",
    "# mix_test_pre = XGB_test_pre + RF_test_pre   \n",
    "mix_test_pre = XGB_test_pre + LR_test_pre + RF_test_pre + SVM_test_pre\n",
    "print('票数:4')\n",
    "judge(validation_test_l,np.where(mix_test_pre >= 4,1,0))\n",
    "print('票数:3')\n",
    "judge(validation_test_l,np.where(mix_test_pre >= 3,1,0))\n",
    "print('票数:2')\n",
    "judge(validation_test_l,np.where(mix_test_pre >= 2,1,0))\n",
    "print('票数:1')\n",
    "judge(validation_test_l,np.where(mix_test_pre >= 1,1,0))\n"
   ]
  },
  {
   "cell_type": "code",
   "execution_count": 90,
   "metadata": {},
   "outputs": [],
   "source": [
    "# 最优pre结果\n",
    "best_test_pre = np.where(mix_test_pre >= 4,1,0)"
   ]
  },
  {
   "cell_type": "code",
   "execution_count": 130,
   "metadata": {},
   "outputs": [],
   "source": [
    "#1 V 0 \n",
    "raw_data = pd.read_csv('./data/sz50_flag.csv',index_col = 0)\n",
    "raw_data.DATETIME = pd.to_datetime(raw_data.DATETIME)\n",
    "raw_data.set_index('DATETIME',inplace = True)\n",
    "raw_data.flag = raw_data.flag.fillna(0)\n",
    "test_l_pre = validation_test_l.copy()\n",
    "test_l_pre['pre'] = best_test_pre\n",
    "\n",
    "vic_data = raw_data.iloc[:,[0,-1]].merge(test_l_pre,left_index = True,right_index = True,how = 'left')\n",
    "vic_data = vic_data[vic_data.index >= '2016-12-07']\n",
    "\n",
    "# flag + shift(-1)还原\n",
    "vic_data.flag = vic_data.flag.shift(1)\n",
    "vic_data.target = vic_data.target.shift(1)\n",
    "vic_data.pre = vic_data.pre.shift(1)"
   ]
  },
  {
   "cell_type": "code",
   "execution_count": 131,
   "metadata": {},
   "outputs": [],
   "source": [
    "vic_data.to_csv('./res/20220126_1.csv')"
   ]
  },
  {
   "cell_type": "code",
   "execution_count": 132,
   "metadata": {},
   "outputs": [],
   "source": [
    "def long_vis(draw_df,title_name):\n",
    "    '''\n",
    "    输入1000个交易日左右的数据\n",
    "    输出open构成的折线 + 笔（拐点）\n",
    "    '''\n",
    "    draw_df = draw_df.reset_index().copy()\n",
    "    ## 生成part和pen的标注点\n",
    "    def part_pen_up_func(parting, open):\n",
    "        if parting == 1:\n",
    "            return open + 0\n",
    "        else:\n",
    "            return np.nan\n",
    "\n",
    "    def part_pen_down_func(parting, open):\n",
    "        if parting == -1:\n",
    "            return open - 0\n",
    "        else:\n",
    "            return np.nan\n",
    "\n",
    "    \n",
    "    # draw_part为分型part的标记高度，part_pen为笔pen的标记高度。\n",
    "    draw_df['draw_pre_up'] = draw_df.apply(lambda row: part_pen_up_func(row['pre'], row['open']), axis=1)\n",
    "#     draw_df['draw_pre_down'] = draw_df.apply(lambda row: part_pen_down_func(row['pre'], row['open']), axis=1)\n",
    "    draw_df['draw_true_up'] = draw_df.apply(lambda row: part_pen_up_func(row['flag'], row['open']), axis=1)\n",
    "    draw_df['draw_true_down'] = draw_df.apply(lambda row: part_pen_down_func(row['flag'], row['open']), axis=1)\n",
    "\n",
    "\n",
    "    \n",
    "    ## 用原始高开低收数据生成k线\n",
    "    draw_df['DATETIME'] = pd.to_datetime(draw_df['DATETIME'], format='%Y-%m-%d')\n",
    "    \n",
    "    plt.figure(figsize= (15,8));\n",
    "    plt.plot(draw_df['DATETIME'] ,draw_df.open,color = 'k',alpha = 0.7)\n",
    "    plt.scatter(draw_df['DATETIME'] ,draw_df.draw_pre_up,marker='o',label = 'Pre Downward inflection')\n",
    "#     plt.scatter(draw_df['DATETIME'] ,draw_df.draw_pre_down,marker='*',color = 'g',label = 'Pre Upward inflection')\n",
    "    plt.scatter(draw_df['DATETIME'] ,draw_df.draw_true_up,marker='^',color = 'r' ,label = 'True Downward inflection')\n",
    "    plt.scatter(draw_df['DATETIME'] ,draw_df.draw_true_down,marker='^',color = 'g' ,label = 'True Upward inflection')\n",
    "    plt.xticks(rotation=30)\n",
    "    plt.ylabel('open')\n",
    "    plt.title(title_name)\n",
    "    plt.legend()\n",
    "    plt.show()\n",
    "    print('plot success')\n",
    "#     save_path = '/pic/long_vis_'+ index_name + '.csv'\n",
    "#     plt.savefig(save_path)"
   ]
  },
  {
   "cell_type": "code",
   "execution_count": 133,
   "metadata": {},
   "outputs": [
    {
     "data": {
      "image/png": "[encoded data removed]",
      "text/plain": [
       "<Figure size 1080x576 with 1 Axes>"
      ]
     },
     "metadata": {
      "needs_background": "light"
     },
     "output_type": "display_data"
    },
    {
     "name": "stdout",
     "output_type": "stream",
     "text": [
      "plot success\n"
     ]
    }
   ],
   "source": [
    "long_vis(vic_data.iloc[-500:,:],'XGB_LR')"
   ]
  },
  {
   "cell_type": "code",
   "execution_count": 134,
   "metadata": {},
   "outputs": [
    {
     "data": {
      "image/png": "[encoded data removed]",
      "text/plain": [
       "<Figure size 1080x576 with 1 Axes>"
      ]
     },
     "metadata": {
      "needs_background": "light"
     },
     "output_type": "display_data"
    },
    {
     "name": "stdout",
     "output_type": "stream",
     "text": [
      "plot success\n"
     ]
    }
   ],
   "source": [
    "long_vis(vic_data.iloc[-1000:-500,:],'XGB_LR')"
   ]
  },
  {
   "cell_type": "code",
   "execution_count": 72,
   "metadata": {},
   "outputs": [],
   "source": [
    "vic_data_m1 = pd.read_csv('./res/20220126_-1.csv',index_col = 0)"
   ]
  },
  {
   "cell_type": "code",
   "execution_count": 73,
   "metadata": {},
   "outputs": [],
   "source": [
    "vic_data_both =  vic_data.merge(vic_data_m1['pre'],left_index = True,right_index = True)"
   ]
  },
  {
   "cell_type": "code",
   "execution_count": 114,
   "metadata": {},
   "outputs": [],
   "source": [
    "def long_vis1(draw_df,title_name):\n",
    "    '''\n",
    "    输入1000个交易日左右的数据\n",
    "    输出open构成的折线 + 笔（拐点）\n",
    "    '''\n",
    "    draw_df = draw_df.reset_index().copy()\n",
    "    ## 生成part和pen的标注点\n",
    "    def part_pen_up_func(parting, open):\n",
    "        if parting == 1:\n",
    "            return open + 0\n",
    "        else:\n",
    "            return np.nan\n",
    "\n",
    "    def part_pen_down_func(parting, open):\n",
    "        if parting == -1:\n",
    "            return open - 0\n",
    "        else:\n",
    "            return np.nan\n",
    "\n",
    "    \n",
    "    # draw_part为分型part的标记高度，part_pen为笔pen的标记高度。\n",
    "    draw_df['draw_pre_up'] = draw_df.apply(lambda row: part_pen_up_func(row['pre_x'], row['open']), axis=1)\n",
    "    draw_df['draw_pre_down'] = draw_df.apply(lambda row: part_pen_up_func(row['pre_y'], row['open']), axis=1)\n",
    "    draw_df['draw_true_up'] = draw_df.apply(lambda row: part_pen_up_func(row['flag'], row['open']), axis=1)\n",
    "    draw_df['draw_true_down'] = draw_df.apply(lambda row: part_pen_down_func(row['flag'], row['open']), axis=1)\n",
    "\n",
    "\n",
    "    \n",
    "    ## 用原始高开低收数据生成k线\n",
    "    draw_df['DATETIME'] = pd.to_datetime(draw_df['DATETIME'], format='%Y-%m-%d')\n",
    "    \n",
    "    plt.figure(figsize= (15,8));\n",
    "    plt.plot(draw_df['DATETIME'] ,draw_df.open,color = 'k',alpha = 0.5)\n",
    "    plt.scatter(draw_df['DATETIME'] ,draw_df.draw_pre_up,marker='x',color = 'k' ,label = 'Pre Downward inflection')\n",
    "    plt.scatter(draw_df['DATETIME'] ,draw_df.draw_pre_down,marker='x',color = 'b' ,label = 'Pre Upward inflection')\n",
    "    plt.scatter(draw_df['DATETIME'] ,draw_df.draw_true_up,marker='^',color = 'r' ,label = 'True Downward inflection',alpha = 0.5)\n",
    "    plt.scatter(draw_df['DATETIME'] ,draw_df.draw_true_down,marker='^',color = 'g' ,label = 'True Upward inflection',alpha = 0.5)\n",
    "    plt.xticks(rotation=30)\n",
    "    plt.ylabel('open')\n",
    "    plt.title(title_name)\n",
    "    plt.legend()\n",
    "    plt.show()\n",
    "    print('plot success')\n",
    "#     save_path = '/pic/long_vis_'+ index_name + '.csv'\n",
    "#     plt.savefig(save_path)"
   ]
  },
  {
   "cell_type": "code",
   "execution_count": 115,
   "metadata": {},
   "outputs": [
    {
     "data": {
      "image/png": "[encoded data removed]",
      "text/plain": [
       "<Figure size 1080x576 with 1 Axes>"
      ]
     },
     "metadata": {
      "needs_background": "light"
     },
     "output_type": "display_data"
    },
    {
     "name": "stdout",
     "output_type": "stream",
     "text": [
      "plot success\n"
     ]
    }
   ],
   "source": [
    "long_vis1(vic_data_both.iloc[-500:,:],'4_models_both')"
   ]
  },
  {
   "cell_type": "code",
   "execution_count": 116,
   "metadata": {},
   "outputs": [
    {
     "data": {
      "image/png": "[encoded data removed]",
      "text/plain": [
       "<Figure size 1080x576 with 1 Axes>"
      ]
     },
     "metadata": {
      "needs_background": "light"
     },
     "output_type": "display_data"
    },
    {
     "name": "stdout",
     "output_type": "stream",
     "text": [
      "plot success\n"
     ]
    }
   ],
   "source": [
    "long_vis1(vic_data_both.iloc[-1000:-500,:],'4_models_both')"
   ]
  },
  {
   "cell_type": "code",
   "execution_count": null,
   "metadata": {},
   "outputs": [],
   "source": []
  }
 ],
 "metadata": {
  "kernelspec": {
   "display_name": "Python 3",
   "language": "python",
   "name": "python3"
  },
  "language_info": {
   "codemirror_mode": {
    "name": "ipython",
    "version": 3
   },
   "file_extension": ".py",
   "mimetype": "text/x-python",
   "name": "python",
   "nbconvert_exporter": "python",
   "pygments_lexer": "ipython3",
   "version": "3.7.6"
  },
  "varInspector": {
   "cols": {
    "lenName": 16,
    "lenType": 16,
    "lenVar": 40
   },
   "kernels_config": {
    "python": {
     "delete_cmd_postfix": "",
     "delete_cmd_prefix": "del ",
     "library": "var_list.py",
     "varRefreshCmd": "print(var_dic_list())"
    },
    "r": {
     "delete_cmd_postfix": ") ",
     "delete_cmd_prefix": "rm(",
     "library": "var_list.r",
     "varRefreshCmd": "cat(var_dic_list()) "
    }
   },
   "types_to_exclude": [
    "module",
    "function",
    "builtin_function_or_method",
    "instance",
    "_Feature"
   ],
   "window_display": false
  }
 },
 "nbformat": 4,
 "nbformat_minor": 4
}
