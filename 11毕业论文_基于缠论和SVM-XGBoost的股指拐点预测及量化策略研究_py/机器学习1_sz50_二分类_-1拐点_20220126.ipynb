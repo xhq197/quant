{
 "cells": [
  {
   "cell_type": "code",
   "execution_count": 1,
   "metadata": {},
   "outputs": [],
   "source": [
    "import pandas as pd\n",
    "import numpy as np\n",
    "from IPython.core.interactiveshell import InteractiveShell\n",
    "InteractiveShell.ast_node_interactivity = \"all\" \n",
    "import matplotlib.pyplot as plt"
   ]
  },
  {
   "cell_type": "markdown",
   "metadata": {},
   "source": [
    "## 数据检查"
   ]
  },
  {
   "cell_type": "code",
   "execution_count": 2,
   "metadata": {},
   "outputs": [],
   "source": [
    "index = pd.read_csv('./data/sz50_flag.csv',index_col = 0)\n",
    "index.DATETIME = pd.to_datetime(index.DATETIME)\n",
    "index.set_index('DATETIME',inplace = True)\n",
    "index.flag = index.flag.fillna(0)"
   ]
  },
  {
   "cell_type": "code",
   "execution_count": 3,
   "metadata": {},
   "outputs": [
    {
     "data": {
      "text/html": [
       "<div>\n",
       "<style scoped>\n",
       "    .dataframe tbody tr th:only-of-type {\n",
       "        vertical-align: middle;\n",
       "    }\n",
       "\n",
       "    .dataframe tbody tr th {\n",
       "        vertical-align: top;\n",
       "    }\n",
       "\n",
       "    .dataframe thead th {\n",
       "        text-align: right;\n",
       "    }\n",
       "</style>\n",
       "<table border=\"1\" class=\"dataframe\">\n",
       "  <thead>\n",
       "    <tr style=\"text-align: right;\">\n",
       "      <th></th>\n",
       "      <th>open</th>\n",
       "      <th>high</th>\n",
       "      <th>low</th>\n",
       "      <th>close</th>\n",
       "      <th>volume</th>\n",
       "      <th>amt</th>\n",
       "      <th>pct_chg</th>\n",
       "      <th>turn</th>\n",
       "      <th>MACD_MACD</th>\n",
       "      <th>MACD_DIFF</th>\n",
       "      <th>...</th>\n",
       "      <th>stage_low</th>\n",
       "      <th>up_days</th>\n",
       "      <th>down_days</th>\n",
       "      <th>breakout_ma</th>\n",
       "      <th>breakdown_ma</th>\n",
       "      <th>history_high_days</th>\n",
       "      <th>history_low_days</th>\n",
       "      <th>bull_bear_ma</th>\n",
       "      <th>bull_bear_ma.1</th>\n",
       "      <th>flag</th>\n",
       "    </tr>\n",
       "    <tr>\n",
       "      <th>DATETIME</th>\n",
       "      <th></th>\n",
       "      <th></th>\n",
       "      <th></th>\n",
       "      <th></th>\n",
       "      <th></th>\n",
       "      <th></th>\n",
       "      <th></th>\n",
       "      <th></th>\n",
       "      <th></th>\n",
       "      <th></th>\n",
       "      <th></th>\n",
       "      <th></th>\n",
       "      <th></th>\n",
       "      <th></th>\n",
       "      <th></th>\n",
       "      <th></th>\n",
       "      <th></th>\n",
       "      <th></th>\n",
       "      <th></th>\n",
       "      <th></th>\n",
       "      <th></th>\n",
       "    </tr>\n",
       "  </thead>\n",
       "  <tbody>\n",
       "    <tr>\n",
       "      <th>2005-01-04</th>\n",
       "      <td>836.988</td>\n",
       "      <td>836.988</td>\n",
       "      <td>824.008</td>\n",
       "      <td>827.071</td>\n",
       "      <td>403169700.0</td>\n",
       "      <td>2.136409e+09</td>\n",
       "      <td>-1.8579</td>\n",
       "      <td>1.0071</td>\n",
       "      <td>-3.3264</td>\n",
       "      <td>-10.8275</td>\n",
       "      <td>...</td>\n",
       "      <td>True</td>\n",
       "      <td>0</td>\n",
       "      <td>4</td>\n",
       "      <td>False</td>\n",
       "      <td>False</td>\n",
       "      <td>0</td>\n",
       "      <td>1</td>\n",
       "      <td>False</td>\n",
       "      <td>True</td>\n",
       "      <td>0.0</td>\n",
       "    </tr>\n",
       "    <tr>\n",
       "      <th>2005-01-05</th>\n",
       "      <td>825.707</td>\n",
       "      <td>836.428</td>\n",
       "      <td>822.966</td>\n",
       "      <td>831.428</td>\n",
       "      <td>302086300.0</td>\n",
       "      <td>1.705649e+09</td>\n",
       "      <td>0.5268</td>\n",
       "      <td>0.7546</td>\n",
       "      <td>-3.4300</td>\n",
       "      <td>-11.3081</td>\n",
       "      <td>...</td>\n",
       "      <td>True</td>\n",
       "      <td>1</td>\n",
       "      <td>0</td>\n",
       "      <td>False</td>\n",
       "      <td>False</td>\n",
       "      <td>0</td>\n",
       "      <td>2</td>\n",
       "      <td>False</td>\n",
       "      <td>True</td>\n",
       "      <td>0.0</td>\n",
       "    </tr>\n",
       "    <tr>\n",
       "      <th>2005-01-06</th>\n",
       "      <td>831.989</td>\n",
       "      <td>833.070</td>\n",
       "      <td>820.335</td>\n",
       "      <td>822.499</td>\n",
       "      <td>275357400.0</td>\n",
       "      <td>1.519687e+09</td>\n",
       "      <td>-1.0739</td>\n",
       "      <td>0.6878</td>\n",
       "      <td>-4.2799</td>\n",
       "      <td>-12.2681</td>\n",
       "      <td>...</td>\n",
       "      <td>True</td>\n",
       "      <td>0</td>\n",
       "      <td>1</td>\n",
       "      <td>False</td>\n",
       "      <td>False</td>\n",
       "      <td>0</td>\n",
       "      <td>3</td>\n",
       "      <td>False</td>\n",
       "      <td>True</td>\n",
       "      <td>-1.0</td>\n",
       "    </tr>\n",
       "    <tr>\n",
       "      <th>2005-01-07</th>\n",
       "      <td>822.669</td>\n",
       "      <td>832.950</td>\n",
       "      <td>819.440</td>\n",
       "      <td>823.616</td>\n",
       "      <td>306608600.0</td>\n",
       "      <td>1.640665e+09</td>\n",
       "      <td>0.1358</td>\n",
       "      <td>0.7659</td>\n",
       "      <td>-4.2610</td>\n",
       "      <td>-12.7912</td>\n",
       "      <td>...</td>\n",
       "      <td>True</td>\n",
       "      <td>1</td>\n",
       "      <td>0</td>\n",
       "      <td>False</td>\n",
       "      <td>False</td>\n",
       "      <td>0</td>\n",
       "      <td>3</td>\n",
       "      <td>False</td>\n",
       "      <td>True</td>\n",
       "      <td>0.0</td>\n",
       "    </tr>\n",
       "    <tr>\n",
       "      <th>2005-01-10</th>\n",
       "      <td>823.766</td>\n",
       "      <td>833.650</td>\n",
       "      <td>820.996</td>\n",
       "      <td>832.986</td>\n",
       "      <td>247941100.0</td>\n",
       "      <td>1.402314e+09</td>\n",
       "      <td>1.1377</td>\n",
       "      <td>0.6193</td>\n",
       "      <td>-2.6355</td>\n",
       "      <td>-12.3079</td>\n",
       "      <td>...</td>\n",
       "      <td>True</td>\n",
       "      <td>2</td>\n",
       "      <td>0</td>\n",
       "      <td>False</td>\n",
       "      <td>False</td>\n",
       "      <td>0</td>\n",
       "      <td>2</td>\n",
       "      <td>False</td>\n",
       "      <td>True</td>\n",
       "      <td>0.0</td>\n",
       "    </tr>\n",
       "  </tbody>\n",
       "</table>\n",
       "<p>5 rows × 111 columns</p>\n",
       "</div>"
      ],
      "text/plain": [
       "               open     high      low    close       volume           amt  \\\n",
       "DATETIME                                                                    \n",
       "2005-01-04  836.988  836.988  824.008  827.071  403169700.0  2.136409e+09   \n",
       "2005-01-05  825.707  836.428  822.966  831.428  302086300.0  1.705649e+09   \n",
       "2005-01-06  831.989  833.070  820.335  822.499  275357400.0  1.519687e+09   \n",
       "2005-01-07  822.669  832.950  819.440  823.616  306608600.0  1.640665e+09   \n",
       "2005-01-10  823.766  833.650  820.996  832.986  247941100.0  1.402314e+09   \n",
       "\n",
       "            pct_chg    turn  MACD_MACD  MACD_DIFF  ...  stage_low  up_days  \\\n",
       "DATETIME                                           ...                       \n",
       "2005-01-04  -1.8579  1.0071    -3.3264   -10.8275  ...       True        0   \n",
       "2005-01-05   0.5268  0.7546    -3.4300   -11.3081  ...       True        1   \n",
       "2005-01-06  -1.0739  0.6878    -4.2799   -12.2681  ...       True        0   \n",
       "2005-01-07   0.1358  0.7659    -4.2610   -12.7912  ...       True        1   \n",
       "2005-01-10   1.1377  0.6193    -2.6355   -12.3079  ...       True        2   \n",
       "\n",
       "            down_days  breakout_ma  breakdown_ma  history_high_days  \\\n",
       "DATETIME                                                              \n",
       "2005-01-04          4        False         False                  0   \n",
       "2005-01-05          0        False         False                  0   \n",
       "2005-01-06          1        False         False                  0   \n",
       "2005-01-07          0        False         False                  0   \n",
       "2005-01-10          0        False         False                  0   \n",
       "\n",
       "            history_low_days  bull_bear_ma  bull_bear_ma.1  flag  \n",
       "DATETIME                                                          \n",
       "2005-01-04                 1         False            True   0.0  \n",
       "2005-01-05                 2         False            True   0.0  \n",
       "2005-01-06                 3         False            True  -1.0  \n",
       "2005-01-07                 3         False            True   0.0  \n",
       "2005-01-10                 2         False            True   0.0  \n",
       "\n",
       "[5 rows x 111 columns]"
      ]
     },
     "execution_count": 3,
     "metadata": {},
     "output_type": "execute_result"
    }
   ],
   "source": [
    "index.head()"
   ]
  },
  {
   "cell_type": "code",
   "execution_count": 4,
   "metadata": {},
   "outputs": [
    {
     "name": "stdout",
     "output_type": "stream",
     "text": [
      "<class 'pandas.core.frame.DataFrame'>\n",
      "DatetimeIndex: 4141 entries, 2005-01-04 to 2022-01-14\n",
      "Data columns (total 10 columns):\n",
      " #   Column     Non-Null Count  Dtype  \n",
      "---  ------     --------------  -----  \n",
      " 0   open       4141 non-null   float64\n",
      " 1   high       4141 non-null   float64\n",
      " 2   low        4141 non-null   float64\n",
      " 3   close      4141 non-null   float64\n",
      " 4   volume     4141 non-null   float64\n",
      " 5   amt        4141 non-null   float64\n",
      " 6   pct_chg    4141 non-null   float64\n",
      " 7   turn       4141 non-null   float64\n",
      " 8   MACD_MACD  4141 non-null   float64\n",
      " 9   MACD_DIFF  4141 non-null   float64\n",
      "dtypes: float64(10)\n",
      "memory usage: 355.9 KB\n",
      "<class 'pandas.core.frame.DataFrame'>\n",
      "DatetimeIndex: 4141 entries, 2005-01-04 to 2022-01-14\n",
      "Data columns (total 10 columns):\n",
      " #   Column    Non-Null Count  Dtype  \n",
      "---  ------    --------------  -----  \n",
      " 0   MACD_DEA  4141 non-null   float64\n",
      " 1   KDJ_K     4141 non-null   float64\n",
      " 2   KDJ_D     4141 non-null   float64\n",
      " 3   KDJ_J     4141 non-null   float64\n",
      " 4   RSI       4141 non-null   float64\n",
      " 5   CCI       4141 non-null   float64\n",
      " 6   BIAS      4141 non-null   float64\n",
      " 7   ADTM      4141 non-null   float64\n",
      " 8   ADTM.1    4141 non-null   float64\n",
      " 9   ATR       4141 non-null   float64\n",
      "dtypes: float64(10)\n",
      "memory usage: 355.9 KB\n",
      "<class 'pandas.core.frame.DataFrame'>\n",
      "DatetimeIndex: 4141 entries, 2005-01-04 to 2022-01-14\n",
      "Data columns (total 10 columns):\n",
      " #   Column     Non-Null Count  Dtype  \n",
      "---  ------     --------------  -----  \n",
      " 0   ATR.1      4141 non-null   float64\n",
      " 1   BBI        4141 non-null   float64\n",
      " 2   BBIBOLL    4141 non-null   float64\n",
      " 3   BBIBOLL.1  4141 non-null   float64\n",
      " 4   BBIBOLL.2  4141 non-null   float64\n",
      " 5   BOLL       4141 non-null   float64\n",
      " 6   BOLL.1     4141 non-null   float64\n",
      " 7   BOLL.2     4141 non-null   float64\n",
      " 8   CDP        4141 non-null   float64\n",
      " 9   CDP.1      4141 non-null   float64\n",
      "dtypes: float64(10)\n",
      "memory usage: 355.9 KB\n",
      "<class 'pandas.core.frame.DataFrame'>\n",
      "DatetimeIndex: 4141 entries, 2005-01-04 to 2022-01-14\n",
      "Data columns (total 10 columns):\n",
      " #   Column  Non-Null Count  Dtype  \n",
      "---  ------  --------------  -----  \n",
      " 0   CDP.2   4141 non-null   float64\n",
      " 1   CDP.3   4141 non-null   float64\n",
      " 2   CDP.4   4141 non-null   float64\n",
      " 3   DMA     4141 non-null   float64\n",
      " 4   DMA.1   4141 non-null   float64\n",
      " 5   DMI     4141 non-null   float64\n",
      " 6   DMI.1   4141 non-null   float64\n",
      " 7   DMI.2   4141 non-null   float64\n",
      " 8   DMI.3   4141 non-null   float64\n",
      " 9   DMI_2   4141 non-null   float64\n",
      "dtypes: float64(10)\n",
      "memory usage: 355.9 KB\n",
      "<class 'pandas.core.frame.DataFrame'>\n",
      "DatetimeIndex: 4141 entries, 2005-01-04 to 2022-01-14\n",
      "Data columns (total 10 columns):\n",
      " #   Column    Non-Null Count  Dtype  \n",
      "---  ------    --------------  -----  \n",
      " 0   DMI_2.1   4141 non-null   float64\n",
      " 1   DMI_2.2   4141 non-null   float64\n",
      " 2   DMI_2.3   4141 non-null   float64\n",
      " 3   DPO       4141 non-null   float64\n",
      " 4   DPO.1     4141 non-null   float64\n",
      " 5   ENV       4141 non-null   float64\n",
      " 6   ENV.1     1 non-null      object \n",
      " 7   EXPMA     0 non-null      float64\n",
      " 8   slowKD    0 non-null      float64\n",
      " 9   slowKD.1  4141 non-null   float64\n",
      "dtypes: float64(9), object(1)\n",
      "memory usage: 355.9+ KB\n",
      "<class 'pandas.core.frame.DataFrame'>\n",
      "DatetimeIndex: 4141 entries, 2005-01-04 to 2022-01-14\n",
      "Data columns (total 10 columns):\n",
      " #   Column    Non-Null Count  Dtype  \n",
      "---  ------    --------------  -----  \n",
      " 0   MA        4141 non-null   float64\n",
      " 1   MIKE      4141 non-null   float64\n",
      " 2   MIKE.1    4141 non-null   float64\n",
      " 3   MTM       4141 non-null   float64\n",
      " 4   MTM.1     4141 non-null   float64\n",
      " 5   PRICEOSC  4141 non-null   float64\n",
      " 6   PVT       4141 non-null   float64\n",
      " 7   RC        4141 non-null   float64\n",
      " 8   ROC       4141 non-null   float64\n",
      " 9   ROC.1     4141 non-null   float64\n",
      "dtypes: float64(10)\n",
      "memory usage: 355.9 KB\n",
      "<class 'pandas.core.frame.DataFrame'>\n",
      "DatetimeIndex: 4141 entries, 2005-01-04 to 2022-01-14\n",
      "Data columns (total 10 columns):\n",
      " #   Column  Non-Null Count  Dtype  \n",
      "---  ------  --------------  -----  \n",
      " 0   SAR     4141 non-null   float64\n",
      " 1   SI      4141 non-null   float64\n",
      " 2   WR      4141 non-null   float64\n",
      " 3   SOBV    4141 non-null   float64\n",
      " 4   SRMI    4141 non-null   float64\n",
      " 5   STD     4141 non-null   float64\n",
      " 6   TAPI    4141 non-null   float64\n",
      " 7   TAPI.1  4141 non-null   float64\n",
      " 8   TRIX    4141 non-null   float64\n",
      " 9   TRIX.1  4141 non-null   float64\n",
      "dtypes: float64(10)\n",
      "memory usage: 355.9 KB\n",
      "<class 'pandas.core.frame.DataFrame'>\n",
      "DatetimeIndex: 4141 entries, 2005-01-04 to 2022-01-14\n",
      "Data columns (total 10 columns):\n",
      " #   Column     Non-Null Count  Dtype  \n",
      "---  ------     --------------  -----  \n",
      " 0   VHF        4141 non-null   float64\n",
      " 1   VMA        4141 non-null   float64\n",
      " 2   VMACD      4141 non-null   float64\n",
      " 3   VMACD.1    4141 non-null   float64\n",
      " 4   VMACD.2    4141 non-null   float64\n",
      " 5   VOSC       4141 non-null   float64\n",
      " 6   VSTD       4141 non-null   float64\n",
      " 7   WVAD       4141 non-null   float64\n",
      " 8   WVAD.1     4141 non-null   float64\n",
      " 9   vol_ratio  4141 non-null   float64\n",
      "dtypes: float64(10)\n",
      "memory usage: 355.9 KB\n",
      "<class 'pandas.core.frame.DataFrame'>\n",
      "DatetimeIndex: 4141 entries, 2005-01-04 to 2022-01-14\n",
      "Data columns (total 10 columns):\n",
      " #   Column               Non-Null Count  Dtype  \n",
      "---  ------               --------------  -----  \n",
      " 0   dealnum              0 non-null      float64\n",
      " 1   chg                  4141 non-null   float64\n",
      " 2   swing                4141 non-null   float64\n",
      " 3   vwap                 4141 non-null   float64\n",
      " 4   open_auction_price   0 non-null      float64\n",
      " 5   open_auction_volume  0 non-null      float64\n",
      " 6   open_auction_amount  0 non-null      float64\n",
      " 7   tech_upnum           4141 non-null   float64\n",
      " 8   tech_downnum         4141 non-null   float64\n",
      " 9   tech_limitupnum      4141 non-null   float64\n",
      "dtypes: float64(10)\n",
      "memory usage: 355.9 KB\n",
      "<class 'pandas.core.frame.DataFrame'>\n",
      "DatetimeIndex: 4141 entries, 2005-01-04 to 2022-01-14\n",
      "Data columns (total 10 columns):\n",
      " #   Column             Non-Null Count  Dtype  \n",
      "---  ------             --------------  -----  \n",
      " 0   tech_limitdownnum  4141 non-null   float64\n",
      " 1   div_compindex      1471 non-null   float64\n",
      " 2   val_pb_wgt         4141 non-null   float64\n",
      " 3   val_pe_avg         4141 non-null   float64\n",
      " 4   tech_uppct         4141 non-null   float64\n",
      " 5   tech_downpct       4141 non-null   float64\n",
      " 6   tech_limituppct    4141 non-null   float64\n",
      " 7   tech_limitdownpct  4141 non-null   float64\n",
      " 8   history_low        4141 non-null   bool   \n",
      " 9   stage_high         4141 non-null   bool   \n",
      "dtypes: bool(2), float64(8)\n",
      "memory usage: 299.3 KB\n",
      "<class 'pandas.core.frame.DataFrame'>\n",
      "DatetimeIndex: 4141 entries, 2005-01-04 to 2022-01-14\n",
      "Data columns (total 10 columns):\n",
      " #   Column             Non-Null Count  Dtype\n",
      "---  ------             --------------  -----\n",
      " 0   history_high       4141 non-null   bool \n",
      " 1   stage_low          4141 non-null   bool \n",
      " 2   up_days            4141 non-null   int64\n",
      " 3   down_days          4141 non-null   int64\n",
      " 4   breakout_ma        4141 non-null   bool \n",
      " 5   breakdown_ma       4141 non-null   bool \n",
      " 6   history_high_days  4141 non-null   int64\n",
      " 7   history_low_days   4141 non-null   int64\n",
      " 8   bull_bear_ma       4141 non-null   bool \n",
      " 9   bull_bear_ma.1     4141 non-null   bool \n",
      "dtypes: bool(6), int64(4)\n",
      "memory usage: 186.0 KB\n",
      "<class 'pandas.core.frame.DataFrame'>\n",
      "DatetimeIndex: 4141 entries, 2005-01-04 to 2022-01-14\n",
      "Data columns (total 1 columns):\n",
      " #   Column  Non-Null Count  Dtype  \n",
      "---  ------  --------------  -----  \n",
      " 0   flag    4141 non-null   float64\n",
      "dtypes: float64(1)\n",
      "memory usage: 64.7 KB\n"
     ]
    },
    {
     "data": {
      "text/plain": [
       "'TRUE和FAlSE会被识别成bool'"
      ]
     },
     "execution_count": 4,
     "metadata": {},
     "output_type": "execute_result"
    },
    {
     "data": {
      "text/plain": [
       "'类型：float、int、bool'"
      ]
     },
     "execution_count": 4,
     "metadata": {},
     "output_type": "execute_result"
    }
   ],
   "source": [
    "for i in range(1,len(index.columns)//10 + 2):\n",
    "    index.iloc[:,10*(i-1):10*i].info()\n",
    "'''TRUE和FAlSE会被识别成bool'''\n",
    "'''类型：float、int、bool'''"
   ]
  },
  {
   "cell_type": "code",
   "execution_count": 5,
   "metadata": {
    "scrolled": false
   },
   "outputs": [
    {
     "data": {
      "text/plain": [
       "'处理空值'"
      ]
     },
     "execution_count": 5,
     "metadata": {},
     "output_type": "execute_result"
    },
    {
     "data": {
      "text/plain": [
       "'处理前'"
      ]
     },
     "execution_count": 5,
     "metadata": {},
     "output_type": "execute_result"
    },
    {
     "data": {
      "text/plain": [
       "ENV.1                  4140\n",
       "EXPMA                  4141\n",
       "slowKD                 4141\n",
       "dealnum                4141\n",
       "open_auction_price     4141\n",
       "open_auction_volume    4141\n",
       "open_auction_amount    4141\n",
       "div_compindex          2670\n",
       "dtype: int64"
      ]
     },
     "execution_count": 5,
     "metadata": {},
     "output_type": "execute_result"
    },
    {
     "data": {
      "text/plain": [
       "'处理后'"
      ]
     },
     "execution_count": 5,
     "metadata": {},
     "output_type": "execute_result"
    },
    {
     "data": {
      "text/plain": [
       "Series([], dtype: int64)"
      ]
     },
     "execution_count": 5,
     "metadata": {},
     "output_type": "execute_result"
    }
   ],
   "source": [
    "'''处理空值'''\n",
    "'''处理前'''\n",
    "tmp_isnull = index.isnull().sum()\n",
    "tmp_isnull[tmp_isnull > 0]\n",
    "index.div_compindex = index.div_compindex.fillna(0)\n",
    "tmp_isnull = index.isnull().sum()\n",
    "tmp_isnull = tmp_isnull[tmp_isnull > 0]\n",
    "for col in tmp_isnull.index:\n",
    "    if col != 'flag':\n",
    "        index.drop(col,axis = 1,inplace = True)\n",
    "        \n",
    "'''处理后'''\n",
    "\n",
    "tmp_isnull = index.isnull().sum()\n",
    "tmp_isnull[tmp_isnull > 0]"
   ]
  },
  {
   "cell_type": "code",
   "execution_count": 6,
   "metadata": {},
   "outputs": [
    {
     "data": {
      "text/html": [
       "<div>\n",
       "<style scoped>\n",
       "    .dataframe tbody tr th:only-of-type {\n",
       "        vertical-align: middle;\n",
       "    }\n",
       "\n",
       "    .dataframe tbody tr th {\n",
       "        vertical-align: top;\n",
       "    }\n",
       "\n",
       "    .dataframe thead th {\n",
       "        text-align: right;\n",
       "    }\n",
       "</style>\n",
       "<table border=\"1\" class=\"dataframe\">\n",
       "  <thead>\n",
       "    <tr style=\"text-align: right;\">\n",
       "      <th></th>\n",
       "      <th>open</th>\n",
       "      <th>high</th>\n",
       "      <th>low</th>\n",
       "      <th>close</th>\n",
       "      <th>volume</th>\n",
       "      <th>amt</th>\n",
       "      <th>pct_chg</th>\n",
       "      <th>turn</th>\n",
       "      <th>MACD_MACD</th>\n",
       "      <th>MACD_DIFF</th>\n",
       "      <th>...</th>\n",
       "      <th>val_pe_avg</th>\n",
       "      <th>tech_uppct</th>\n",
       "      <th>tech_downpct</th>\n",
       "      <th>tech_limituppct</th>\n",
       "      <th>tech_limitdownpct</th>\n",
       "      <th>up_days</th>\n",
       "      <th>down_days</th>\n",
       "      <th>history_high_days</th>\n",
       "      <th>history_low_days</th>\n",
       "      <th>flag</th>\n",
       "    </tr>\n",
       "  </thead>\n",
       "  <tbody>\n",
       "    <tr>\n",
       "      <th>count</th>\n",
       "      <td>4141.000000</td>\n",
       "      <td>4141.000000</td>\n",
       "      <td>4141.000000</td>\n",
       "      <td>4141.000000</td>\n",
       "      <td>4.141000e+03</td>\n",
       "      <td>4.141000e+03</td>\n",
       "      <td>4141.000000</td>\n",
       "      <td>4141.000000</td>\n",
       "      <td>4141.000000</td>\n",
       "      <td>4141.000000</td>\n",
       "      <td>...</td>\n",
       "      <td>4141.000000</td>\n",
       "      <td>4141.000000</td>\n",
       "      <td>4141.000000</td>\n",
       "      <td>4141.000000</td>\n",
       "      <td>4141.000000</td>\n",
       "      <td>4141.000000</td>\n",
       "      <td>4141.000000</td>\n",
       "      <td>4141.000000</td>\n",
       "      <td>4141.000000</td>\n",
       "      <td>4141.000000</td>\n",
       "    </tr>\n",
       "    <tr>\n",
       "      <th>mean</th>\n",
       "      <td>2240.350648</td>\n",
       "      <td>2263.112641</td>\n",
       "      <td>2218.356122</td>\n",
       "      <td>2242.172003</td>\n",
       "      <td>3.115557e+09</td>\n",
       "      <td>4.139068e+10</td>\n",
       "      <td>0.046011</td>\n",
       "      <td>0.677353</td>\n",
       "      <td>0.003268</td>\n",
       "      <td>4.037448</td>\n",
       "      <td>...</td>\n",
       "      <td>29.921342</td>\n",
       "      <td>46.746591</td>\n",
       "      <td>47.023395</td>\n",
       "      <td>2.856354</td>\n",
       "      <td>1.081894</td>\n",
       "      <td>1.063994</td>\n",
       "      <td>0.910891</td>\n",
       "      <td>0.079691</td>\n",
       "      <td>0.021009</td>\n",
       "      <td>-0.000241</td>\n",
       "    </tr>\n",
       "    <tr>\n",
       "      <th>std</th>\n",
       "      <td>791.275045</td>\n",
       "      <td>799.109813</td>\n",
       "      <td>781.591185</td>\n",
       "      <td>790.951805</td>\n",
       "      <td>3.032074e+09</td>\n",
       "      <td>4.339364e+10</td>\n",
       "      <td>1.686527</td>\n",
       "      <td>0.906741</td>\n",
       "      <td>27.388286</td>\n",
       "      <td>51.923734</td>\n",
       "      <td>...</td>\n",
       "      <td>10.891980</td>\n",
       "      <td>28.589235</td>\n",
       "      <td>28.713420</td>\n",
       "      <td>6.715208</td>\n",
       "      <td>5.549111</td>\n",
       "      <td>1.608705</td>\n",
       "      <td>1.256877</td>\n",
       "      <td>0.421552</td>\n",
       "      <td>0.204521</td>\n",
       "      <td>0.276713</td>\n",
       "    </tr>\n",
       "    <tr>\n",
       "      <th>min</th>\n",
       "      <td>699.266000</td>\n",
       "      <td>706.879000</td>\n",
       "      <td>693.528000</td>\n",
       "      <td>700.434000</td>\n",
       "      <td>1.632751e+08</td>\n",
       "      <td>8.378735e+08</td>\n",
       "      <td>-9.470800</td>\n",
       "      <td>0.057000</td>\n",
       "      <td>-157.658900</td>\n",
       "      <td>-199.680100</td>\n",
       "      <td>...</td>\n",
       "      <td>14.766000</td>\n",
       "      <td>0.000000</td>\n",
       "      <td>0.000000</td>\n",
       "      <td>0.000000</td>\n",
       "      <td>0.000000</td>\n",
       "      <td>0.000000</td>\n",
       "      <td>0.000000</td>\n",
       "      <td>0.000000</td>\n",
       "      <td>0.000000</td>\n",
       "      <td>-1.000000</td>\n",
       "    </tr>\n",
       "    <tr>\n",
       "      <th>25%</th>\n",
       "      <td>1675.782000</td>\n",
       "      <td>1697.599000</td>\n",
       "      <td>1658.021000</td>\n",
       "      <td>1675.858000</td>\n",
       "      <td>1.642688e+09</td>\n",
       "      <td>1.699701e+10</td>\n",
       "      <td>-0.723200</td>\n",
       "      <td>0.172900</td>\n",
       "      <td>-11.088900</td>\n",
       "      <td>-18.357400</td>\n",
       "      <td>...</td>\n",
       "      <td>21.202100</td>\n",
       "      <td>22.000000</td>\n",
       "      <td>22.000000</td>\n",
       "      <td>0.000000</td>\n",
       "      <td>0.000000</td>\n",
       "      <td>0.000000</td>\n",
       "      <td>0.000000</td>\n",
       "      <td>0.000000</td>\n",
       "      <td>0.000000</td>\n",
       "      <td>0.000000</td>\n",
       "    </tr>\n",
       "    <tr>\n",
       "      <th>50%</th>\n",
       "      <td>2217.045000</td>\n",
       "      <td>2239.457500</td>\n",
       "      <td>2192.491200</td>\n",
       "      <td>2219.611900</td>\n",
       "      <td>2.433337e+09</td>\n",
       "      <td>2.912485e+10</td>\n",
       "      <td>0.036700</td>\n",
       "      <td>0.265000</td>\n",
       "      <td>0.599100</td>\n",
       "      <td>3.372200</td>\n",
       "      <td>...</td>\n",
       "      <td>26.365400</td>\n",
       "      <td>44.000000</td>\n",
       "      <td>48.000000</td>\n",
       "      <td>0.000000</td>\n",
       "      <td>0.000000</td>\n",
       "      <td>1.000000</td>\n",
       "      <td>0.000000</td>\n",
       "      <td>0.000000</td>\n",
       "      <td>0.000000</td>\n",
       "      <td>0.000000</td>\n",
       "    </tr>\n",
       "    <tr>\n",
       "      <th>75%</th>\n",
       "      <td>2797.231000</td>\n",
       "      <td>2822.589100</td>\n",
       "      <td>2762.298300</td>\n",
       "      <td>2798.769500</td>\n",
       "      <td>3.469665e+09</td>\n",
       "      <td>4.924094e+10</td>\n",
       "      <td>0.837100</td>\n",
       "      <td>0.837100</td>\n",
       "      <td>13.769600</td>\n",
       "      <td>25.298700</td>\n",
       "      <td>...</td>\n",
       "      <td>36.546000</td>\n",
       "      <td>70.000000</td>\n",
       "      <td>70.000000</td>\n",
       "      <td>2.000000</td>\n",
       "      <td>0.000000</td>\n",
       "      <td>2.000000</td>\n",
       "      <td>1.000000</td>\n",
       "      <td>0.000000</td>\n",
       "      <td>0.000000</td>\n",
       "      <td>0.000000</td>\n",
       "    </tr>\n",
       "    <tr>\n",
       "      <th>max</th>\n",
       "      <td>4726.083000</td>\n",
       "      <td>4772.933000</td>\n",
       "      <td>4688.263000</td>\n",
       "      <td>4731.826000</td>\n",
       "      <td>3.774594e+10</td>\n",
       "      <td>4.282975e+11</td>\n",
       "      <td>9.672900</td>\n",
       "      <td>7.464900</td>\n",
       "      <td>147.884300</td>\n",
       "      <td>226.097200</td>\n",
       "      <td>...</td>\n",
       "      <td>74.475800</td>\n",
       "      <td>100.000000</td>\n",
       "      <td>100.000000</td>\n",
       "      <td>94.000000</td>\n",
       "      <td>80.000000</td>\n",
       "      <td>19.000000</td>\n",
       "      <td>9.000000</td>\n",
       "      <td>3.000000</td>\n",
       "      <td>3.000000</td>\n",
       "      <td>1.000000</td>\n",
       "    </tr>\n",
       "  </tbody>\n",
       "</table>\n",
       "<p>8 rows × 96 columns</p>\n",
       "</div>"
      ],
      "text/plain": [
       "              open         high          low        close        volume  \\\n",
       "count  4141.000000  4141.000000  4141.000000  4141.000000  4.141000e+03   \n",
       "mean   2240.350648  2263.112641  2218.356122  2242.172003  3.115557e+09   \n",
       "std     791.275045   799.109813   781.591185   790.951805  3.032074e+09   \n",
       "min     699.266000   706.879000   693.528000   700.434000  1.632751e+08   \n",
       "25%    1675.782000  1697.599000  1658.021000  1675.858000  1.642688e+09   \n",
       "50%    2217.045000  2239.457500  2192.491200  2219.611900  2.433337e+09   \n",
       "75%    2797.231000  2822.589100  2762.298300  2798.769500  3.469665e+09   \n",
       "max    4726.083000  4772.933000  4688.263000  4731.826000  3.774594e+10   \n",
       "\n",
       "                amt      pct_chg         turn    MACD_MACD    MACD_DIFF  ...  \\\n",
       "count  4.141000e+03  4141.000000  4141.000000  4141.000000  4141.000000  ...   \n",
       "mean   4.139068e+10     0.046011     0.677353     0.003268     4.037448  ...   \n",
       "std    4.339364e+10     1.686527     0.906741    27.388286    51.923734  ...   \n",
       "min    8.378735e+08    -9.470800     0.057000  -157.658900  -199.680100  ...   \n",
       "25%    1.699701e+10    -0.723200     0.172900   -11.088900   -18.357400  ...   \n",
       "50%    2.912485e+10     0.036700     0.265000     0.599100     3.372200  ...   \n",
       "75%    4.924094e+10     0.837100     0.837100    13.769600    25.298700  ...   \n",
       "max    4.282975e+11     9.672900     7.464900   147.884300   226.097200  ...   \n",
       "\n",
       "        val_pe_avg   tech_uppct  tech_downpct  tech_limituppct  \\\n",
       "count  4141.000000  4141.000000   4141.000000      4141.000000   \n",
       "mean     29.921342    46.746591     47.023395         2.856354   \n",
       "std      10.891980    28.589235     28.713420         6.715208   \n",
       "min      14.766000     0.000000      0.000000         0.000000   \n",
       "25%      21.202100    22.000000     22.000000         0.000000   \n",
       "50%      26.365400    44.000000     48.000000         0.000000   \n",
       "75%      36.546000    70.000000     70.000000         2.000000   \n",
       "max      74.475800   100.000000    100.000000        94.000000   \n",
       "\n",
       "       tech_limitdownpct      up_days    down_days  history_high_days  \\\n",
       "count        4141.000000  4141.000000  4141.000000        4141.000000   \n",
       "mean            1.081894     1.063994     0.910891           0.079691   \n",
       "std             5.549111     1.608705     1.256877           0.421552   \n",
       "min             0.000000     0.000000     0.000000           0.000000   \n",
       "25%             0.000000     0.000000     0.000000           0.000000   \n",
       "50%             0.000000     1.000000     0.000000           0.000000   \n",
       "75%             0.000000     2.000000     1.000000           0.000000   \n",
       "max            80.000000    19.000000     9.000000           3.000000   \n",
       "\n",
       "       history_low_days         flag  \n",
       "count       4141.000000  4141.000000  \n",
       "mean           0.021009    -0.000241  \n",
       "std            0.204521     0.276713  \n",
       "min            0.000000    -1.000000  \n",
       "25%            0.000000     0.000000  \n",
       "50%            0.000000     0.000000  \n",
       "75%            0.000000     0.000000  \n",
       "max            3.000000     1.000000  \n",
       "\n",
       "[8 rows x 96 columns]"
      ]
     },
     "execution_count": 6,
     "metadata": {},
     "output_type": "execute_result"
    }
   ],
   "source": [
    "index.describe()"
   ]
  },
  {
   "cell_type": "code",
   "execution_count": 7,
   "metadata": {
    "scrolled": false
   },
   "outputs": [
    {
     "name": "stdout",
     "output_type": "stream",
     "text": [
      "拐点占比：100.00%\n",
      "正拐点占比：3.82%\n",
      "负拐点占比：3.84%\n"
     ]
    }
   ],
   "source": [
    "print('拐点占比：{:.2%}'.format((len(index) - index.isnull().sum()['flag'])/len(index) ))\n",
    "print('正拐点占比：{:.2%}'.format(len(index[index['flag'] == 1])/len(index)))\n",
    "print('负拐点占比：{:.2%}'.format(len(index[index['flag'] == -1])/len(index)))"
   ]
  },
  {
   "cell_type": "markdown",
   "metadata": {},
   "source": [
    "### 连续/离散"
   ]
  },
  {
   "cell_type": "code",
   "execution_count": 8,
   "metadata": {},
   "outputs": [
    {
     "name": "stdout",
     "output_type": "stream",
     "text": [
      "离散特征：tech_limitupnum\n",
      "离散特征：tech_limitdownnum\n",
      "离散特征：tech_limituppct\n",
      "离散特征：tech_limitdownpct\n",
      "离散特征：history_low\n",
      "离散特征：stage_high\n",
      "离散特征：history_high\n",
      "离散特征：stage_low\n",
      "离散特征：up_days\n",
      "离散特征：down_days\n",
      "离散特征：breakout_ma\n",
      "离散特征：breakdown_ma\n",
      "离散特征：history_high_days\n",
      "离散特征：history_low_days\n",
      "离散特征：bull_bear_ma\n",
      "离散特征：bull_bear_ma.1\n"
     ]
    },
    {
     "data": {
      "text/plain": [
       "103"
      ]
     },
     "execution_count": 8,
     "metadata": {},
     "output_type": "execute_result"
    },
    {
     "data": {
      "text/plain": [
       "'离散变量'"
      ]
     },
     "execution_count": 8,
     "metadata": {},
     "output_type": "execute_result"
    },
    {
     "data": {
      "text/plain": [
       "16"
      ]
     },
     "execution_count": 8,
     "metadata": {},
     "output_type": "execute_result"
    },
    {
     "data": {
      "text/plain": [
       "['tech_limitupnum',\n",
       " 'tech_limitdownnum',\n",
       " 'tech_limituppct',\n",
       " 'tech_limitdownpct',\n",
       " 'history_low',\n",
       " 'stage_high',\n",
       " 'history_high',\n",
       " 'stage_low',\n",
       " 'up_days',\n",
       " 'down_days',\n",
       " 'breakout_ma',\n",
       " 'breakdown_ma',\n",
       " 'history_high_days',\n",
       " 'history_low_days',\n",
       " 'bull_bear_ma',\n",
       " 'bull_bear_ma.1']"
      ]
     },
     "execution_count": 8,
     "metadata": {},
     "output_type": "execute_result"
    },
    {
     "data": {
      "text/plain": [
       "'连续变量'"
      ]
     },
     "execution_count": 8,
     "metadata": {},
     "output_type": "execute_result"
    },
    {
     "data": {
      "text/plain": [
       "87"
      ]
     },
     "execution_count": 8,
     "metadata": {},
     "output_type": "execute_result"
    },
    {
     "data": {
      "text/plain": [
       "['open',\n",
       " 'high',\n",
       " 'low',\n",
       " 'close',\n",
       " 'volume',\n",
       " 'amt',\n",
       " 'pct_chg',\n",
       " 'turn',\n",
       " 'MACD_MACD',\n",
       " 'MACD_DIFF',\n",
       " 'MACD_DEA',\n",
       " 'KDJ_K',\n",
       " 'KDJ_D',\n",
       " 'KDJ_J',\n",
       " 'RSI',\n",
       " 'CCI',\n",
       " 'BIAS',\n",
       " 'ADTM',\n",
       " 'ADTM.1',\n",
       " 'ATR',\n",
       " 'ATR.1',\n",
       " 'BBI',\n",
       " 'BBIBOLL',\n",
       " 'BBIBOLL.1',\n",
       " 'BBIBOLL.2',\n",
       " 'BOLL',\n",
       " 'BOLL.1',\n",
       " 'BOLL.2',\n",
       " 'CDP',\n",
       " 'CDP.1',\n",
       " 'CDP.2',\n",
       " 'CDP.3',\n",
       " 'CDP.4',\n",
       " 'DMA',\n",
       " 'DMA.1',\n",
       " 'DMI',\n",
       " 'DMI.1',\n",
       " 'DMI.2',\n",
       " 'DMI.3',\n",
       " 'DMI_2',\n",
       " 'DMI_2.1',\n",
       " 'DMI_2.2',\n",
       " 'DMI_2.3',\n",
       " 'DPO',\n",
       " 'DPO.1',\n",
       " 'ENV',\n",
       " 'slowKD.1',\n",
       " 'MA',\n",
       " 'MIKE',\n",
       " 'MIKE.1',\n",
       " 'MTM',\n",
       " 'MTM.1',\n",
       " 'PRICEOSC',\n",
       " 'PVT',\n",
       " 'RC',\n",
       " 'ROC',\n",
       " 'ROC.1',\n",
       " 'SAR',\n",
       " 'SI',\n",
       " 'WR',\n",
       " 'SOBV',\n",
       " 'SRMI',\n",
       " 'STD',\n",
       " 'TAPI',\n",
       " 'TAPI.1',\n",
       " 'TRIX',\n",
       " 'TRIX.1',\n",
       " 'VHF',\n",
       " 'VMA',\n",
       " 'VMACD',\n",
       " 'VMACD.1',\n",
       " 'VMACD.2',\n",
       " 'VOSC',\n",
       " 'VSTD',\n",
       " 'WVAD',\n",
       " 'WVAD.1',\n",
       " 'vol_ratio',\n",
       " 'chg',\n",
       " 'swing',\n",
       " 'vwap',\n",
       " 'tech_upnum',\n",
       " 'tech_downnum',\n",
       " 'div_compindex',\n",
       " 'val_pb_wgt',\n",
       " 'val_pe_avg',\n",
       " 'tech_uppct',\n",
       " 'tech_downpct']"
      ]
     },
     "execution_count": 8,
     "metadata": {},
     "output_type": "execute_result"
    }
   ],
   "source": [
    "unconti_col = []\n",
    "c = 0\n",
    "for i in range(len(index.columns[:-1])):\n",
    "    if len(index.iloc[:,i].value_counts()) < 50:\n",
    "        print('离散特征：{0}'.format(index.columns[i]))\n",
    "        unconti_col.append(index.columns[i])\n",
    "        c = 1\n",
    "if c == 0:\n",
    "    print('无离散特征')\n",
    "len(index.columns) - 1\n",
    "'''离散变量'''\n",
    "len(unconti_col)\n",
    "unconti_col\n",
    "'''连续变量'''\n",
    "conti_col = [col for col in index.columns[:-1] if col not in unconti_col]\n",
    "len(conti_col)\n",
    "conti_col"
   ]
  },
  {
   "cell_type": "markdown",
   "metadata": {},
   "source": [
    "### 连续变量"
   ]
  },
  {
   "cell_type": "code",
   "execution_count": 9,
   "metadata": {},
   "outputs": [],
   "source": [
    "# InteractiveShell.ast_node_interactivity = \"last_expr\" # 画图不输出冗余信息\n",
    "# import matplotlib.pyplot as plt\n",
    "# import seaborn as sns \n",
    "# %matplotlib inline"
   ]
  },
  {
   "cell_type": "code",
   "execution_count": 10,
   "metadata": {
    "scrolled": false
   },
   "outputs": [],
   "source": [
    "# for j in range(len(conti_col)//20 + 1):\n",
    "#     plt.figure(figsize=(15,15));\n",
    "#     for i in range(1,21):\n",
    "#         plt.subplot( 4,5,i);\n",
    "#         if j*20 + i < len(conti_col):\n",
    "#             sns.distplot(index[conti_col[j*20+i]]);\n",
    "#         else:\n",
    "#             continue\n",
    "#     plt.show();"
   ]
  },
  {
   "cell_type": "code",
   "execution_count": 11,
   "metadata": {
    "scrolled": false
   },
   "outputs": [],
   "source": [
    "# import matplotlib.pyplot as plt\n",
    "# for j in range(len(conti_col)//20 + 1):\n",
    "#     plt.figure(figsize=(15,15));\n",
    "#     for i in range(1,21):\n",
    "#         plt.subplot( 4,5,i);\n",
    "#         if j*20 + i < len(conti_col):\n",
    "#             index.boxplot(conti_col[j*20+i]);\n",
    "#         else:\n",
    "#             continue\n",
    "#     plt.show();"
   ]
  },
  {
   "cell_type": "code",
   "execution_count": 12,
   "metadata": {
    "scrolled": false
   },
   "outputs": [],
   "source": [
    "# for j in range(len(conti_col)//18 + 1):\n",
    "#     plt.figure(figsize=(15,30));\n",
    "#     for i in range(1,19):\n",
    "#         plt.subplot( 6,3,i);\n",
    "#         if j*18 + i < len(conti_col):\n",
    "#             sns.boxplot(x = 'flag',y = conti_col[j*18+i],data = index);\n",
    "#         else:\n",
    "#             continue\n",
    "#     plt.show();\n",
    "\n",
    "\n",
    "# # plt.figure(figsize=(15,30))\n",
    "# # for i in range(len(index.columns) - 1):\n",
    "# #     plt.subplot(6,3,i +1);\n",
    "# #     sns.boxplot(x = 'flag',y = index.columns[i],data = index);\n",
    "# # plt.show();"
   ]
  },
  {
   "cell_type": "code",
   "execution_count": 13,
   "metadata": {
    "scrolled": false
   },
   "outputs": [],
   "source": [
    "# index.iloc[:,:-1].plot(subplots=True,figsize=(15,30),layout = (6,3));"
   ]
  },
  {
   "cell_type": "code",
   "execution_count": 14,
   "metadata": {
    "scrolled": true
   },
   "outputs": [],
   "source": [
    "# index.iloc[:,:4].plot()"
   ]
  },
  {
   "cell_type": "markdown",
   "metadata": {},
   "source": [
    "#### 总结\n",
    "连续型+离散型（bool）；\n",
    "数据严重不平衡；\n",
    "数据量纲差异很大，需要归一化；\n",
    "根据flag进行分类，发现['K、D、J','RSI','CCI']各类分布差异比较大,且离群值较少。\n",
    "是否处理：\n",
    "离群值\n",
    "正态性\n",
    "离散bool变量\n",
    "\n",
    "Xgboost数据类型必须是int、float或bool，以上数据均满足。"
   ]
  },
  {
   "cell_type": "markdown",
   "metadata": {},
   "source": [
    "## 数据预处理\n"
   ]
  },
  {
   "cell_type": "code",
   "execution_count": 15,
   "metadata": {},
   "outputs": [],
   "source": [
    "from IPython.core.interactiveshell import InteractiveShell\n",
    "InteractiveShell.ast_node_interactivity = \"all\" "
   ]
  },
  {
   "cell_type": "code",
   "execution_count": 16,
   "metadata": {
    "scrolled": true
   },
   "outputs": [
    {
     "name": "stderr",
     "output_type": "stream",
     "text": [
      "D:\\set_up\\anaconda\\lib\\site-packages\\ipykernel_launcher.py:12: UserWarning: Pandas doesn't allow columns to be created via a new attribute name - see https://pandas.pydata.org/pandas-docs/stable/indexing.html#attribute-access\n",
      "  if sys.path[0] == '':\n",
      "D:\\set_up\\anaconda\\lib\\site-packages\\ipykernel_launcher.py:14: UserWarning: Pandas doesn't allow columns to be created via a new attribute name - see https://pandas.pydata.org/pandas-docs/stable/indexing.html#attribute-access\n",
      "  \n"
     ]
    }
   ],
   "source": [
    "index.rename({'flag':'target'},inplace = True,axis = 1)\n",
    "# （1，-1） V 0\n",
    "# index.loc[(index.target == 1) | (index.target == -1),'target'] = 1\n",
    "\n",
    "# 1 V 0\n",
    "# index = index[index.target != -1]\n",
    "\n",
    "# 1 V 0 & target = 1 的+_1均为1\n",
    "# index = index[index.target != -1]\n",
    "index.loc[index.target == 1,'target'] = 0\n",
    "index.loc[index.target == -1,'target'] = 1\n",
    "index.target_shift1 = index.target.shift(1)\n",
    "index.target_shift1.fillna(0,inplace = True)\n",
    "index.target_shift2 = index.target.shift(-1)\n",
    "index.target_shift2.fillna(0,inplace = True)\n",
    "index.target += index.target_shift1\n",
    "index.target += index.target_shift2"
   ]
  },
  {
   "cell_type": "markdown",
   "metadata": {},
   "source": [
    "### 均值填充"
   ]
  },
  {
   "cell_type": "code",
   "execution_count": 17,
   "metadata": {},
   "outputs": [],
   "source": [
    "for column in list(index.columns[index.isnull().sum() > 0]):\n",
    "    mean_val = index[column].mean()\n",
    "    index[column].fillna(mean_val, inplace=True)"
   ]
  },
  {
   "cell_type": "markdown",
   "metadata": {},
   "source": [
    "### 归一化"
   ]
  },
  {
   "cell_type": "code",
   "execution_count": 18,
   "metadata": {},
   "outputs": [],
   "source": [
    "from sklearn.preprocessing import StandardScaler\n",
    "\n",
    "## bool变量单独处理\n",
    "ss = StandardScaler()\n",
    "std_index = pd.DataFrame(ss.fit_transform(index[conti_col]),columns = list(conti_col),index = index.index)\n",
    "\n",
    "std_index = pd.DataFrame(std_index)\n",
    "std_index = std_index.merge(index[unconti_col],left_index = True,right_index = True,how = 'left')\n",
    "std_index = std_index.merge(index['target'],left_index = True,right_index = True,how = 'left')"
   ]
  },
  {
   "cell_type": "code",
   "execution_count": 19,
   "metadata": {},
   "outputs": [],
   "source": [
    "# index.to_csv('./data/sz50_process_data.csv')\n",
    "# std_index.to_csv('./data/sz50_process_std_data.csv')"
   ]
  },
  {
   "cell_type": "markdown",
   "metadata": {},
   "source": [
    "## 特征工程"
   ]
  },
  {
   "cell_type": "markdown",
   "metadata": {},
   "source": [
    "### 特征筛选"
   ]
  },
  {
   "cell_type": "code",
   "execution_count": 20,
   "metadata": {},
   "outputs": [],
   "source": [
    "#FEATURE.py 做特征筛选\n",
    "selected_std_index = pd.read_csv('./data/sz50_process_std_data_selected.csv',index_col =0)\n",
    "selected_std_col = list(selected_std_index.columns)"
   ]
  },
  {
   "cell_type": "code",
   "execution_count": 21,
   "metadata": {
    "scrolled": true
   },
   "outputs": [
    {
     "data": {
      "text/plain": [
       "30"
      ]
     },
     "execution_count": 21,
     "metadata": {},
     "output_type": "execute_result"
    }
   ],
   "source": [
    "len(selected_std_col)"
   ]
  },
  {
   "cell_type": "code",
   "execution_count": 22,
   "metadata": {},
   "outputs": [
    {
     "name": "stdout",
     "output_type": "stream",
     "text": [
      "<class 'pandas.core.frame.DataFrame'>\n",
      "DatetimeIndex: 4141 entries, 2005-01-04 to 2022-01-14\n",
      "Data columns (total 30 columns):\n",
      " #   Column           Non-Null Count  Dtype  \n",
      "---  ------           --------------  -----  \n",
      " 0   turn             4141 non-null   float64\n",
      " 1   BOLL.2           4141 non-null   float64\n",
      " 2   PVT              4141 non-null   float64\n",
      " 3   ROC.1            4141 non-null   float64\n",
      " 4   down_days        4141 non-null   int64  \n",
      " 5   ADTM.1           4141 non-null   float64\n",
      " 6   MIKE             4141 non-null   float64\n",
      " 7   DMI_2.3          4141 non-null   float64\n",
      " 8   MTM.1            4141 non-null   float64\n",
      " 9   MACD_DEA         4141 non-null   float64\n",
      " 10  vol_ratio        4141 non-null   float64\n",
      " 11  div_compindex    4141 non-null   float64\n",
      " 12  tech_uppct       4141 non-null   float64\n",
      " 13  WVAD.1           4141 non-null   float64\n",
      " 14  DMA              4141 non-null   float64\n",
      " 15  up_days          4141 non-null   int64  \n",
      " 16  RC               4141 non-null   float64\n",
      " 17  TRIX             4141 non-null   float64\n",
      " 18  tech_limitupnum  4141 non-null   float64\n",
      " 19  VOSC             4141 non-null   float64\n",
      " 20  tech_upnum       4141 non-null   float64\n",
      " 21  slowKD.1         4141 non-null   float64\n",
      " 22  DPO.1            4141 non-null   float64\n",
      " 23  tech_limituppct  4141 non-null   float64\n",
      " 24  WVAD             4141 non-null   float64\n",
      " 25  DMI              4141 non-null   float64\n",
      " 26  DMI_2            4141 non-null   float64\n",
      " 27  close            4141 non-null   float64\n",
      " 28  vwap             4141 non-null   float64\n",
      " 29  CDP.3            4141 non-null   float64\n",
      "dtypes: float64(28), int64(2)\n",
      "memory usage: 1.1 MB\n"
     ]
    }
   ],
   "source": [
    "std_index[selected_std_col].info()"
   ]
  },
  {
   "cell_type": "markdown",
   "metadata": {},
   "source": [
    "### PCA"
   ]
  },
  {
   "cell_type": "code",
   "execution_count": 23,
   "metadata": {},
   "outputs": [],
   "source": [
    "pca_X = std_index[selected_std_col].copy()"
   ]
  },
  {
   "cell_type": "code",
   "execution_count": 24,
   "metadata": {
    "scrolled": true
   },
   "outputs": [
    {
     "data": {
      "text/plain": [
       "PCA(n_components='mle')"
      ]
     },
     "execution_count": 24,
     "metadata": {},
     "output_type": "execute_result"
    },
    {
     "data": {
      "text/plain": [
       "[<matplotlib.lines.Line2D at 0x1f8ebd9ebc8>]"
      ]
     },
     "execution_count": 24,
     "metadata": {},
     "output_type": "execute_result"
    },
    {
     "data": {
      "text/plain": [
       "Text(0.5, 1.0, 'PCA')"
      ]
     },
     "execution_count": 24,
     "metadata": {},
     "output_type": "execute_result"
    },
    {
     "data": {
      "text/plain": [
       "Text(1, 0.6645027478112487, '0.6645')"
      ]
     },
     "execution_count": 24,
     "metadata": {},
     "output_type": "execute_result"
    },
    {
     "data": {
      "text/plain": [
       "Text(2, 0.7660453878933153, '0.766')"
      ]
     },
     "execution_count": 24,
     "metadata": {},
     "output_type": "execute_result"
    },
    {
     "data": {
      "text/plain": [
       "Text(3, 0.8262168936225183, '0.8262')"
      ]
     },
     "execution_count": 24,
     "metadata": {},
     "output_type": "execute_result"
    },
    {
     "data": {
      "text/plain": [
       "Text(4, 0.8715032843972366, '0.8715')"
      ]
     },
     "execution_count": 24,
     "metadata": {},
     "output_type": "execute_result"
    },
    {
     "data": {
      "text/plain": [
       "Text(5, 0.8930761758266074, '0.8931')"
      ]
     },
     "execution_count": 24,
     "metadata": {},
     "output_type": "execute_result"
    },
    {
     "data": {
      "text/plain": [
       "Text(6, 0.9078687163714426, '0.9079')"
      ]
     },
     "execution_count": 24,
     "metadata": {},
     "output_type": "execute_result"
    },
    {
     "data": {
      "text/plain": [
       "Text(7, 0.9219385807968186, '0.9219')"
      ]
     },
     "execution_count": 24,
     "metadata": {},
     "output_type": "execute_result"
    },
    {
     "data": {
      "text/plain": [
       "Text(8, 0.9335203239896465, '0.9335')"
      ]
     },
     "execution_count": 24,
     "metadata": {},
     "output_type": "execute_result"
    },
    {
     "data": {
      "text/plain": [
       "Text(9, 0.9444149457746563, '0.9444')"
      ]
     },
     "execution_count": 24,
     "metadata": {},
     "output_type": "execute_result"
    },
    {
     "data": {
      "text/plain": [
       "Text(10, 0.9544327037209882, '0.9544')"
      ]
     },
     "execution_count": 24,
     "metadata": {},
     "output_type": "execute_result"
    },
    {
     "data": {
      "image/png": "[encoded data removed]",
      "text/plain": [
       "<Figure size 432x288 with 1 Axes>"
      ]
     },
     "metadata": {
      "needs_background": "light"
     },
     "output_type": "display_data"
    },
    {
     "data": {
      "text/plain": [
       "'手肘法选n_components = 6'"
      ]
     },
     "execution_count": 24,
     "metadata": {},
     "output_type": "execute_result"
    }
   ],
   "source": [
    "from sklearn.decomposition import PCA\n",
    "pca = PCA(n_components='mle') #mle表示自动选最优\n",
    "pca.fit(pca_X)\n",
    "\n",
    "n_max = 10\n",
    "x = np.arange(1,n_max +1)\n",
    "y = pca.explained_variance_ratio_.cumsum()[:n_max]\n",
    "plt.plot(x,y);\n",
    "plt.title('PCA');\n",
    "# 设置数字标签\n",
    "for a, b in zip(x, y):\n",
    "    plt.text(a, b, round(b,4), ha='center', va='bottom');\n",
    "plt.show()\n",
    "'''手肘法选n_components = 6'''"
   ]
  },
  {
   "cell_type": "code",
   "execution_count": 25,
   "metadata": {},
   "outputs": [],
   "source": [
    "tar_n = 5"
   ]
  },
  {
   "cell_type": "code",
   "execution_count": 26,
   "metadata": {},
   "outputs": [
    {
     "data": {
      "text/plain": [
       "PCA(n_components=5)"
      ]
     },
     "execution_count": 26,
     "metadata": {},
     "output_type": "execute_result"
    },
    {
     "name": "stdout",
     "output_type": "stream",
     "text": [
      "PCA保留89.31%的信息\n"
     ]
    }
   ],
   "source": [
    "pca = PCA(n_components= tar_n)\n",
    "pca.fit(pca_X)\n",
    "print('PCA保留{:.2%}的信息'.format(pca.explained_variance_ratio_.sum()))\n",
    "PCA_out = pd.DataFrame(pca.transform(pca_X),columns = ['PCA_' + str(i) for i in range(tar_n)],index = index.index)\n",
    "PCA_out = PCA_out.merge(index.target,left_index = True,right_index = True,how = 'left')"
   ]
  },
  {
   "cell_type": "code",
   "execution_count": 27,
   "metadata": {
    "scrolled": true
   },
   "outputs": [
    {
     "data": {
      "text/html": [
       "<div>\n",
       "<style scoped>\n",
       "    .dataframe tbody tr th:only-of-type {\n",
       "        vertical-align: middle;\n",
       "    }\n",
       "\n",
       "    .dataframe tbody tr th {\n",
       "        vertical-align: top;\n",
       "    }\n",
       "\n",
       "    .dataframe thead th {\n",
       "        text-align: right;\n",
       "    }\n",
       "</style>\n",
       "<table border=\"1\" class=\"dataframe\">\n",
       "  <thead>\n",
       "    <tr style=\"text-align: right;\">\n",
       "      <th></th>\n",
       "      <th>PCA_0</th>\n",
       "      <th>PCA_1</th>\n",
       "      <th>PCA_2</th>\n",
       "      <th>PCA_3</th>\n",
       "      <th>PCA_4</th>\n",
       "      <th>target</th>\n",
       "    </tr>\n",
       "    <tr>\n",
       "      <th>DATETIME</th>\n",
       "      <th></th>\n",
       "      <th></th>\n",
       "      <th></th>\n",
       "      <th></th>\n",
       "      <th></th>\n",
       "      <th></th>\n",
       "    </tr>\n",
       "  </thead>\n",
       "  <tbody>\n",
       "    <tr>\n",
       "      <th>2005-01-04</th>\n",
       "      <td>-3.547704</td>\n",
       "      <td>2.793831</td>\n",
       "      <td>-3.989534</td>\n",
       "      <td>-1.940106</td>\n",
       "      <td>0.366285</td>\n",
       "      <td>0.0</td>\n",
       "    </tr>\n",
       "    <tr>\n",
       "      <th>2005-01-05</th>\n",
       "      <td>-3.274525</td>\n",
       "      <td>2.403393</td>\n",
       "      <td>-3.506528</td>\n",
       "      <td>1.667699</td>\n",
       "      <td>1.215603</td>\n",
       "      <td>1.0</td>\n",
       "    </tr>\n",
       "    <tr>\n",
       "      <th>2005-01-06</th>\n",
       "      <td>-3.491885</td>\n",
       "      <td>2.827159</td>\n",
       "      <td>-3.725194</td>\n",
       "      <td>-0.486240</td>\n",
       "      <td>0.970700</td>\n",
       "      <td>1.0</td>\n",
       "    </tr>\n",
       "    <tr>\n",
       "      <th>2005-01-07</th>\n",
       "      <td>-3.288378</td>\n",
       "      <td>2.604773</td>\n",
       "      <td>-3.507543</td>\n",
       "      <td>1.696207</td>\n",
       "      <td>1.383087</td>\n",
       "      <td>1.0</td>\n",
       "    </tr>\n",
       "    <tr>\n",
       "      <th>2005-01-10</th>\n",
       "      <td>-3.244417</td>\n",
       "      <td>2.473050</td>\n",
       "      <td>-3.336951</td>\n",
       "      <td>2.445254</td>\n",
       "      <td>1.617029</td>\n",
       "      <td>0.0</td>\n",
       "    </tr>\n",
       "    <tr>\n",
       "      <th>...</th>\n",
       "      <td>...</td>\n",
       "      <td>...</td>\n",
       "      <td>...</td>\n",
       "      <td>...</td>\n",
       "      <td>...</td>\n",
       "      <td>...</td>\n",
       "    </tr>\n",
       "    <tr>\n",
       "      <th>2022-01-10</th>\n",
       "      <td>-3.192846</td>\n",
       "      <td>-0.069117</td>\n",
       "      <td>3.614402</td>\n",
       "      <td>1.215846</td>\n",
       "      <td>1.554624</td>\n",
       "      <td>1.0</td>\n",
       "    </tr>\n",
       "    <tr>\n",
       "      <th>2022-01-11</th>\n",
       "      <td>-3.446706</td>\n",
       "      <td>0.396748</td>\n",
       "      <td>3.375156</td>\n",
       "      <td>-1.566999</td>\n",
       "      <td>1.014357</td>\n",
       "      <td>0.0</td>\n",
       "    </tr>\n",
       "    <tr>\n",
       "      <th>2022-01-12</th>\n",
       "      <td>-3.280076</td>\n",
       "      <td>0.310278</td>\n",
       "      <td>3.512233</td>\n",
       "      <td>0.414873</td>\n",
       "      <td>1.410980</td>\n",
       "      <td>0.0</td>\n",
       "    </tr>\n",
       "    <tr>\n",
       "      <th>2022-01-13</th>\n",
       "      <td>-3.474970</td>\n",
       "      <td>0.824279</td>\n",
       "      <td>3.243642</td>\n",
       "      <td>-1.459492</td>\n",
       "      <td>0.870189</td>\n",
       "      <td>0.0</td>\n",
       "    </tr>\n",
       "    <tr>\n",
       "      <th>2022-01-14</th>\n",
       "      <td>-3.590313</td>\n",
       "      <td>1.439925</td>\n",
       "      <td>3.068502</td>\n",
       "      <td>-2.096407</td>\n",
       "      <td>0.760868</td>\n",
       "      <td>0.0</td>\n",
       "    </tr>\n",
       "  </tbody>\n",
       "</table>\n",
       "<p>4141 rows × 6 columns</p>\n",
       "</div>"
      ],
      "text/plain": [
       "               PCA_0     PCA_1     PCA_2     PCA_3     PCA_4  target\n",
       "DATETIME                                                            \n",
       "2005-01-04 -3.547704  2.793831 -3.989534 -1.940106  0.366285     0.0\n",
       "2005-01-05 -3.274525  2.403393 -3.506528  1.667699  1.215603     1.0\n",
       "2005-01-06 -3.491885  2.827159 -3.725194 -0.486240  0.970700     1.0\n",
       "2005-01-07 -3.288378  2.604773 -3.507543  1.696207  1.383087     1.0\n",
       "2005-01-10 -3.244417  2.473050 -3.336951  2.445254  1.617029     0.0\n",
       "...              ...       ...       ...       ...       ...     ...\n",
       "2022-01-10 -3.192846 -0.069117  3.614402  1.215846  1.554624     1.0\n",
       "2022-01-11 -3.446706  0.396748  3.375156 -1.566999  1.014357     0.0\n",
       "2022-01-12 -3.280076  0.310278  3.512233  0.414873  1.410980     0.0\n",
       "2022-01-13 -3.474970  0.824279  3.243642 -1.459492  0.870189     0.0\n",
       "2022-01-14 -3.590313  1.439925  3.068502 -2.096407  0.760868     0.0\n",
       "\n",
       "[4141 rows x 6 columns]"
      ]
     },
     "execution_count": 27,
     "metadata": {},
     "output_type": "execute_result"
    }
   ],
   "source": [
    "PCA_out"
   ]
  },
  {
   "cell_type": "markdown",
   "metadata": {},
   "source": [
    "### 划分验证集"
   ]
  },
  {
   "cell_type": "code",
   "execution_count": 28,
   "metadata": {},
   "outputs": [],
   "source": [
    "# std_index[selected_std_col + ['target']] # 筛选后的变量 -> LR\n",
    "# PCA_out #筛选后 + PCA\n",
    "# std_index #归一化，未筛选，未PCA -> XGB RF\n",
    "train_test_in = std_index .copy()"
   ]
  },
  {
   "cell_type": "code",
   "execution_count": 29,
   "metadata": {
    "scrolled": true
   },
   "outputs": [
    {
     "data": {
      "text/plain": [
       "'validation_train'"
      ]
     },
     "execution_count": 29,
     "metadata": {},
     "output_type": "execute_result"
    },
    {
     "name": "stdout",
     "output_type": "stream",
     "text": [
      "Index(['open', 'high', 'low', 'close', 'volume', 'amt', 'pct_chg', 'turn',\n",
      "       'MACD_MACD', 'MACD_DIFF',\n",
      "       ...\n",
      "       'history_high', 'stage_low', 'up_days', 'down_days', 'breakout_ma',\n",
      "       'breakdown_ma', 'history_high_days', 'history_low_days', 'bull_bear_ma',\n",
      "       'bull_bear_ma.1'],\n",
      "      dtype='object', length=103)\n",
      "Index(['target'], dtype='object')\n"
     ]
    },
    {
     "data": {
      "text/plain": [
       "'validation_test'"
      ]
     },
     "execution_count": 29,
     "metadata": {},
     "output_type": "execute_result"
    },
    {
     "name": "stdout",
     "output_type": "stream",
     "text": [
      "Index(['open', 'high', 'low', 'close', 'volume', 'amt', 'pct_chg', 'turn',\n",
      "       'MACD_MACD', 'MACD_DIFF',\n",
      "       ...\n",
      "       'history_high', 'stage_low', 'up_days', 'down_days', 'breakout_ma',\n",
      "       'breakdown_ma', 'history_high_days', 'history_low_days', 'bull_bear_ma',\n",
      "       'bull_bear_ma.1'],\n",
      "      dtype='object', length=103)\n",
      "Index(['target'], dtype='object')\n"
     ]
    }
   ],
   "source": [
    "validation_train = train_test_in.iloc[:-int(len(train_test_in)*0.3),:]\n",
    "validation_test = train_test_in.iloc[-int(len(train_test_in)*0.3):,:]\n",
    "\n",
    "'''validation_train'''\n",
    "validation_train_f = validation_train.drop(['target'], axis=1)\n",
    "validation_train_l = validation_train[['target']]\n",
    "print(validation_train_f.columns)\n",
    "print(validation_train_l.columns)\n",
    "\n",
    "'''validation_test'''\n",
    "validation_test_f = validation_test.drop(['target'], axis=1)\n",
    "validation_test_l = validation_test[['target']]\n",
    "print(validation_test_f.columns)\n",
    "print(validation_test_l.columns)"
   ]
  },
  {
   "cell_type": "markdown",
   "metadata": {},
   "source": [
    "### SMOTE上采样"
   ]
  },
  {
   "cell_type": "code",
   "execution_count": 30,
   "metadata": {},
   "outputs": [],
   "source": [
    "smote_train_x_in =  validation_train_f.copy()\n",
    "smote_train_y_in = validation_train_l.copy()"
   ]
  },
  {
   "cell_type": "code",
   "execution_count": 31,
   "metadata": {
    "scrolled": false
   },
   "outputs": [],
   "source": [
    "# 使用imlbearn库中上采样方法中的SMOTE接口\n",
    "from imblearn.over_sampling import SMOTE,ADASYN \n",
    "# 定义SMOTE模型，random_state相当于随机数种子的作用\n",
    "smo = SMOTE(random_state=42)\n",
    "smote_train_x_out, smote_train_y_out = smo.fit_resample(smote_train_x_in, smote_train_y_in)"
   ]
  },
  {
   "cell_type": "code",
   "execution_count": 32,
   "metadata": {
    "scrolled": false
   },
   "outputs": [
    {
     "data": {
      "text/plain": [
       "1.0    2572\n",
       "0.0    2572\n",
       "Name: target, dtype: int64"
      ]
     },
     "execution_count": 32,
     "metadata": {},
     "output_type": "execute_result"
    }
   ],
   "source": [
    "smote_train_y_out.target.value_counts()"
   ]
  },
  {
   "cell_type": "markdown",
   "metadata": {},
   "source": [
    "## 搭建模型"
   ]
  },
  {
   "cell_type": "code",
   "execution_count": 33,
   "metadata": {},
   "outputs": [],
   "source": [
    "import pandas as pd\n",
    "import numpy as np\n",
    "import datetime\n",
    "import xgboost as xgb\n",
    "from xgboost import plot_importance\n",
    "from sklearn.metrics import roc_auc_score\n",
    "import matplotlib.pyplot as plt\n",
    "from sklearn.metrics import confusion_matrix,recall_score,roc_auc_score,precision_score"
   ]
  },
  {
   "cell_type": "markdown",
   "metadata": {},
   "source": [
    "### XGBOOST\n",
    "测试集：过去1242天的数据,即30%的数据。\n",
    "训练集：1 ~ 2899天数据，即70%的数据。"
   ]
  },
  {
   "cell_type": "code",
   "execution_count": 34,
   "metadata": {},
   "outputs": [],
   "source": [
    "params = {\n",
    "    'booster': 'gbtree',\n",
    "    'objective': 'binary:logistic',\n",
    "    'gamma': 0.1,  # 用于控制是否后剪枝的参数,越大越保守，一般0.1、0.2这样子。\n",
    "    'max_depth': 2,  # 构建树的深度，越大越容易过拟合\n",
    "    'lambda': 2,  # 控制模型复杂度的权重值的L2正则化项参数，参数越大，模型越不容易过拟合。\n",
    "    'subsample': 0.8,  # 随机采样训练样本\n",
    "    'colsample_bytree': 0.8,  # 生成树时进行的列采样\n",
    "    'min_child_weight': 18,\n",
    "    'silent': 0,  # 设置成1则没有运行信息输出，最好是设置为0.\n",
    "    'eta': 0.03,  # 如同学习率\n",
    "    'eval_metric': 'auc',\n",
    "}"
   ]
  },
  {
   "cell_type": "code",
   "execution_count": 35,
   "metadata": {},
   "outputs": [],
   "source": [
    "params1 =  {\n",
    "    'booster': 'gbtree',\n",
    "    'objective': 'binary:logistic',\n",
    "    'gamma': 0.1,  # 用于控制是否后剪枝的参数,越大越保守，一般0.1、0.2这样子。\n",
    "    'max_depth': 3,  # 构建树的深度，越大越容易过拟合\n",
    "    'lambda': 4,  # 控制模型复杂度的权重值的L2正则化项参数，参数越大，模型越不容易过拟合。\n",
    "    'alpha':3, #权重的L1正则化项。\n",
    "    'subsample': 0.5,  # 随机采样训练样本\n",
    "    'colsample_bytree': 0.8,  # 生成树时进行的列采样\n",
    "    'min_child_weight': 10,\n",
    "    'silent': 0,  # 设置成1则没有运行信息输出，最好是设置为0.\n",
    "    'eta': 0.03,  # 如同学习率\n",
    "    'eval_metric': 'auc'\n",
    "    \n",
    "}"
   ]
  },
  {
   "cell_type": "code",
   "execution_count": 36,
   "metadata": {
    "scrolled": true
   },
   "outputs": [],
   "source": [
    "def XGB_train_func(params,validation_train_f,validation_train_l,validation_test_f,validation_test_l ):\n",
    "    xgb_train = xgb.DMatrix(validation_train_f, label=validation_train_l)\n",
    "    xgb_test = xgb.DMatrix(validation_test_f, label=validation_test_l)\n",
    "    watchlist = [(xgb_train, 'train'), (xgb_test, 'val')]\n",
    "    module = xgb.train(params, xgb_train, num_boost_round=200, evals=watchlist)\n",
    "    result = module.predict(xgb_test)\n",
    "    features = module.get_fscore()\n",
    "    features = list(dict(sorted(features.items(), key=lambda d: d[1])).keys())  #[-5:]\n",
    "    features.reverse()\n",
    "    print(features)\n",
    "    plot_importance(module)\n",
    "    plt.show()\n",
    "    print(\"auc:{0:.2%} \".format(roc_auc_score(validation_test_l.values, result)))\n",
    "    return result,features\n"
   ]
  },
  {
   "cell_type": "code",
   "execution_count": 37,
   "metadata": {},
   "outputs": [],
   "source": [
    "def judge(test_l,pre):\n",
    "    '''\n",
    "    输入两个series或np.array\n",
    "    '''\n",
    "    print('TN|FP')\n",
    "    print('FN|TP')\n",
    "    print(confusion_matrix(test_l,pre ))\n",
    "    TN, FP, FN, TP = confusion_matrix(test_l,pre ).ravel()\n",
    "\n",
    "    precision = TP / (TP+FP)  # 查准率\n",
    "    recall = TP / (TP+FN)  # 查全率\n",
    "    accuracy = (TP+TN)/(TP+FP+TN+FN)\n",
    "    print('precision:{0:.2%}, recall:{1:.2%}, accuracy:{2:.2%}'.format(precision,recall,accuracy))"
   ]
  },
  {
   "cell_type": "code",
   "execution_count": 38,
   "metadata": {},
   "outputs": [
    {
     "name": "stdout",
     "output_type": "stream",
     "text": [
      "[00:56:04] WARNING: C:\\Users\\Administrator\\workspace\\xgboost-win64_release_1.0.0\\src\\learner.cc:328: \n",
      "Parameters: { silent } might not be used.\n",
      "\n",
      "  This may not be accurate due to some parameters are only used in language bindings but\n",
      "  passed down to XGBoost core.  Or some parameters are not used but slip through this\n",
      "  verification. Please open an issue if you find above cases.\n",
      "\n",
      "\n",
      "[0]\ttrain-auc:0.80737\tval-auc:0.83488\n",
      "[1]\ttrain-auc:0.82324\tval-auc:0.84671\n",
      "[2]\ttrain-auc:0.82892\tval-auc:0.84798\n",
      "[3]\ttrain-auc:0.82944\tval-auc:0.84624\n",
      "[4]\ttrain-auc:0.83148\tval-auc:0.85168\n",
      "[5]\ttrain-auc:0.83286\tval-auc:0.85032\n",
      "[6]\ttrain-auc:0.83378\tval-auc:0.84935\n",
      "[7]\ttrain-auc:0.83430\tval-auc:0.85252\n",
      "[8]\ttrain-auc:0.83362\tval-auc:0.84903\n",
      "[9]\ttrain-auc:0.83428\tval-auc:0.85082\n",
      "[10]\ttrain-auc:0.83439\tval-auc:0.84805\n",
      "[11]\ttrain-auc:0.83507\tval-auc:0.85002\n",
      "[12]\ttrain-auc:0.83488\tval-auc:0.84812\n",
      "[13]\ttrain-auc:0.83547\tval-auc:0.84777\n",
      "[14]\ttrain-auc:0.83655\tval-auc:0.85037\n",
      "[15]\ttrain-auc:0.83721\tval-auc:0.85351\n",
      "[16]\ttrain-auc:0.83747\tval-auc:0.85329\n",
      "[17]\ttrain-auc:0.84210\tval-auc:0.85335\n",
      "[18]\ttrain-auc:0.84150\tval-auc:0.85289\n",
      "[19]\ttrain-auc:0.84238\tval-auc:0.85279\n",
      "[20]\ttrain-auc:0.84684\tval-auc:0.84925\n",
      "[21]\ttrain-auc:0.84755\tval-auc:0.84898\n",
      "[22]\ttrain-auc:0.84842\tval-auc:0.84885\n",
      "[23]\ttrain-auc:0.84839\tval-auc:0.84889\n",
      "[24]\ttrain-auc:0.84838\tval-auc:0.84900\n",
      "[25]\ttrain-auc:0.84846\tval-auc:0.84977\n",
      "[26]\ttrain-auc:0.84812\tval-auc:0.85008\n",
      "[27]\ttrain-auc:0.84834\tval-auc:0.85023\n",
      "[28]\ttrain-auc:0.84842\tval-auc:0.85053\n",
      "[29]\ttrain-auc:0.84983\tval-auc:0.85051\n",
      "[30]\ttrain-auc:0.85006\tval-auc:0.85036\n",
      "[31]\ttrain-auc:0.85002\tval-auc:0.85072\n",
      "[32]\ttrain-auc:0.85037\tval-auc:0.85036\n",
      "[33]\ttrain-auc:0.85051\tval-auc:0.85023\n",
      "[34]\ttrain-auc:0.85267\tval-auc:0.85100\n",
      "[35]\ttrain-auc:0.85184\tval-auc:0.85320\n",
      "[36]\ttrain-auc:0.85168\tval-auc:0.85309\n",
      "[37]\ttrain-auc:0.85158\tval-auc:0.85313\n",
      "[38]\ttrain-auc:0.85200\tval-auc:0.85319\n",
      "[39]\ttrain-auc:0.85189\tval-auc:0.85260\n",
      "[40]\ttrain-auc:0.85192\tval-auc:0.85242\n",
      "[41]\ttrain-auc:0.85198\tval-auc:0.85155\n",
      "[42]\ttrain-auc:0.85261\tval-auc:0.85031\n",
      "[43]\ttrain-auc:0.85277\tval-auc:0.85033\n",
      "[44]\ttrain-auc:0.85289\tval-auc:0.85035\n",
      "[45]\ttrain-auc:0.85360\tval-auc:0.85058\n",
      "[46]\ttrain-auc:0.85459\tval-auc:0.85073\n",
      "[47]\ttrain-auc:0.85556\tval-auc:0.85054\n",
      "[48]\ttrain-auc:0.85581\tval-auc:0.85012\n",
      "[49]\ttrain-auc:0.85605\tval-auc:0.84992\n",
      "[50]\ttrain-auc:0.85623\tval-auc:0.84990\n",
      "[51]\ttrain-auc:0.85648\tval-auc:0.85019\n",
      "[52]\ttrain-auc:0.85671\tval-auc:0.84991\n",
      "[53]\ttrain-auc:0.85677\tval-auc:0.84986\n",
      "[54]\ttrain-auc:0.85755\tval-auc:0.84933\n",
      "[55]\ttrain-auc:0.85767\tval-auc:0.84972\n",
      "[56]\ttrain-auc:0.85820\tval-auc:0.84990\n",
      "[57]\ttrain-auc:0.85832\tval-auc:0.84980\n",
      "[58]\ttrain-auc:0.85937\tval-auc:0.85024\n",
      "[59]\ttrain-auc:0.85949\tval-auc:0.85004\n",
      "[60]\ttrain-auc:0.85959\tval-auc:0.84990\n",
      "[61]\ttrain-auc:0.86014\tval-auc:0.85015\n",
      "[62]\ttrain-auc:0.86079\tval-auc:0.85000\n",
      "[63]\ttrain-auc:0.86093\tval-auc:0.84992\n",
      "[64]\ttrain-auc:0.86095\tval-auc:0.84970\n",
      "[65]\ttrain-auc:0.86108\tval-auc:0.84931\n",
      "[66]\ttrain-auc:0.86233\tval-auc:0.84962\n",
      "[67]\ttrain-auc:0.86212\tval-auc:0.84971\n",
      "[68]\ttrain-auc:0.86236\tval-auc:0.84942\n",
      "[69]\ttrain-auc:0.86246\tval-auc:0.84914\n",
      "[70]\ttrain-auc:0.86256\tval-auc:0.84889\n",
      "[71]\ttrain-auc:0.86226\tval-auc:0.84932\n",
      "[72]\ttrain-auc:0.86206\tval-auc:0.84954\n",
      "[73]\ttrain-auc:0.86210\tval-auc:0.84966\n",
      "[74]\ttrain-auc:0.86220\tval-auc:0.84946\n",
      "[75]\ttrain-auc:0.86242\tval-auc:0.84945\n",
      "[76]\ttrain-auc:0.86243\tval-auc:0.84929\n",
      "[77]\ttrain-auc:0.86263\tval-auc:0.84930\n",
      "[78]\ttrain-auc:0.86328\tval-auc:0.84949\n",
      "[79]\ttrain-auc:0.86342\tval-auc:0.84953\n",
      "[80]\ttrain-auc:0.86381\tval-auc:0.84943\n",
      "[81]\ttrain-auc:0.86378\tval-auc:0.84945\n",
      "[82]\ttrain-auc:0.86374\tval-auc:0.84955\n",
      "[83]\ttrain-auc:0.86455\tval-auc:0.85003\n",
      "[84]\ttrain-auc:0.86495\tval-auc:0.84998\n",
      "[85]\ttrain-auc:0.86511\tval-auc:0.84973\n",
      "[86]\ttrain-auc:0.86577\tval-auc:0.85037\n",
      "[87]\ttrain-auc:0.86638\tval-auc:0.85038\n",
      "[88]\ttrain-auc:0.86633\tval-auc:0.85022\n",
      "[89]\ttrain-auc:0.86671\tval-auc:0.85004\n",
      "[90]\ttrain-auc:0.86765\tval-auc:0.85058\n",
      "[91]\ttrain-auc:0.86771\tval-auc:0.85037\n",
      "[92]\ttrain-auc:0.86790\tval-auc:0.85035\n",
      "[93]\ttrain-auc:0.86844\tval-auc:0.85014\n",
      "[94]\ttrain-auc:0.86856\tval-auc:0.84990\n",
      "[95]\ttrain-auc:0.86872\tval-auc:0.84991\n",
      "[96]\ttrain-auc:0.86934\tval-auc:0.85004\n",
      "[97]\ttrain-auc:0.87093\tval-auc:0.84997\n",
      "[98]\ttrain-auc:0.87164\tval-auc:0.85026\n",
      "[99]\ttrain-auc:0.87228\tval-auc:0.85042\n",
      "[100]\ttrain-auc:0.87250\tval-auc:0.85027\n",
      "[101]\ttrain-auc:0.87265\tval-auc:0.85026\n",
      "[102]\ttrain-auc:0.87304\tval-auc:0.85018\n",
      "[103]\ttrain-auc:0.87324\tval-auc:0.85010\n",
      "[104]\ttrain-auc:0.87351\tval-auc:0.85001\n",
      "[105]\ttrain-auc:0.87398\tval-auc:0.84959\n",
      "[106]\ttrain-auc:0.87448\tval-auc:0.84975\n",
      "[107]\ttrain-auc:0.87480\tval-auc:0.84978\n",
      "[108]\ttrain-auc:0.87522\tval-auc:0.84969\n",
      "[109]\ttrain-auc:0.87566\tval-auc:0.84974\n",
      "[110]\ttrain-auc:0.87600\tval-auc:0.84994\n",
      "[111]\ttrain-auc:0.87741\tval-auc:0.84969\n",
      "[112]\ttrain-auc:0.87786\tval-auc:0.84928\n",
      "[113]\ttrain-auc:0.87831\tval-auc:0.84938\n",
      "[114]\ttrain-auc:0.87862\tval-auc:0.84932\n",
      "[115]\ttrain-auc:0.87896\tval-auc:0.84901\n",
      "[116]\ttrain-auc:0.87946\tval-auc:0.84912\n",
      "[117]\ttrain-auc:0.87974\tval-auc:0.84882\n",
      "[118]\ttrain-auc:0.88010\tval-auc:0.84847\n",
      "[119]\ttrain-auc:0.88150\tval-auc:0.84842\n",
      "[120]\ttrain-auc:0.88278\tval-auc:0.84847\n",
      "[121]\ttrain-auc:0.88325\tval-auc:0.84818\n",
      "[122]\ttrain-auc:0.88358\tval-auc:0.84831\n",
      "[123]\ttrain-auc:0.88413\tval-auc:0.84827\n",
      "[124]\ttrain-auc:0.88446\tval-auc:0.84806\n",
      "[125]\ttrain-auc:0.88468\tval-auc:0.84777\n",
      "[126]\ttrain-auc:0.88575\tval-auc:0.84772\n",
      "[127]\ttrain-auc:0.88675\tval-auc:0.84773\n",
      "[128]\ttrain-auc:0.88749\tval-auc:0.84781\n",
      "[129]\ttrain-auc:0.88776\tval-auc:0.84782\n",
      "[130]\ttrain-auc:0.88804\tval-auc:0.84764\n",
      "[131]\ttrain-auc:0.88828\tval-auc:0.84745\n",
      "[132]\ttrain-auc:0.88928\tval-auc:0.84752\n",
      "[133]\ttrain-auc:0.88959\tval-auc:0.84762\n",
      "[134]\ttrain-auc:0.88996\tval-auc:0.84794\n",
      "[135]\ttrain-auc:0.89032\tval-auc:0.84804\n",
      "[136]\ttrain-auc:0.89039\tval-auc:0.84799\n",
      "[137]\ttrain-auc:0.89062\tval-auc:0.84801\n",
      "[138]\ttrain-auc:0.89078\tval-auc:0.84795\n",
      "[139]\ttrain-auc:0.89197\tval-auc:0.84686\n",
      "[140]\ttrain-auc:0.89229\tval-auc:0.84674\n",
      "[141]\ttrain-auc:0.89251\tval-auc:0.84656\n",
      "[142]\ttrain-auc:0.89273\tval-auc:0.84671\n",
      "[143]\ttrain-auc:0.89323\tval-auc:0.84744\n",
      "[144]\ttrain-auc:0.89350\tval-auc:0.84745\n",
      "[145]\ttrain-auc:0.89364\tval-auc:0.84742\n",
      "[146]\ttrain-auc:0.89370\tval-auc:0.84737\n",
      "[147]\ttrain-auc:0.89450\tval-auc:0.84733\n",
      "[148]\ttrain-auc:0.89480\tval-auc:0.84708\n",
      "[149]\ttrain-auc:0.89501\tval-auc:0.84701\n",
      "[150]\ttrain-auc:0.89509\tval-auc:0.84699\n",
      "[151]\ttrain-auc:0.89541\tval-auc:0.84676\n",
      "[152]\ttrain-auc:0.89616\tval-auc:0.84659\n",
      "[153]\ttrain-auc:0.89672\tval-auc:0.84684\n",
      "[154]\ttrain-auc:0.89694\tval-auc:0.84688\n",
      "[155]\ttrain-auc:0.89722\tval-auc:0.84664\n",
      "[156]\ttrain-auc:0.89821\tval-auc:0.84554\n",
      "[157]\ttrain-auc:0.89845\tval-auc:0.84525\n",
      "[158]\ttrain-auc:0.89886\tval-auc:0.84515\n",
      "[159]\ttrain-auc:0.89908\tval-auc:0.84516\n",
      "[160]\ttrain-auc:0.89985\tval-auc:0.84501\n",
      "[161]\ttrain-auc:0.90003\tval-auc:0.84464\n",
      "[162]\ttrain-auc:0.90035\tval-auc:0.84503\n",
      "[163]\ttrain-auc:0.90057\tval-auc:0.84491\n",
      "[164]\ttrain-auc:0.90111\tval-auc:0.84485\n",
      "[165]\ttrain-auc:0.90126\tval-auc:0.84488\n",
      "[166]\ttrain-auc:0.90170\tval-auc:0.84523\n",
      "[167]\ttrain-auc:0.90205\tval-auc:0.84557\n",
      "[168]\ttrain-auc:0.90263\tval-auc:0.84529\n",
      "[169]\ttrain-auc:0.90284\tval-auc:0.84536\n",
      "[170]\ttrain-auc:0.90312\tval-auc:0.84509\n",
      "[171]\ttrain-auc:0.90318\tval-auc:0.84507\n",
      "[172]\ttrain-auc:0.90397\tval-auc:0.84371\n",
      "[173]\ttrain-auc:0.90436\tval-auc:0.84380\n",
      "[174]\ttrain-auc:0.90454\tval-auc:0.84385\n",
      "[175]\ttrain-auc:0.90476\tval-auc:0.84393\n",
      "[176]\ttrain-auc:0.90498\tval-auc:0.84381\n",
      "[177]\ttrain-auc:0.90575\tval-auc:0.84315\n",
      "[178]\ttrain-auc:0.90585\tval-auc:0.84310\n",
      "[179]\ttrain-auc:0.90609\tval-auc:0.84298\n",
      "[180]\ttrain-auc:0.90672\tval-auc:0.84296\n",
      "[181]\ttrain-auc:0.90732\tval-auc:0.84266\n",
      "[182]\ttrain-auc:0.90772\tval-auc:0.84321\n",
      "[183]\ttrain-auc:0.90794\tval-auc:0.84271\n",
      "[184]\ttrain-auc:0.90833\tval-auc:0.84280\n",
      "[185]\ttrain-auc:0.90853\tval-auc:0.84223\n",
      "[186]\ttrain-auc:0.90881\tval-auc:0.84223\n",
      "[187]\ttrain-auc:0.90883\tval-auc:0.84215\n",
      "[188]\ttrain-auc:0.90948\tval-auc:0.84140\n",
      "[189]\ttrain-auc:0.90958\tval-auc:0.84139\n",
      "[190]\ttrain-auc:0.90997\tval-auc:0.84126\n",
      "[191]\ttrain-auc:0.91008\tval-auc:0.84115\n",
      "[192]\ttrain-auc:0.91077\tval-auc:0.84014\n",
      "[193]\ttrain-auc:0.91091\tval-auc:0.84022\n",
      "[194]\ttrain-auc:0.91095\tval-auc:0.84052\n",
      "[195]\ttrain-auc:0.91110\tval-auc:0.84058\n",
      "[196]\ttrain-auc:0.91126\tval-auc:0.84033\n",
      "[197]\ttrain-auc:0.91184\tval-auc:0.83934\n"
     ]
    },
    {
     "name": "stdout",
     "output_type": "stream",
     "text": [
      "[198]\ttrain-auc:0.91241\tval-auc:0.83830\n",
      "[199]\ttrain-auc:0.91256\tval-auc:0.83833\n",
      "['CCI', 'KDJ_J', 'SI', 'stage_low', 'up_days', 'WVAD', 'slowKD.1', 'tech_limitupnum', 'vwap', 'stage_high', 'tech_downnum', 'MTM', 'tech_limitdownnum', 'val_pe_avg', 'VSTD', 'tech_upnum', 'TRIX', 'PVT', 'bull_bear_ma.1', 'VMACD.1', 'tech_limituppct', 'volume', 'down_days', 'VHF', 'turn', 'TAPI.1', 'tech_uppct', 'STD', 'PRICEOSC', 'DMI.2', 'WR', 'TAPI', 'TRIX.1', 'VOSC', 'tech_limitdownpct', 'MTM.1', 'swing', 'ROC', 'WVAD.1', 'RC', 'close', 'KDJ_D', 'chg', 'MACD_DIFF', 'vol_ratio', 'bull_bear_ma', 'ATR', 'MACD_DEA', 'BBIBOLL.1', 'DMI_2.2', 'DMI', 'MACD_MACD', 'ATR.1', 'BOLL.1', 'ADTM.1', 'ROC.1', 'DMA', 'SOBV', 'DPO.1']\n"
     ]
    },
    {
     "data": {
      "image/png": "[encoded data removed]",
      "text/plain": [
       "<Figure size 432x288 with 1 Axes>"
      ]
     },
     "metadata": {
      "needs_background": "light"
     },
     "output_type": "display_data"
    },
    {
     "name": "stdout",
     "output_type": "stream",
     "text": [
      "auc:83.83% \n"
     ]
    }
   ],
   "source": [
    "XGB_test_prob,XGB_imp_f = XGB_train_func(params,smote_train_x_out,smote_train_y_out,validation_test_f,validation_test_l)"
   ]
  },
  {
   "cell_type": "code",
   "execution_count": 39,
   "metadata": {
    "scrolled": false
   },
   "outputs": [
    {
     "name": "stdout",
     "output_type": "stream",
     "text": [
      "TN|FP\n",
      "FN|TP\n",
      "[[847 245]\n",
      " [ 35 115]]\n",
      "precision:31.94%, recall:76.67%, accuracy:77.46%\n"
     ]
    }
   ],
   "source": [
    "judge(validation_test_l,np.where(XGB_test_prob >= 0.5,1,0))"
   ]
  },
  {
   "cell_type": "markdown",
   "metadata": {},
   "source": [
    "### XGB调参"
   ]
  },
  {
   "cell_type": "code",
   "execution_count": 40,
   "metadata": {},
   "outputs": [
    {
     "name": "stdout",
     "output_type": "stream",
     "text": [
      "[00:56:08] WARNING: C:\\Users\\Administrator\\workspace\\xgboost-win64_release_1.0.0\\src\\learner.cc:328: \n",
      "Parameters: { silent } might not be used.\n",
      "\n",
      "  This may not be accurate due to some parameters are only used in language bindings but\n",
      "  passed down to XGBoost core.  Or some parameters are not used but slip through this\n",
      "  verification. Please open an issue if you find above cases.\n",
      "\n",
      "\n",
      "[0]\ttrain-auc:0.82886\tval-auc:0.82435\n",
      "[1]\ttrain-auc:0.84578\tval-auc:0.82520\n",
      "[2]\ttrain-auc:0.85068\tval-auc:0.83647\n",
      "[3]\ttrain-auc:0.85451\tval-auc:0.84051\n",
      "[4]\ttrain-auc:0.85488\tval-auc:0.84116\n",
      "[5]\ttrain-auc:0.85553\tval-auc:0.84087\n",
      "[6]\ttrain-auc:0.85717\tval-auc:0.84317\n",
      "[7]\ttrain-auc:0.85804\tval-auc:0.84300\n",
      "[8]\ttrain-auc:0.85879\tval-auc:0.84300\n",
      "[9]\ttrain-auc:0.85952\tval-auc:0.84270\n",
      "[10]\ttrain-auc:0.86007\tval-auc:0.84264\n",
      "[11]\ttrain-auc:0.86114\tval-auc:0.84135\n",
      "[12]\ttrain-auc:0.86166\tval-auc:0.84261\n",
      "[13]\ttrain-auc:0.86311\tval-auc:0.84262\n",
      "[14]\ttrain-auc:0.86439\tval-auc:0.84241\n",
      "[15]\ttrain-auc:0.86826\tval-auc:0.84355\n",
      "[16]\ttrain-auc:0.86811\tval-auc:0.84259\n",
      "[17]\ttrain-auc:0.87013\tval-auc:0.84428\n",
      "[18]\ttrain-auc:0.87000\tval-auc:0.84344\n",
      "[19]\ttrain-auc:0.87028\tval-auc:0.84316\n",
      "[20]\ttrain-auc:0.87188\tval-auc:0.84319\n",
      "[21]\ttrain-auc:0.87166\tval-auc:0.84216\n",
      "[22]\ttrain-auc:0.87221\tval-auc:0.84229\n",
      "[23]\ttrain-auc:0.87234\tval-auc:0.84293\n",
      "[24]\ttrain-auc:0.87251\tval-auc:0.84327\n",
      "[25]\ttrain-auc:0.87246\tval-auc:0.84298\n",
      "[26]\ttrain-auc:0.87336\tval-auc:0.84202\n",
      "[27]\ttrain-auc:0.87533\tval-auc:0.84142\n",
      "[28]\ttrain-auc:0.87621\tval-auc:0.84266\n",
      "[29]\ttrain-auc:0.87642\tval-auc:0.84262\n",
      "[30]\ttrain-auc:0.87876\tval-auc:0.84297\n",
      "[31]\ttrain-auc:0.88006\tval-auc:0.84266\n",
      "[32]\ttrain-auc:0.88097\tval-auc:0.84256\n",
      "[33]\ttrain-auc:0.88155\tval-auc:0.84272\n",
      "[34]\ttrain-auc:0.88236\tval-auc:0.84266\n",
      "[35]\ttrain-auc:0.88298\tval-auc:0.84310\n",
      "[36]\ttrain-auc:0.88355\tval-auc:0.84332\n",
      "[37]\ttrain-auc:0.88474\tval-auc:0.84476\n",
      "[38]\ttrain-auc:0.88494\tval-auc:0.84444\n",
      "[39]\ttrain-auc:0.88540\tval-auc:0.84549\n",
      "[40]\ttrain-auc:0.88630\tval-auc:0.84461\n",
      "[41]\ttrain-auc:0.88657\tval-auc:0.84461\n",
      "[42]\ttrain-auc:0.88712\tval-auc:0.84470\n",
      "[43]\ttrain-auc:0.88706\tval-auc:0.84412\n",
      "[44]\ttrain-auc:0.88744\tval-auc:0.84415\n",
      "[45]\ttrain-auc:0.88785\tval-auc:0.84386\n",
      "[46]\ttrain-auc:0.88857\tval-auc:0.84376\n",
      "[47]\ttrain-auc:0.88914\tval-auc:0.84333\n",
      "[48]\ttrain-auc:0.89046\tval-auc:0.84330\n",
      "[49]\ttrain-auc:0.89070\tval-auc:0.84303\n",
      "[50]\ttrain-auc:0.89062\tval-auc:0.84279\n",
      "[51]\ttrain-auc:0.89146\tval-auc:0.84324\n",
      "[52]\ttrain-auc:0.89177\tval-auc:0.84312\n",
      "[53]\ttrain-auc:0.89254\tval-auc:0.84376\n",
      "[54]\ttrain-auc:0.89338\tval-auc:0.84418\n",
      "[55]\ttrain-auc:0.89417\tval-auc:0.84441\n",
      "[56]\ttrain-auc:0.89463\tval-auc:0.84456\n",
      "[57]\ttrain-auc:0.89507\tval-auc:0.84603\n",
      "[58]\ttrain-auc:0.89506\tval-auc:0.84604\n",
      "[59]\ttrain-auc:0.89537\tval-auc:0.84616\n",
      "[60]\ttrain-auc:0.89567\tval-auc:0.84593\n",
      "[61]\ttrain-auc:0.89595\tval-auc:0.84517\n",
      "[62]\ttrain-auc:0.89659\tval-auc:0.84615\n",
      "[63]\ttrain-auc:0.89673\tval-auc:0.84596\n",
      "[64]\ttrain-auc:0.89767\tval-auc:0.84601\n",
      "[65]\ttrain-auc:0.89798\tval-auc:0.84625\n",
      "[66]\ttrain-auc:0.89863\tval-auc:0.84603\n",
      "[67]\ttrain-auc:0.89900\tval-auc:0.84608\n",
      "[68]\ttrain-auc:0.89970\tval-auc:0.84615\n",
      "[69]\ttrain-auc:0.89953\tval-auc:0.84602\n",
      "[70]\ttrain-auc:0.89963\tval-auc:0.84585\n",
      "[71]\ttrain-auc:0.90003\tval-auc:0.84589\n",
      "[72]\ttrain-auc:0.90034\tval-auc:0.84590\n",
      "[73]\ttrain-auc:0.90126\tval-auc:0.84562\n",
      "[74]\ttrain-auc:0.90131\tval-auc:0.84582\n",
      "[75]\ttrain-auc:0.90209\tval-auc:0.84494\n",
      "[76]\ttrain-auc:0.90269\tval-auc:0.84479\n",
      "[77]\ttrain-auc:0.90304\tval-auc:0.84535\n",
      "[78]\ttrain-auc:0.90332\tval-auc:0.84509\n",
      "[79]\ttrain-auc:0.90364\tval-auc:0.84473\n",
      "[80]\ttrain-auc:0.90494\tval-auc:0.84335\n",
      "[81]\ttrain-auc:0.90529\tval-auc:0.84314\n",
      "[82]\ttrain-auc:0.90614\tval-auc:0.84200\n",
      "[83]\ttrain-auc:0.90637\tval-auc:0.84195\n",
      "[84]\ttrain-auc:0.90649\tval-auc:0.84205\n",
      "[85]\ttrain-auc:0.90670\tval-auc:0.84202\n",
      "[86]\ttrain-auc:0.90694\tval-auc:0.84250\n",
      "[87]\ttrain-auc:0.90767\tval-auc:0.84258\n",
      "[88]\ttrain-auc:0.90875\tval-auc:0.84255\n",
      "[89]\ttrain-auc:0.90954\tval-auc:0.84228\n",
      "[90]\ttrain-auc:0.91021\tval-auc:0.84275\n",
      "[91]\ttrain-auc:0.91047\tval-auc:0.84227\n",
      "[92]\ttrain-auc:0.91090\tval-auc:0.84236\n",
      "[93]\ttrain-auc:0.91124\tval-auc:0.84213\n",
      "[94]\ttrain-auc:0.91161\tval-auc:0.84221\n",
      "[95]\ttrain-auc:0.91198\tval-auc:0.84215\n",
      "[96]\ttrain-auc:0.91235\tval-auc:0.84200\n",
      "[97]\ttrain-auc:0.91262\tval-auc:0.84184\n",
      "[98]\ttrain-auc:0.91315\tval-auc:0.84288\n",
      "[99]\ttrain-auc:0.91355\tval-auc:0.84284\n",
      "[100]\ttrain-auc:0.91382\tval-auc:0.84266\n",
      "[101]\ttrain-auc:0.91419\tval-auc:0.84267\n",
      "[102]\ttrain-auc:0.91491\tval-auc:0.84176\n",
      "[103]\ttrain-auc:0.91516\tval-auc:0.84144\n",
      "[104]\ttrain-auc:0.91571\tval-auc:0.84144\n",
      "[105]\ttrain-auc:0.91607\tval-auc:0.84119\n",
      "[106]\ttrain-auc:0.91679\tval-auc:0.84094\n",
      "[107]\ttrain-auc:0.91731\tval-auc:0.84085\n",
      "[108]\ttrain-auc:0.91759\tval-auc:0.84081\n",
      "[109]\ttrain-auc:0.91844\tval-auc:0.84031\n",
      "[110]\ttrain-auc:0.91948\tval-auc:0.84031\n",
      "[111]\ttrain-auc:0.91979\tval-auc:0.84031\n",
      "[112]\ttrain-auc:0.92021\tval-auc:0.83994\n",
      "[113]\ttrain-auc:0.92075\tval-auc:0.84005\n",
      "[114]\ttrain-auc:0.92144\tval-auc:0.83965\n",
      "[115]\ttrain-auc:0.92179\tval-auc:0.83925\n",
      "[116]\ttrain-auc:0.92230\tval-auc:0.83798\n",
      "[117]\ttrain-auc:0.92235\tval-auc:0.83793\n",
      "[118]\ttrain-auc:0.92276\tval-auc:0.83784\n",
      "[119]\ttrain-auc:0.92293\tval-auc:0.83783\n",
      "[120]\ttrain-auc:0.92305\tval-auc:0.83800\n",
      "[121]\ttrain-auc:0.92332\tval-auc:0.83789\n",
      "[122]\ttrain-auc:0.92379\tval-auc:0.83750\n",
      "[123]\ttrain-auc:0.92424\tval-auc:0.83755\n",
      "[124]\ttrain-auc:0.92450\tval-auc:0.83733\n",
      "[125]\ttrain-auc:0.92507\tval-auc:0.83747\n",
      "[126]\ttrain-auc:0.92543\tval-auc:0.83781\n",
      "[127]\ttrain-auc:0.92563\tval-auc:0.83776\n",
      "[128]\ttrain-auc:0.92626\tval-auc:0.83769\n",
      "[129]\ttrain-auc:0.92640\tval-auc:0.83746\n",
      "[130]\ttrain-auc:0.92666\tval-auc:0.83745\n",
      "[131]\ttrain-auc:0.92730\tval-auc:0.83723\n",
      "[132]\ttrain-auc:0.92788\tval-auc:0.83728\n",
      "[133]\ttrain-auc:0.92796\tval-auc:0.83727\n",
      "[134]\ttrain-auc:0.92804\tval-auc:0.83742\n",
      "[135]\ttrain-auc:0.92827\tval-auc:0.83728\n",
      "[136]\ttrain-auc:0.92852\tval-auc:0.83695\n",
      "[137]\ttrain-auc:0.92906\tval-auc:0.83731\n",
      "[138]\ttrain-auc:0.92950\tval-auc:0.83742\n",
      "[139]\ttrain-auc:0.92981\tval-auc:0.83654\n",
      "[140]\ttrain-auc:0.93009\tval-auc:0.83668\n",
      "[141]\ttrain-auc:0.93032\tval-auc:0.83679\n",
      "[142]\ttrain-auc:0.93052\tval-auc:0.83651\n",
      "[143]\ttrain-auc:0.93109\tval-auc:0.83637\n",
      "[144]\ttrain-auc:0.93135\tval-auc:0.83511\n",
      "[145]\ttrain-auc:0.93188\tval-auc:0.83486\n",
      "[146]\ttrain-auc:0.93205\tval-auc:0.83466\n",
      "[147]\ttrain-auc:0.93234\tval-auc:0.83397\n",
      "[148]\ttrain-auc:0.93241\tval-auc:0.83410\n",
      "[149]\ttrain-auc:0.93274\tval-auc:0.83376\n",
      "[150]\ttrain-auc:0.93334\tval-auc:0.83384\n",
      "[151]\ttrain-auc:0.93343\tval-auc:0.83314\n",
      "[152]\ttrain-auc:0.93363\tval-auc:0.83328\n",
      "[153]\ttrain-auc:0.93391\tval-auc:0.83273\n",
      "[154]\ttrain-auc:0.93417\tval-auc:0.83274\n",
      "[155]\ttrain-auc:0.93455\tval-auc:0.83218\n",
      "[156]\ttrain-auc:0.93500\tval-auc:0.83165\n",
      "[157]\ttrain-auc:0.93531\tval-auc:0.83122\n",
      "[158]\ttrain-auc:0.93592\tval-auc:0.83128\n",
      "[159]\ttrain-auc:0.93618\tval-auc:0.83122\n",
      "[160]\ttrain-auc:0.93685\tval-auc:0.83092\n",
      "[161]\ttrain-auc:0.93712\tval-auc:0.83133\n",
      "[162]\ttrain-auc:0.93744\tval-auc:0.83119\n",
      "[163]\ttrain-auc:0.93810\tval-auc:0.83126\n",
      "[164]\ttrain-auc:0.93856\tval-auc:0.83145\n",
      "[165]\ttrain-auc:0.93893\tval-auc:0.83134\n",
      "[166]\ttrain-auc:0.93908\tval-auc:0.83145\n",
      "[167]\ttrain-auc:0.93965\tval-auc:0.83133\n",
      "[168]\ttrain-auc:0.93975\tval-auc:0.83135\n",
      "[169]\ttrain-auc:0.93993\tval-auc:0.83139\n",
      "[170]\ttrain-auc:0.94009\tval-auc:0.83091\n",
      "[171]\ttrain-auc:0.94030\tval-auc:0.83105\n",
      "[172]\ttrain-auc:0.94069\tval-auc:0.83096\n",
      "[173]\ttrain-auc:0.94093\tval-auc:0.83099\n",
      "[174]\ttrain-auc:0.94124\tval-auc:0.83096\n",
      "[175]\ttrain-auc:0.94153\tval-auc:0.83106\n",
      "[176]\ttrain-auc:0.94205\tval-auc:0.83115\n",
      "[177]\ttrain-auc:0.94247\tval-auc:0.83100\n",
      "[178]\ttrain-auc:0.94273\tval-auc:0.83050\n",
      "[179]\ttrain-auc:0.94316\tval-auc:0.83029\n",
      "[180]\ttrain-auc:0.94355\tval-auc:0.83028\n",
      "[181]\ttrain-auc:0.94392\tval-auc:0.83038\n",
      "[182]\ttrain-auc:0.94416\tval-auc:0.83000\n",
      "[183]\ttrain-auc:0.94423\tval-auc:0.82995\n",
      "[184]\ttrain-auc:0.94483\tval-auc:0.82935\n",
      "[185]\ttrain-auc:0.94517\tval-auc:0.82890\n",
      "[186]\ttrain-auc:0.94557\tval-auc:0.82846\n",
      "[187]\ttrain-auc:0.94573\tval-auc:0.82872\n",
      "[188]\ttrain-auc:0.94586\tval-auc:0.82888\n",
      "[189]\ttrain-auc:0.94626\tval-auc:0.82859\n",
      "[190]\ttrain-auc:0.94678\tval-auc:0.82842\n",
      "[191]\ttrain-auc:0.94679\tval-auc:0.82845\n",
      "[192]\ttrain-auc:0.94730\tval-auc:0.82841\n",
      "[193]\ttrain-auc:0.94758\tval-auc:0.82881\n",
      "[194]\ttrain-auc:0.94762\tval-auc:0.82866\n",
      "[195]\ttrain-auc:0.94787\tval-auc:0.82854\n",
      "[196]\ttrain-auc:0.94796\tval-auc:0.82891\n",
      "[197]\ttrain-auc:0.94824\tval-auc:0.82898\n"
     ]
    },
    {
     "name": "stdout",
     "output_type": "stream",
     "text": [
      "[198]\ttrain-auc:0.94868\tval-auc:0.82749\n",
      "[199]\ttrain-auc:0.94892\tval-auc:0.82715\n",
      "['CCI', 'KDJ_J', 'SI', 'slowKD.1', 'vwap', 'tech_limitupnum', 'WVAD', 'up_days', 'stage_low', 'tech_upnum', 'tech_limitdownnum', 'MTM', 'VOSC', 'bull_bear_ma.1', 'VSTD', 'volume', 'DMI.2', 'down_days', 'DMI_2.3', 'stage_high', 'val_pe_avg', 'WVAD.1', 'tech_downnum', 'STD', 'ATR', 'MTM.1', 'VMACD.1', 'PVT', 'KDJ_D', 'ROC', 'TAPI.1', 'VHF', 'turn', 'VMA', 'SRMI', 'vol_ratio', 'ROC.1', 'chg', 'MACD_MACD', 'VMACD.2', 'PRICEOSC', 'WR', 'ADTM.1', 'MACD_DIFF', 'TRIX', 'TRIX.1', 'RC', 'DMI', 'RSI', 'DPO.1', 'KDJ_K', 'tech_limituppct', 'VMACD', 'DMI.3', 'TAPI', 'tech_limitdownpct', 'DMI_2.2', 'swing', 'DMI_2', 'DMA.1', 'DMI.1', 'MACD_DEA', 'DMA', 'BOLL.2', 'ADTM', 'DPO', 'SOBV', 'tech_uppct', 'val_pb_wgt', 'DMI_2.1', 'SAR', 'BBIBOLL.2', 'BBIBOLL.1', 'BOLL.1', 'BBI', 'tech_downpct', 'pct_chg', 'MIKE', 'breakdown_ma', 'low', 'ENV', 'CDP.1', 'MIKE.1', 'BIAS', 'amt', 'CDP.4', 'CDP.3', 'CDP.2']\n"
     ]
    },
    {
     "data": {
      "image/png": "[encoded data removed]",
      "text/plain": [
       "<Figure size 432x288 with 1 Axes>"
      ]
     },
     "metadata": {
      "needs_background": "light"
     },
     "output_type": "display_data"
    },
    {
     "name": "stdout",
     "output_type": "stream",
     "text": [
      "auc:82.71% \n"
     ]
    }
   ],
   "source": [
    "XGB_test_prob1,XGB_imp_f1 = XGB_train_func(params1,smote_train_x_out,smote_train_y_out,validation_test_f,validation_test_l)"
   ]
  },
  {
   "cell_type": "code",
   "execution_count": 41,
   "metadata": {},
   "outputs": [
    {
     "name": "stdout",
     "output_type": "stream",
     "text": [
      "TN|FP\n",
      "FN|TP\n",
      "[[903 189]\n",
      " [ 60  90]]\n",
      "precision:32.26%, recall:60.00%, accuracy:79.95%\n"
     ]
    }
   ],
   "source": [
    "judge(validation_test_l,np.where(XGB_test_prob1 >= 0.5,1,0))"
   ]
  },
  {
   "cell_type": "markdown",
   "metadata": {},
   "source": [
    "### LR"
   ]
  },
  {
   "cell_type": "code",
   "execution_count": 42,
   "metadata": {},
   "outputs": [],
   "source": [
    "from sklearn.linear_model import LogisticRegression"
   ]
  },
  {
   "cell_type": "code",
   "execution_count": 43,
   "metadata": {},
   "outputs": [],
   "source": [
    "def LR_train_func(train_feature,train_label,test_feature ,test_label ):\n",
    "    print('开始训练logisticRegression模型:')\n",
    "    LR_module = LogisticRegression(penalty='l2', solver='sag', max_iter=500, \\\n",
    "                                   random_state=42, n_jobs=4)  # class_weight={0:0.924,1:0.076}\n",
    "    # module = lgb.LGBMClassifier(\n",
    "    #     num_leaves=64,  # num_leaves = 2^max_depth * 0.6 #\n",
    "    #     max_depth=6,\n",
    "    #     n_estimators=80,\n",
    "    #     learning_rate=0.1\n",
    "    # )\n",
    "    '''训练集'''\n",
    "    LR_module.fit(train_feature, train_label)\n",
    "    train_accurcy = LR_module.score(train_feature, train_label) * 100\n",
    "    test_accurcy = LR_module.score(test_feature, test_label) * 100\n",
    "    test_predict = LR_module.predict_proba(test_feature)\n",
    "    print(\"训练集正确率为%.2s%%\" % train_accurcy)\n",
    "    print(\"测试集正确率为%.2s%%\" % test_accurcy)\n",
    "    return test_predict[:, 1]"
   ]
  },
  {
   "cell_type": "code",
   "execution_count": 44,
   "metadata": {
    "scrolled": true
   },
   "outputs": [
    {
     "name": "stdout",
     "output_type": "stream",
     "text": [
      "开始训练logisticRegression模型:\n"
     ]
    },
    {
     "name": "stderr",
     "output_type": "stream",
     "text": [
      "D:\\set_up\\anaconda\\lib\\site-packages\\sklearn\\utils\\validation.py:993: DataConversionWarning: A column-vector y was passed when a 1d array was expected. Please change the shape of y to (n_samples, ), for example using ravel().\n",
      "  y = column_or_1d(y, warn=True)\n"
     ]
    },
    {
     "name": "stdout",
     "output_type": "stream",
     "text": [
      "训练集正确率为83%\n",
      "测试集正确率为81%\n",
      "TN|FP\n",
      "FN|TP\n",
      "[[966 126]\n",
      " [105  45]]\n",
      "precision:26.32%, recall:30.00%, accuracy:81.40%\n"
     ]
    },
    {
     "name": "stderr",
     "output_type": "stream",
     "text": [
      "D:\\set_up\\anaconda\\lib\\site-packages\\sklearn\\linear_model\\_sag.py:354: ConvergenceWarning: The max_iter was reached which means the coef_ did not converge\n",
      "  ConvergenceWarning,\n"
     ]
    }
   ],
   "source": [
    "LR_test_prob = LR_train_func(smote_train_x_out,smote_train_y_out,validation_test_f,validation_test_l)\n",
    "judge(validation_test_l,np.where(LR_test_prob >= 0.5,1,0))"
   ]
  },
  {
   "cell_type": "markdown",
   "metadata": {},
   "source": [
    "### LR调参"
   ]
  },
  {
   "cell_type": "code",
   "execution_count": 45,
   "metadata": {},
   "outputs": [],
   "source": [
    "selected_col = selected_std_col.copy() #XGB_imp_f[:20]"
   ]
  },
  {
   "cell_type": "code",
   "execution_count": 46,
   "metadata": {
    "scrolled": false
   },
   "outputs": [
    {
     "name": "stdout",
     "output_type": "stream",
     "text": [
      "开始训练logisticRegression模型:\n"
     ]
    },
    {
     "name": "stderr",
     "output_type": "stream",
     "text": [
      "D:\\set_up\\anaconda\\lib\\site-packages\\sklearn\\utils\\validation.py:993: DataConversionWarning: A column-vector y was passed when a 1d array was expected. Please change the shape of y to (n_samples, ), for example using ravel().\n",
      "  y = column_or_1d(y, warn=True)\n"
     ]
    },
    {
     "name": "stdout",
     "output_type": "stream",
     "text": [
      "训练集正确率为83%\n",
      "测试集正确率为81%\n",
      "TN|FP\n",
      "FN|TP\n",
      "[[966 126]\n",
      " [105  45]]\n",
      "precision:26.32%, recall:30.00%, accuracy:81.40%\n"
     ]
    },
    {
     "name": "stderr",
     "output_type": "stream",
     "text": [
      "D:\\set_up\\anaconda\\lib\\site-packages\\sklearn\\linear_model\\_sag.py:354: ConvergenceWarning: The max_iter was reached which means the coef_ did not converge\n",
      "  ConvergenceWarning,\n"
     ]
    }
   ],
   "source": [
    "LR_test_prob = LR_train_func(smote_train_x_out,smote_train_y_out,validation_test_f,validation_test_l)\n",
    "judge(validation_test_l,np.where(LR_test_prob >= 0.5,1,0))"
   ]
  },
  {
   "cell_type": "markdown",
   "metadata": {},
   "source": [
    "## RF"
   ]
  },
  {
   "cell_type": "code",
   "execution_count": 47,
   "metadata": {},
   "outputs": [],
   "source": [
    "from sklearn.ensemble import RandomForestClassifier\n",
    "from sklearn.model_selection import GridSearchCV\n",
    "\n",
    "\n",
    "RF_train_x,RF_train_y = smote_train_x_out.copy(),smote_train_y_out.copy()"
   ]
  },
  {
   "cell_type": "code",
   "execution_count": 48,
   "metadata": {},
   "outputs": [
    {
     "data": {
      "text/plain": [
       "RandomForestClassifier(oob_score=True, random_state=10)"
      ]
     },
     "execution_count": 48,
     "metadata": {},
     "output_type": "execute_result"
    },
    {
     "data": {
      "text/plain": [
       "0.9611197511664075"
      ]
     },
     "execution_count": 48,
     "metadata": {},
     "output_type": "execute_result"
    },
    {
     "name": "stdout",
     "output_type": "stream",
     "text": [
      "TN|FP\n",
      "FN|TP\n",
      "[[1086    6]\n",
      " [ 141    9]]\n",
      "precision:60.00%, recall:6.00%, accuracy:88.16%\n"
     ]
    }
   ],
   "source": [
    "RF_module = RandomForestClassifier(oob_score=True, random_state=10)\n",
    "RF_module.fit(RF_train_x,RF_train_y.values.ravel())\n",
    "RF_module.oob_score_\n",
    "RF_test_prob = RF_module.predict_proba(validation_test_f)[:,1]\n",
    "judge(validation_test_l,np.where(RF_test_prob >= 0.5,1,0))"
   ]
  },
  {
   "cell_type": "markdown",
   "metadata": {},
   "source": [
    "### RF调参"
   ]
  },
  {
   "cell_type": "code",
   "execution_count": 49,
   "metadata": {},
   "outputs": [
    {
     "data": {
      "text/plain": [
       "GridSearchCV(cv=5,\n",
       "             estimator=RandomForestClassifier(max_depth=8, max_features='sqrt',\n",
       "                                              min_samples_leaf=20,\n",
       "                                              min_samples_split=100,\n",
       "                                              random_state=10),\n",
       "             param_grid={'n_estimators': range(10, 71, 10)}, scoring='roc_auc')"
      ]
     },
     "execution_count": 49,
     "metadata": {},
     "output_type": "execute_result"
    },
    {
     "data": {
      "text/plain": [
       "([{'n_estimators': 10},\n",
       "  {'n_estimators': 20},\n",
       "  {'n_estimators': 30},\n",
       "  {'n_estimators': 40},\n",
       "  {'n_estimators': 50},\n",
       "  {'n_estimators': 60},\n",
       "  {'n_estimators': 70}],\n",
       " array([0.64210173, 0.66871412, 0.67892317, 0.66732408, 0.6798599 ,\n",
       "        0.68356498, 0.68146845]),\n",
       " {'n_estimators': 60},\n",
       " 0.6835649805153485)"
      ]
     },
     "execution_count": 49,
     "metadata": {},
     "output_type": "execute_result"
    }
   ],
   "source": [
    "#首先对n_estimators进行网格搜索\n",
    "param_test1= {'n_estimators':range(10,71,10)}\n",
    "gsearch1= GridSearchCV(estimator = RandomForestClassifier(min_samples_split=100,\n",
    "                                 min_samples_leaf=20,max_depth=8,max_features='sqrt' ,random_state=10),\n",
    "                       param_grid =param_test1, scoring='roc_auc',cv=5)\n",
    "gsearch1.fit(RF_train_x,RF_train_y.values.ravel() )\n",
    "gsearch1.cv_results_['params'],gsearch1.cv_results_['mean_test_score'],gsearch1.best_params_, gsearch1.best_score_"
   ]
  },
  {
   "cell_type": "code",
   "execution_count": null,
   "metadata": {
    "scrolled": true
   },
   "outputs": [],
   "source": [
    "#这样我们得到了最佳的弱学习器迭代次数，接着我们对决策树最大深度max_depth和内部节点再划分所需最小样本数min_samples_split进行网格搜索。\n",
    "param_test2= {'max_depth':range(3,14,2), 'min_samples_split':range(50,201,20)}\n",
    "gsearch2= GridSearchCV(estimator = RandomForestClassifier(n_estimators= 20,min_samples_leaf=20,max_features='sqrt' ,\\\n",
    "                                                          oob_score=True,random_state=10),\n",
    "                           param_grid = param_test2,scoring='roc_auc', cv=5)\n",
    "gsearch2.fit(RF_train_x,RF_train_y.values.ravel())\n",
    "gsearch2.cv_results_['params'],gsearch2.cv_results_['mean_test_score'],gsearch2.best_params_, gsearch2.best_score_\n"
   ]
  },
  {
   "cell_type": "code",
   "execution_count": null,
   "metadata": {
    "scrolled": true
   },
   "outputs": [],
   "source": [
    "gsearch2.best_params_, gsearch2.best_score_"
   ]
  },
  {
   "cell_type": "code",
   "execution_count": 393,
   "metadata": {},
   "outputs": [
    {
     "name": "stderr",
     "output_type": "stream",
     "text": [
      "D:\\set_up\\anaconda\\lib\\site-packages\\sklearn\\ensemble\\_forest.py:564: UserWarning: Some inputs do not have OOB scores. This probably means too few trees were used to compute any reliable OOB estimates.\n",
      "  UserWarning,\n"
     ]
    },
    {
     "data": {
      "text/plain": [
       "RandomForestClassifier(max_depth=13, max_features='sqrt', min_samples_leaf=20,\n",
       "                       min_samples_split=50, n_estimators=20, oob_score=True,\n",
       "                       random_state=10)"
      ]
     },
     "execution_count": 393,
     "metadata": {},
     "output_type": "execute_result"
    },
    {
     "data": {
      "text/plain": [
       "0.8919372900335947"
      ]
     },
     "execution_count": 393,
     "metadata": {},
     "output_type": "execute_result"
    }
   ],
   "source": [
    "#已经取了三个最优参数，看看现在模型的袋外分数：\n",
    "rf1= RandomForestClassifier(n_estimators= 20, max_depth=13, min_samples_split=50,\n",
    "                                 min_samples_leaf=20,max_features='sqrt' ,oob_score=True,random_state=10)\n",
    "rf1.fit(RF_train_x,RF_train_y.values.ravel())\n",
    "rf1.oob_score_ #袋外分数越高，模型的泛化能力越强。"
   ]
  },
  {
   "cell_type": "code",
   "execution_count": 395,
   "metadata": {
    "scrolled": true
   },
   "outputs": [
    {
     "name": "stderr",
     "output_type": "stream",
     "text": [
      "D:\\set_up\\anaconda\\lib\\site-packages\\sklearn\\ensemble\\_forest.py:564: UserWarning: Some inputs do not have OOB scores. This probably means too few trees were used to compute any reliable OOB estimates.\n",
      "  UserWarning,\n",
      "D:\\set_up\\anaconda\\lib\\site-packages\\sklearn\\ensemble\\_forest.py:564: UserWarning: Some inputs do not have OOB scores. This probably means too few trees were used to compute any reliable OOB estimates.\n",
      "  UserWarning,\n",
      "D:\\set_up\\anaconda\\lib\\site-packages\\sklearn\\ensemble\\_forest.py:564: UserWarning: Some inputs do not have OOB scores. This probably means too few trees were used to compute any reliable OOB estimates.\n",
      "  UserWarning,\n",
      "D:\\set_up\\anaconda\\lib\\site-packages\\sklearn\\ensemble\\_forest.py:564: UserWarning: Some inputs do not have OOB scores. This probably means too few trees were used to compute any reliable OOB estimates.\n",
      "  UserWarning,\n",
      "D:\\set_up\\anaconda\\lib\\site-packages\\sklearn\\ensemble\\_forest.py:564: UserWarning: Some inputs do not have OOB scores. This probably means too few trees were used to compute any reliable OOB estimates.\n",
      "  UserWarning,\n",
      "D:\\set_up\\anaconda\\lib\\site-packages\\sklearn\\ensemble\\_forest.py:564: UserWarning: Some inputs do not have OOB scores. This probably means too few trees were used to compute any reliable OOB estimates.\n",
      "  UserWarning,\n",
      "D:\\set_up\\anaconda\\lib\\site-packages\\sklearn\\ensemble\\_forest.py:564: UserWarning: Some inputs do not have OOB scores. This probably means too few trees were used to compute any reliable OOB estimates.\n",
      "  UserWarning,\n",
      "D:\\set_up\\anaconda\\lib\\site-packages\\sklearn\\ensemble\\_forest.py:564: UserWarning: Some inputs do not have OOB scores. This probably means too few trees were used to compute any reliable OOB estimates.\n",
      "  UserWarning,\n",
      "D:\\set_up\\anaconda\\lib\\site-packages\\sklearn\\ensemble\\_forest.py:564: UserWarning: Some inputs do not have OOB scores. This probably means too few trees were used to compute any reliable OOB estimates.\n",
      "  UserWarning,\n",
      "D:\\set_up\\anaconda\\lib\\site-packages\\sklearn\\ensemble\\_forest.py:564: UserWarning: Some inputs do not have OOB scores. This probably means too few trees were used to compute any reliable OOB estimates.\n",
      "  UserWarning,\n",
      "D:\\set_up\\anaconda\\lib\\site-packages\\sklearn\\ensemble\\_forest.py:564: UserWarning: Some inputs do not have OOB scores. This probably means too few trees were used to compute any reliable OOB estimates.\n",
      "  UserWarning,\n",
      "D:\\set_up\\anaconda\\lib\\site-packages\\sklearn\\ensemble\\_forest.py:564: UserWarning: Some inputs do not have OOB scores. This probably means too few trees were used to compute any reliable OOB estimates.\n",
      "  UserWarning,\n",
      "D:\\set_up\\anaconda\\lib\\site-packages\\sklearn\\ensemble\\_forest.py:564: UserWarning: Some inputs do not have OOB scores. This probably means too few trees were used to compute any reliable OOB estimates.\n",
      "  UserWarning,\n",
      "D:\\set_up\\anaconda\\lib\\site-packages\\sklearn\\ensemble\\_forest.py:564: UserWarning: Some inputs do not have OOB scores. This probably means too few trees were used to compute any reliable OOB estimates.\n",
      "  UserWarning,\n",
      "D:\\set_up\\anaconda\\lib\\site-packages\\sklearn\\ensemble\\_forest.py:564: UserWarning: Some inputs do not have OOB scores. This probably means too few trees were used to compute any reliable OOB estimates.\n",
      "  UserWarning,\n",
      "D:\\set_up\\anaconda\\lib\\site-packages\\sklearn\\ensemble\\_forest.py:564: UserWarning: Some inputs do not have OOB scores. This probably means too few trees were used to compute any reliable OOB estimates.\n",
      "  UserWarning,\n",
      "D:\\set_up\\anaconda\\lib\\site-packages\\sklearn\\ensemble\\_forest.py:564: UserWarning: Some inputs do not have OOB scores. This probably means too few trees were used to compute any reliable OOB estimates.\n",
      "  UserWarning,\n",
      "D:\\set_up\\anaconda\\lib\\site-packages\\sklearn\\ensemble\\_forest.py:564: UserWarning: Some inputs do not have OOB scores. This probably means too few trees were used to compute any reliable OOB estimates.\n",
      "  UserWarning,\n",
      "D:\\set_up\\anaconda\\lib\\site-packages\\sklearn\\ensemble\\_forest.py:564: UserWarning: Some inputs do not have OOB scores. This probably means too few trees were used to compute any reliable OOB estimates.\n",
      "  UserWarning,\n",
      "D:\\set_up\\anaconda\\lib\\site-packages\\sklearn\\ensemble\\_forest.py:564: UserWarning: Some inputs do not have OOB scores. This probably means too few trees were used to compute any reliable OOB estimates.\n",
      "  UserWarning,\n",
      "D:\\set_up\\anaconda\\lib\\site-packages\\sklearn\\ensemble\\_forest.py:564: UserWarning: Some inputs do not have OOB scores. This probably means too few trees were used to compute any reliable OOB estimates.\n",
      "  UserWarning,\n",
      "D:\\set_up\\anaconda\\lib\\site-packages\\sklearn\\ensemble\\_forest.py:564: UserWarning: Some inputs do not have OOB scores. This probably means too few trees were used to compute any reliable OOB estimates.\n",
      "  UserWarning,\n",
      "D:\\set_up\\anaconda\\lib\\site-packages\\sklearn\\ensemble\\_forest.py:564: UserWarning: Some inputs do not have OOB scores. This probably means too few trees were used to compute any reliable OOB estimates.\n",
      "  UserWarning,\n",
      "D:\\set_up\\anaconda\\lib\\site-packages\\sklearn\\ensemble\\_forest.py:564: UserWarning: Some inputs do not have OOB scores. This probably means too few trees were used to compute any reliable OOB estimates.\n",
      "  UserWarning,\n",
      "D:\\set_up\\anaconda\\lib\\site-packages\\sklearn\\ensemble\\_forest.py:564: UserWarning: Some inputs do not have OOB scores. This probably means too few trees were used to compute any reliable OOB estimates.\n",
      "  UserWarning,\n",
      "D:\\set_up\\anaconda\\lib\\site-packages\\sklearn\\ensemble\\_forest.py:564: UserWarning: Some inputs do not have OOB scores. This probably means too few trees were used to compute any reliable OOB estimates.\n",
      "  UserWarning,\n",
      "D:\\set_up\\anaconda\\lib\\site-packages\\sklearn\\ensemble\\_forest.py:564: UserWarning: Some inputs do not have OOB scores. This probably means too few trees were used to compute any reliable OOB estimates.\n",
      "  UserWarning,\n",
      "D:\\set_up\\anaconda\\lib\\site-packages\\sklearn\\ensemble\\_forest.py:564: UserWarning: Some inputs do not have OOB scores. This probably means too few trees were used to compute any reliable OOB estimates.\n",
      "  UserWarning,\n",
      "D:\\set_up\\anaconda\\lib\\site-packages\\sklearn\\ensemble\\_forest.py:564: UserWarning: Some inputs do not have OOB scores. This probably means too few trees were used to compute any reliable OOB estimates.\n",
      "  UserWarning,\n",
      "D:\\set_up\\anaconda\\lib\\site-packages\\sklearn\\ensemble\\_forest.py:564: UserWarning: Some inputs do not have OOB scores. This probably means too few trees were used to compute any reliable OOB estimates.\n",
      "  UserWarning,\n",
      "D:\\set_up\\anaconda\\lib\\site-packages\\sklearn\\ensemble\\_forest.py:564: UserWarning: Some inputs do not have OOB scores. This probably means too few trees were used to compute any reliable OOB estimates.\n",
      "  UserWarning,\n",
      "D:\\set_up\\anaconda\\lib\\site-packages\\sklearn\\ensemble\\_forest.py:564: UserWarning: Some inputs do not have OOB scores. This probably means too few trees were used to compute any reliable OOB estimates.\n",
      "  UserWarning,\n",
      "D:\\set_up\\anaconda\\lib\\site-packages\\sklearn\\ensemble\\_forest.py:564: UserWarning: Some inputs do not have OOB scores. This probably means too few trees were used to compute any reliable OOB estimates.\n",
      "  UserWarning,\n",
      "D:\\set_up\\anaconda\\lib\\site-packages\\sklearn\\ensemble\\_forest.py:564: UserWarning: Some inputs do not have OOB scores. This probably means too few trees were used to compute any reliable OOB estimates.\n",
      "  UserWarning,\n",
      "D:\\set_up\\anaconda\\lib\\site-packages\\sklearn\\ensemble\\_forest.py:564: UserWarning: Some inputs do not have OOB scores. This probably means too few trees were used to compute any reliable OOB estimates.\n",
      "  UserWarning,\n",
      "D:\\set_up\\anaconda\\lib\\site-packages\\sklearn\\ensemble\\_forest.py:564: UserWarning: Some inputs do not have OOB scores. This probably means too few trees were used to compute any reliable OOB estimates.\n",
      "  UserWarning,\n",
      "D:\\set_up\\anaconda\\lib\\site-packages\\sklearn\\ensemble\\_forest.py:564: UserWarning: Some inputs do not have OOB scores. This probably means too few trees were used to compute any reliable OOB estimates.\n",
      "  UserWarning,\n",
      "D:\\set_up\\anaconda\\lib\\site-packages\\sklearn\\ensemble\\_forest.py:564: UserWarning: Some inputs do not have OOB scores. This probably means too few trees were used to compute any reliable OOB estimates.\n",
      "  UserWarning,\n"
     ]
    },
    {
     "name": "stderr",
     "output_type": "stream",
     "text": [
      "D:\\set_up\\anaconda\\lib\\site-packages\\sklearn\\ensemble\\_forest.py:564: UserWarning: Some inputs do not have OOB scores. This probably means too few trees were used to compute any reliable OOB estimates.\n",
      "  UserWarning,\n",
      "D:\\set_up\\anaconda\\lib\\site-packages\\sklearn\\ensemble\\_forest.py:564: UserWarning: Some inputs do not have OOB scores. This probably means too few trees were used to compute any reliable OOB estimates.\n",
      "  UserWarning,\n",
      "D:\\set_up\\anaconda\\lib\\site-packages\\sklearn\\ensemble\\_forest.py:564: UserWarning: Some inputs do not have OOB scores. This probably means too few trees were used to compute any reliable OOB estimates.\n",
      "  UserWarning,\n",
      "D:\\set_up\\anaconda\\lib\\site-packages\\sklearn\\ensemble\\_forest.py:564: UserWarning: Some inputs do not have OOB scores. This probably means too few trees were used to compute any reliable OOB estimates.\n",
      "  UserWarning,\n",
      "D:\\set_up\\anaconda\\lib\\site-packages\\sklearn\\ensemble\\_forest.py:564: UserWarning: Some inputs do not have OOB scores. This probably means too few trees were used to compute any reliable OOB estimates.\n",
      "  UserWarning,\n",
      "D:\\set_up\\anaconda\\lib\\site-packages\\sklearn\\ensemble\\_forest.py:564: UserWarning: Some inputs do not have OOB scores. This probably means too few trees were used to compute any reliable OOB estimates.\n",
      "  UserWarning,\n",
      "D:\\set_up\\anaconda\\lib\\site-packages\\sklearn\\ensemble\\_forest.py:564: UserWarning: Some inputs do not have OOB scores. This probably means too few trees were used to compute any reliable OOB estimates.\n",
      "  UserWarning,\n",
      "D:\\set_up\\anaconda\\lib\\site-packages\\sklearn\\ensemble\\_forest.py:564: UserWarning: Some inputs do not have OOB scores. This probably means too few trees were used to compute any reliable OOB estimates.\n",
      "  UserWarning,\n",
      "D:\\set_up\\anaconda\\lib\\site-packages\\sklearn\\ensemble\\_forest.py:564: UserWarning: Some inputs do not have OOB scores. This probably means too few trees were used to compute any reliable OOB estimates.\n",
      "  UserWarning,\n",
      "D:\\set_up\\anaconda\\lib\\site-packages\\sklearn\\ensemble\\_forest.py:564: UserWarning: Some inputs do not have OOB scores. This probably means too few trees were used to compute any reliable OOB estimates.\n",
      "  UserWarning,\n",
      "D:\\set_up\\anaconda\\lib\\site-packages\\sklearn\\ensemble\\_forest.py:564: UserWarning: Some inputs do not have OOB scores. This probably means too few trees were used to compute any reliable OOB estimates.\n",
      "  UserWarning,\n",
      "D:\\set_up\\anaconda\\lib\\site-packages\\sklearn\\ensemble\\_forest.py:564: UserWarning: Some inputs do not have OOB scores. This probably means too few trees were used to compute any reliable OOB estimates.\n",
      "  UserWarning,\n",
      "D:\\set_up\\anaconda\\lib\\site-packages\\sklearn\\ensemble\\_forest.py:564: UserWarning: Some inputs do not have OOB scores. This probably means too few trees were used to compute any reliable OOB estimates.\n",
      "  UserWarning,\n",
      "D:\\set_up\\anaconda\\lib\\site-packages\\sklearn\\ensemble\\_forest.py:564: UserWarning: Some inputs do not have OOB scores. This probably means too few trees were used to compute any reliable OOB estimates.\n",
      "  UserWarning,\n",
      "D:\\set_up\\anaconda\\lib\\site-packages\\sklearn\\ensemble\\_forest.py:564: UserWarning: Some inputs do not have OOB scores. This probably means too few trees were used to compute any reliable OOB estimates.\n",
      "  UserWarning,\n",
      "D:\\set_up\\anaconda\\lib\\site-packages\\sklearn\\ensemble\\_forest.py:564: UserWarning: Some inputs do not have OOB scores. This probably means too few trees were used to compute any reliable OOB estimates.\n",
      "  UserWarning,\n",
      "D:\\set_up\\anaconda\\lib\\site-packages\\sklearn\\ensemble\\_forest.py:564: UserWarning: Some inputs do not have OOB scores. This probably means too few trees were used to compute any reliable OOB estimates.\n",
      "  UserWarning,\n",
      "D:\\set_up\\anaconda\\lib\\site-packages\\sklearn\\ensemble\\_forest.py:564: UserWarning: Some inputs do not have OOB scores. This probably means too few trees were used to compute any reliable OOB estimates.\n",
      "  UserWarning,\n",
      "D:\\set_up\\anaconda\\lib\\site-packages\\sklearn\\ensemble\\_forest.py:564: UserWarning: Some inputs do not have OOB scores. This probably means too few trees were used to compute any reliable OOB estimates.\n",
      "  UserWarning,\n",
      "D:\\set_up\\anaconda\\lib\\site-packages\\sklearn\\ensemble\\_forest.py:564: UserWarning: Some inputs do not have OOB scores. This probably means too few trees were used to compute any reliable OOB estimates.\n",
      "  UserWarning,\n",
      "D:\\set_up\\anaconda\\lib\\site-packages\\sklearn\\ensemble\\_forest.py:564: UserWarning: Some inputs do not have OOB scores. This probably means too few trees were used to compute any reliable OOB estimates.\n",
      "  UserWarning,\n",
      "D:\\set_up\\anaconda\\lib\\site-packages\\sklearn\\ensemble\\_forest.py:564: UserWarning: Some inputs do not have OOB scores. This probably means too few trees were used to compute any reliable OOB estimates.\n",
      "  UserWarning,\n",
      "D:\\set_up\\anaconda\\lib\\site-packages\\sklearn\\ensemble\\_forest.py:564: UserWarning: Some inputs do not have OOB scores. This probably means too few trees were used to compute any reliable OOB estimates.\n",
      "  UserWarning,\n",
      "D:\\set_up\\anaconda\\lib\\site-packages\\sklearn\\ensemble\\_forest.py:564: UserWarning: Some inputs do not have OOB scores. This probably means too few trees were used to compute any reliable OOB estimates.\n",
      "  UserWarning,\n",
      "D:\\set_up\\anaconda\\lib\\site-packages\\sklearn\\ensemble\\_forest.py:564: UserWarning: Some inputs do not have OOB scores. This probably means too few trees were used to compute any reliable OOB estimates.\n",
      "  UserWarning,\n",
      "D:\\set_up\\anaconda\\lib\\site-packages\\sklearn\\ensemble\\_forest.py:564: UserWarning: Some inputs do not have OOB scores. This probably means too few trees were used to compute any reliable OOB estimates.\n",
      "  UserWarning,\n",
      "D:\\set_up\\anaconda\\lib\\site-packages\\sklearn\\ensemble\\_forest.py:564: UserWarning: Some inputs do not have OOB scores. This probably means too few trees were used to compute any reliable OOB estimates.\n",
      "  UserWarning,\n",
      "D:\\set_up\\anaconda\\lib\\site-packages\\sklearn\\ensemble\\_forest.py:564: UserWarning: Some inputs do not have OOB scores. This probably means too few trees were used to compute any reliable OOB estimates.\n",
      "  UserWarning,\n",
      "D:\\set_up\\anaconda\\lib\\site-packages\\sklearn\\ensemble\\_forest.py:564: UserWarning: Some inputs do not have OOB scores. This probably means too few trees were used to compute any reliable OOB estimates.\n",
      "  UserWarning,\n",
      "D:\\set_up\\anaconda\\lib\\site-packages\\sklearn\\ensemble\\_forest.py:564: UserWarning: Some inputs do not have OOB scores. This probably means too few trees were used to compute any reliable OOB estimates.\n",
      "  UserWarning,\n",
      "D:\\set_up\\anaconda\\lib\\site-packages\\sklearn\\ensemble\\_forest.py:564: UserWarning: Some inputs do not have OOB scores. This probably means too few trees were used to compute any reliable OOB estimates.\n",
      "  UserWarning,\n",
      "D:\\set_up\\anaconda\\lib\\site-packages\\sklearn\\ensemble\\_forest.py:564: UserWarning: Some inputs do not have OOB scores. This probably means too few trees were used to compute any reliable OOB estimates.\n",
      "  UserWarning,\n",
      "D:\\set_up\\anaconda\\lib\\site-packages\\sklearn\\ensemble\\_forest.py:564: UserWarning: Some inputs do not have OOB scores. This probably means too few trees were used to compute any reliable OOB estimates.\n",
      "  UserWarning,\n",
      "D:\\set_up\\anaconda\\lib\\site-packages\\sklearn\\ensemble\\_forest.py:564: UserWarning: Some inputs do not have OOB scores. This probably means too few trees were used to compute any reliable OOB estimates.\n",
      "  UserWarning,\n",
      "D:\\set_up\\anaconda\\lib\\site-packages\\sklearn\\ensemble\\_forest.py:564: UserWarning: Some inputs do not have OOB scores. This probably means too few trees were used to compute any reliable OOB estimates.\n",
      "  UserWarning,\n",
      "D:\\set_up\\anaconda\\lib\\site-packages\\sklearn\\ensemble\\_forest.py:564: UserWarning: Some inputs do not have OOB scores. This probably means too few trees were used to compute any reliable OOB estimates.\n",
      "  UserWarning,\n",
      "D:\\set_up\\anaconda\\lib\\site-packages\\sklearn\\ensemble\\_forest.py:564: UserWarning: Some inputs do not have OOB scores. This probably means too few trees were used to compute any reliable OOB estimates.\n",
      "  UserWarning,\n",
      "D:\\set_up\\anaconda\\lib\\site-packages\\sklearn\\ensemble\\_forest.py:564: UserWarning: Some inputs do not have OOB scores. This probably means too few trees were used to compute any reliable OOB estimates.\n",
      "  UserWarning,\n"
     ]
    },
    {
     "name": "stderr",
     "output_type": "stream",
     "text": [
      "D:\\set_up\\anaconda\\lib\\site-packages\\sklearn\\ensemble\\_forest.py:564: UserWarning: Some inputs do not have OOB scores. This probably means too few trees were used to compute any reliable OOB estimates.\n",
      "  UserWarning,\n",
      "D:\\set_up\\anaconda\\lib\\site-packages\\sklearn\\ensemble\\_forest.py:564: UserWarning: Some inputs do not have OOB scores. This probably means too few trees were used to compute any reliable OOB estimates.\n",
      "  UserWarning,\n",
      "D:\\set_up\\anaconda\\lib\\site-packages\\sklearn\\ensemble\\_forest.py:564: UserWarning: Some inputs do not have OOB scores. This probably means too few trees were used to compute any reliable OOB estimates.\n",
      "  UserWarning,\n",
      "D:\\set_up\\anaconda\\lib\\site-packages\\sklearn\\ensemble\\_forest.py:564: UserWarning: Some inputs do not have OOB scores. This probably means too few trees were used to compute any reliable OOB estimates.\n",
      "  UserWarning,\n",
      "D:\\set_up\\anaconda\\lib\\site-packages\\sklearn\\ensemble\\_forest.py:564: UserWarning: Some inputs do not have OOB scores. This probably means too few trees were used to compute any reliable OOB estimates.\n",
      "  UserWarning,\n",
      "D:\\set_up\\anaconda\\lib\\site-packages\\sklearn\\ensemble\\_forest.py:564: UserWarning: Some inputs do not have OOB scores. This probably means too few trees were used to compute any reliable OOB estimates.\n",
      "  UserWarning,\n",
      "D:\\set_up\\anaconda\\lib\\site-packages\\sklearn\\ensemble\\_forest.py:564: UserWarning: Some inputs do not have OOB scores. This probably means too few trees were used to compute any reliable OOB estimates.\n",
      "  UserWarning,\n",
      "D:\\set_up\\anaconda\\lib\\site-packages\\sklearn\\ensemble\\_forest.py:564: UserWarning: Some inputs do not have OOB scores. This probably means too few trees were used to compute any reliable OOB estimates.\n",
      "  UserWarning,\n",
      "D:\\set_up\\anaconda\\lib\\site-packages\\sklearn\\ensemble\\_forest.py:564: UserWarning: Some inputs do not have OOB scores. This probably means too few trees were used to compute any reliable OOB estimates.\n",
      "  UserWarning,\n",
      "D:\\set_up\\anaconda\\lib\\site-packages\\sklearn\\ensemble\\_forest.py:564: UserWarning: Some inputs do not have OOB scores. This probably means too few trees were used to compute any reliable OOB estimates.\n",
      "  UserWarning,\n",
      "D:\\set_up\\anaconda\\lib\\site-packages\\sklearn\\ensemble\\_forest.py:564: UserWarning: Some inputs do not have OOB scores. This probably means too few trees were used to compute any reliable OOB estimates.\n",
      "  UserWarning,\n",
      "D:\\set_up\\anaconda\\lib\\site-packages\\sklearn\\ensemble\\_forest.py:564: UserWarning: Some inputs do not have OOB scores. This probably means too few trees were used to compute any reliable OOB estimates.\n",
      "  UserWarning,\n",
      "D:\\set_up\\anaconda\\lib\\site-packages\\sklearn\\ensemble\\_forest.py:564: UserWarning: Some inputs do not have OOB scores. This probably means too few trees were used to compute any reliable OOB estimates.\n",
      "  UserWarning,\n",
      "D:\\set_up\\anaconda\\lib\\site-packages\\sklearn\\ensemble\\_forest.py:564: UserWarning: Some inputs do not have OOB scores. This probably means too few trees were used to compute any reliable OOB estimates.\n",
      "  UserWarning,\n",
      "D:\\set_up\\anaconda\\lib\\site-packages\\sklearn\\ensemble\\_forest.py:564: UserWarning: Some inputs do not have OOB scores. This probably means too few trees were used to compute any reliable OOB estimates.\n",
      "  UserWarning,\n",
      "D:\\set_up\\anaconda\\lib\\site-packages\\sklearn\\ensemble\\_forest.py:564: UserWarning: Some inputs do not have OOB scores. This probably means too few trees were used to compute any reliable OOB estimates.\n",
      "  UserWarning,\n",
      "D:\\set_up\\anaconda\\lib\\site-packages\\sklearn\\ensemble\\_forest.py:564: UserWarning: Some inputs do not have OOB scores. This probably means too few trees were used to compute any reliable OOB estimates.\n",
      "  UserWarning,\n",
      "D:\\set_up\\anaconda\\lib\\site-packages\\sklearn\\ensemble\\_forest.py:564: UserWarning: Some inputs do not have OOB scores. This probably means too few trees were used to compute any reliable OOB estimates.\n",
      "  UserWarning,\n",
      "D:\\set_up\\anaconda\\lib\\site-packages\\sklearn\\ensemble\\_forest.py:564: UserWarning: Some inputs do not have OOB scores. This probably means too few trees were used to compute any reliable OOB estimates.\n",
      "  UserWarning,\n",
      "D:\\set_up\\anaconda\\lib\\site-packages\\sklearn\\ensemble\\_forest.py:564: UserWarning: Some inputs do not have OOB scores. This probably means too few trees were used to compute any reliable OOB estimates.\n",
      "  UserWarning,\n",
      "D:\\set_up\\anaconda\\lib\\site-packages\\sklearn\\ensemble\\_forest.py:564: UserWarning: Some inputs do not have OOB scores. This probably means too few trees were used to compute any reliable OOB estimates.\n",
      "  UserWarning,\n",
      "D:\\set_up\\anaconda\\lib\\site-packages\\sklearn\\ensemble\\_forest.py:564: UserWarning: Some inputs do not have OOB scores. This probably means too few trees were used to compute any reliable OOB estimates.\n",
      "  UserWarning,\n",
      "D:\\set_up\\anaconda\\lib\\site-packages\\sklearn\\ensemble\\_forest.py:564: UserWarning: Some inputs do not have OOB scores. This probably means too few trees were used to compute any reliable OOB estimates.\n",
      "  UserWarning,\n",
      "D:\\set_up\\anaconda\\lib\\site-packages\\sklearn\\ensemble\\_forest.py:564: UserWarning: Some inputs do not have OOB scores. This probably means too few trees were used to compute any reliable OOB estimates.\n",
      "  UserWarning,\n",
      "D:\\set_up\\anaconda\\lib\\site-packages\\sklearn\\ensemble\\_forest.py:564: UserWarning: Some inputs do not have OOB scores. This probably means too few trees were used to compute any reliable OOB estimates.\n",
      "  UserWarning,\n"
     ]
    },
    {
     "data": {
      "text/plain": [
       "GridSearchCV(cv=5,\n",
       "             estimator=RandomForestClassifier(max_depth=13, max_features='sqrt',\n",
       "                                              n_estimators=20, oob_score=True,\n",
       "                                              random_state=10),\n",
       "             param_grid={'min_samples_leaf': range(10, 60, 10),\n",
       "                         'min_samples_split': range(80, 150, 20)},\n",
       "             scoring='roc_auc')"
      ]
     },
     "execution_count": 395,
     "metadata": {},
     "output_type": "execute_result"
    },
    {
     "data": {
      "text/plain": [
       "([{'min_samples_leaf': 10, 'min_samples_split': 80},\n",
       "  {'min_samples_leaf': 10, 'min_samples_split': 100},\n",
       "  {'min_samples_leaf': 10, 'min_samples_split': 120},\n",
       "  {'min_samples_leaf': 10, 'min_samples_split': 140},\n",
       "  {'min_samples_leaf': 20, 'min_samples_split': 80},\n",
       "  {'min_samples_leaf': 20, 'min_samples_split': 100},\n",
       "  {'min_samples_leaf': 20, 'min_samples_split': 120},\n",
       "  {'min_samples_leaf': 20, 'min_samples_split': 140},\n",
       "  {'min_samples_leaf': 30, 'min_samples_split': 80},\n",
       "  {'min_samples_leaf': 30, 'min_samples_split': 100},\n",
       "  {'min_samples_leaf': 30, 'min_samples_split': 120},\n",
       "  {'min_samples_leaf': 30, 'min_samples_split': 140},\n",
       "  {'min_samples_leaf': 40, 'min_samples_split': 80},\n",
       "  {'min_samples_leaf': 40, 'min_samples_split': 100},\n",
       "  {'min_samples_leaf': 40, 'min_samples_split': 120},\n",
       "  {'min_samples_leaf': 40, 'min_samples_split': 140},\n",
       "  {'min_samples_leaf': 50, 'min_samples_split': 80},\n",
       "  {'min_samples_leaf': 50, 'min_samples_split': 100},\n",
       "  {'min_samples_leaf': 50, 'min_samples_split': 120},\n",
       "  {'min_samples_leaf': 50, 'min_samples_split': 140}],\n",
       " array([0.84555482, 0.84609387, 0.83589744, 0.8238931 , 0.84613136,\n",
       "        0.84053137, 0.83116665, 0.82860395, 0.82785336, 0.84338468,\n",
       "        0.83284704, 0.82639024, 0.82688273, 0.83189071, 0.82124463,\n",
       "        0.81907435, 0.81940465, 0.81940465, 0.81784401, 0.81427336]),\n",
       " {'max_depth': 13, 'min_samples_split': 50},\n",
       " 0.858134900239006)"
      ]
     },
     "execution_count": 395,
     "metadata": {},
     "output_type": "execute_result"
    }
   ],
   "source": [
    "#再对内部节点再划分所需最小样本数min_samples_split和叶子节点最少样本数min_samples_leaf一起调参\n",
    "param_test3= {'min_samples_split':range(80,150,20), 'min_samples_leaf':range(10,60,10)}\n",
    "gsearch3= GridSearchCV(estimator = RandomForestClassifier(n_estimators= 20,max_depth=13,\n",
    "                                 max_features='sqrt' ,oob_score=True, random_state=10),\n",
    "   param_grid = param_test3,scoring='roc_auc', cv=5)\n",
    "gsearch3.fit(RF_train_x,RF_train_y.values.ravel())\n",
    "gsearch3.cv_results_['params'],gsearch3.cv_results_['mean_test_score'],gsearch3.best_params_, gsearch3.best_score_"
   ]
  },
  {
   "cell_type": "code",
   "execution_count": 397,
   "metadata": {},
   "outputs": [
    {
     "data": {
      "text/plain": [
       "({'min_samples_leaf': 20, 'min_samples_split': 80}, 0.8461313604335)"
      ]
     },
     "execution_count": 397,
     "metadata": {},
     "output_type": "execute_result"
    }
   ],
   "source": [
    "gsearch3.best_params_, gsearch3.best_score_"
   ]
  },
  {
   "cell_type": "code",
   "execution_count": 399,
   "metadata": {
    "scrolled": true
   },
   "outputs": [
    {
     "name": "stderr",
     "output_type": "stream",
     "text": [
      "D:\\set_up\\anaconda\\lib\\site-packages\\sklearn\\ensemble\\_forest.py:564: UserWarning: Some inputs do not have OOB scores. This probably means too few trees were used to compute any reliable OOB estimates.\n",
      "  UserWarning,\n",
      "D:\\set_up\\anaconda\\lib\\site-packages\\sklearn\\ensemble\\_forest.py:564: UserWarning: Some inputs do not have OOB scores. This probably means too few trees were used to compute any reliable OOB estimates.\n",
      "  UserWarning,\n",
      "D:\\set_up\\anaconda\\lib\\site-packages\\sklearn\\ensemble\\_forest.py:564: UserWarning: Some inputs do not have OOB scores. This probably means too few trees were used to compute any reliable OOB estimates.\n",
      "  UserWarning,\n",
      "D:\\set_up\\anaconda\\lib\\site-packages\\sklearn\\ensemble\\_forest.py:564: UserWarning: Some inputs do not have OOB scores. This probably means too few trees were used to compute any reliable OOB estimates.\n",
      "  UserWarning,\n",
      "D:\\set_up\\anaconda\\lib\\site-packages\\sklearn\\ensemble\\_forest.py:564: UserWarning: Some inputs do not have OOB scores. This probably means too few trees were used to compute any reliable OOB estimates.\n",
      "  UserWarning,\n",
      "D:\\set_up\\anaconda\\lib\\site-packages\\sklearn\\ensemble\\_forest.py:564: UserWarning: Some inputs do not have OOB scores. This probably means too few trees were used to compute any reliable OOB estimates.\n",
      "  UserWarning,\n",
      "D:\\set_up\\anaconda\\lib\\site-packages\\sklearn\\ensemble\\_forest.py:564: UserWarning: Some inputs do not have OOB scores. This probably means too few trees were used to compute any reliable OOB estimates.\n",
      "  UserWarning,\n",
      "D:\\set_up\\anaconda\\lib\\site-packages\\sklearn\\ensemble\\_forest.py:564: UserWarning: Some inputs do not have OOB scores. This probably means too few trees were used to compute any reliable OOB estimates.\n",
      "  UserWarning,\n",
      "D:\\set_up\\anaconda\\lib\\site-packages\\sklearn\\ensemble\\_forest.py:564: UserWarning: Some inputs do not have OOB scores. This probably means too few trees were used to compute any reliable OOB estimates.\n",
      "  UserWarning,\n",
      "D:\\set_up\\anaconda\\lib\\site-packages\\sklearn\\ensemble\\_forest.py:564: UserWarning: Some inputs do not have OOB scores. This probably means too few trees were used to compute any reliable OOB estimates.\n",
      "  UserWarning,\n",
      "D:\\set_up\\anaconda\\lib\\site-packages\\sklearn\\ensemble\\_forest.py:564: UserWarning: Some inputs do not have OOB scores. This probably means too few trees were used to compute any reliable OOB estimates.\n",
      "  UserWarning,\n",
      "D:\\set_up\\anaconda\\lib\\site-packages\\sklearn\\ensemble\\_forest.py:564: UserWarning: Some inputs do not have OOB scores. This probably means too few trees were used to compute any reliable OOB estimates.\n",
      "  UserWarning,\n",
      "D:\\set_up\\anaconda\\lib\\site-packages\\sklearn\\ensemble\\_forest.py:564: UserWarning: Some inputs do not have OOB scores. This probably means too few trees were used to compute any reliable OOB estimates.\n",
      "  UserWarning,\n",
      "D:\\set_up\\anaconda\\lib\\site-packages\\sklearn\\ensemble\\_forest.py:564: UserWarning: Some inputs do not have OOB scores. This probably means too few trees were used to compute any reliable OOB estimates.\n",
      "  UserWarning,\n",
      "D:\\set_up\\anaconda\\lib\\site-packages\\sklearn\\ensemble\\_forest.py:564: UserWarning: Some inputs do not have OOB scores. This probably means too few trees were used to compute any reliable OOB estimates.\n",
      "  UserWarning,\n",
      "D:\\set_up\\anaconda\\lib\\site-packages\\sklearn\\ensemble\\_forest.py:564: UserWarning: Some inputs do not have OOB scores. This probably means too few trees were used to compute any reliable OOB estimates.\n",
      "  UserWarning,\n",
      "D:\\set_up\\anaconda\\lib\\site-packages\\sklearn\\ensemble\\_forest.py:564: UserWarning: Some inputs do not have OOB scores. This probably means too few trees were used to compute any reliable OOB estimates.\n",
      "  UserWarning,\n",
      "D:\\set_up\\anaconda\\lib\\site-packages\\sklearn\\ensemble\\_forest.py:564: UserWarning: Some inputs do not have OOB scores. This probably means too few trees were used to compute any reliable OOB estimates.\n",
      "  UserWarning,\n",
      "D:\\set_up\\anaconda\\lib\\site-packages\\sklearn\\ensemble\\_forest.py:564: UserWarning: Some inputs do not have OOB scores. This probably means too few trees were used to compute any reliable OOB estimates.\n",
      "  UserWarning,\n",
      "D:\\set_up\\anaconda\\lib\\site-packages\\sklearn\\ensemble\\_forest.py:564: UserWarning: Some inputs do not have OOB scores. This probably means too few trees were used to compute any reliable OOB estimates.\n",
      "  UserWarning,\n",
      "D:\\set_up\\anaconda\\lib\\site-packages\\sklearn\\ensemble\\_forest.py:564: UserWarning: Some inputs do not have OOB scores. This probably means too few trees were used to compute any reliable OOB estimates.\n",
      "  UserWarning,\n"
     ]
    },
    {
     "data": {
      "text/plain": [
       "GridSearchCV(cv=5,\n",
       "             estimator=RandomForestClassifier(max_depth=13, min_samples_leaf=20,\n",
       "                                              min_samples_split=80,\n",
       "                                              n_estimators=20, oob_score=True,\n",
       "                                              random_state=10),\n",
       "             param_grid={'max_features': range(3, 11, 2)}, scoring='roc_auc')"
      ]
     },
     "execution_count": 399,
     "metadata": {},
     "output_type": "execute_result"
    },
    {
     "data": {
      "text/plain": [
       "([{'max_features': 3},\n",
       "  {'max_features': 5},\n",
       "  {'max_features': 7},\n",
       "  {'max_features': 9}],\n",
       " array([0.80656575, 0.83655574, 0.84115399, 0.84087633]))"
      ]
     },
     "execution_count": 399,
     "metadata": {},
     "output_type": "execute_result"
    }
   ],
   "source": [
    "#最后我们再对最大特征数max_features做调参:\n",
    "param_test4= {'max_features':range(3,11,2)}\n",
    "gsearch4= GridSearchCV(estimator = RandomForestClassifier(n_estimators= 20,max_depth=13, min_samples_split=80,\n",
    "                                 min_samples_leaf=20 ,oob_score=True, random_state=10),\n",
    "   param_grid = param_test4,scoring='roc_auc', cv=5)\n",
    "gsearch4.fit(RF_train_x,RF_train_y.values.ravel())\n",
    "gsearch4.cv_results_['params'],gsearch4.cv_results_['mean_test_score']"
   ]
  },
  {
   "cell_type": "code",
   "execution_count": 400,
   "metadata": {},
   "outputs": [
    {
     "data": {
      "text/plain": [
       "({'max_features': 7}, 0.8411539858334912)"
      ]
     },
     "execution_count": 400,
     "metadata": {},
     "output_type": "execute_result"
    }
   ],
   "source": [
    "gsearch4.best_params_, gsearch4.best_score_"
   ]
  },
  {
   "cell_type": "code",
   "execution_count": 50,
   "metadata": {},
   "outputs": [
    {
     "name": "stderr",
     "output_type": "stream",
     "text": [
      "D:\\set_up\\anaconda\\lib\\site-packages\\sklearn\\ensemble\\_forest.py:564: UserWarning: Some inputs do not have OOB scores. This probably means too few trees were used to compute any reliable OOB estimates.\n",
      "  UserWarning,\n"
     ]
    },
    {
     "data": {
      "text/plain": [
       "RandomForestClassifier(max_depth=13, max_features=7, min_samples_leaf=20,\n",
       "                       min_samples_split=80, n_estimators=20, oob_score=True,\n",
       "                       random_state=10)"
      ]
     },
     "execution_count": 50,
     "metadata": {},
     "output_type": "execute_result"
    },
    {
     "data": {
      "text/plain": [
       "0.8347589424572317"
      ]
     },
     "execution_count": 50,
     "metadata": {},
     "output_type": "execute_result"
    },
    {
     "name": "stdout",
     "output_type": "stream",
     "text": [
      "TN|FP\n",
      "FN|TP\n",
      "[[946 146]\n",
      " [ 65  85]]\n",
      "precision:36.80%, recall:56.67%, accuracy:83.01%\n"
     ]
    }
   ],
   "source": [
    "RF_module1= RandomForestClassifier(n_estimators= 20, max_depth=13, min_samples_split=80,\n",
    "                                 min_samples_leaf=20,max_features=7 ,oob_score=True, random_state=10)\n",
    "RF_module1.fit(RF_train_x,RF_train_y.values.ravel())\n",
    "RF_module1.oob_score_\n",
    "RF_test_prob1 = RF_module1.predict_proba(validation_test_f)[:,1]\n",
    "judge(validation_test_l,np.where(RF_test_prob1 >= 0.5,1,0))"
   ]
  },
  {
   "cell_type": "markdown",
   "metadata": {},
   "source": [
    "## SVM"
   ]
  },
  {
   "cell_type": "code",
   "execution_count": 51,
   "metadata": {},
   "outputs": [],
   "source": [
    "SVM_train_x,SVM_train_y =  smote_train_x_out.copy(),smote_train_y_out.copy()"
   ]
  },
  {
   "cell_type": "code",
   "execution_count": 52,
   "metadata": {},
   "outputs": [
    {
     "name": "stdout",
     "output_type": "stream",
     "text": [
      "#### kernel = rbf ####\n"
     ]
    },
    {
     "data": {
      "text/plain": [
       "SVC(probability=True)"
      ]
     },
     "execution_count": 52,
     "metadata": {},
     "output_type": "execute_result"
    },
    {
     "name": "stdout",
     "output_type": "stream",
     "text": [
      "*** prob ***\n",
      "TN|FP\n",
      "FN|TP\n",
      "[[993  99]\n",
      " [112  38]]\n",
      "precision:27.74%, recall:25.33%, accuracy:83.01%\n",
      "*** pre ***\n",
      "TN|FP\n",
      "FN|TP\n",
      "[[947 145]\n",
      " [ 95  55]]\n",
      "precision:27.50%, recall:36.67%, accuracy:80.68%\n",
      "#### kernel = linear ####\n"
     ]
    },
    {
     "data": {
      "text/plain": [
       "SVC(probability=True)"
      ]
     },
     "execution_count": 52,
     "metadata": {},
     "output_type": "execute_result"
    },
    {
     "name": "stdout",
     "output_type": "stream",
     "text": [
      "*** prob ***\n",
      "TN|FP\n",
      "FN|TP\n",
      "[[993  99]\n",
      " [112  38]]\n",
      "precision:27.74%, recall:25.33%, accuracy:83.01%\n",
      "*** pre ***\n",
      "TN|FP\n",
      "FN|TP\n",
      "[[947 145]\n",
      " [ 95  55]]\n",
      "precision:27.50%, recall:36.67%, accuracy:80.68%\n",
      "#### kernel = poly ####\n"
     ]
    },
    {
     "data": {
      "text/plain": [
       "SVC(kernel='poly', probability=True)"
      ]
     },
     "execution_count": 52,
     "metadata": {},
     "output_type": "execute_result"
    },
    {
     "name": "stdout",
     "output_type": "stream",
     "text": [
      "*** prob ***\n",
      "TN|FP\n",
      "FN|TP\n",
      "[[889 203]\n",
      " [ 57  93]]\n",
      "precision:31.42%, recall:62.00%, accuracy:79.07%\n",
      "*** pre ***\n",
      "TN|FP\n",
      "FN|TP\n",
      "[[579 513]\n",
      " [ 11 139]]\n",
      "precision:21.32%, recall:92.67%, accuracy:57.81%\n"
     ]
    }
   ],
   "source": [
    "from sklearn import svm\n",
    "# select different type of kernel function and compare the score\n",
    "\n",
    "print('#### kernel = rbf ####')\n",
    "clf_rbf = svm.SVC(kernel='rbf',probability=True)\n",
    "clf_rbf.fit(SVM_train_x,SVM_train_y.values.ravel())\n",
    "SVM_test_prob = clf_rbf.predict_proba(validation_test_f)[:,-1]     # Compute probabilities of possible outcomes for samples in X.\n",
    "SVM_test_pre = clf_rbf.predict(validation_test_f)                  # 模型对测试集的预测结果\n",
    "print('*** prob ***')\n",
    "judge(validation_test_l,np.where(SVM_test_prob >= 0.5,1,0))\n",
    "print('*** pre ***')\n",
    "judge(validation_test_l,SVM_test_pre)\n",
    "\n",
    "print('#### kernel = linear ####')\n",
    "clf_rbf = svm.SVC(kernel='rbf',probability=True)\n",
    "clf_rbf.fit(SVM_train_x,SVM_train_y.values.ravel())\n",
    "SVM_test_prob = clf_rbf.predict_proba(validation_test_f)[:,-1]     # Compute probabilities of possible outcomes for samples in X.\n",
    "SVM_test_pre = clf_rbf.predict(validation_test_f)                  # 模型对测试集的预测结果\n",
    "print('*** prob ***')\n",
    "judge(validation_test_l,np.where(SVM_test_prob >= 0.5,1,0))\n",
    "print('*** pre ***')\n",
    "judge(validation_test_l,SVM_test_pre)\n",
    "\n",
    "print('#### kernel = poly ####')\n",
    "clf_rbf = svm.SVC(kernel='poly',probability=True)\n",
    "clf_rbf.fit(SVM_train_x,SVM_train_y.values.ravel())\n",
    "SVM_test_prob = clf_rbf.predict_proba(validation_test_f)[:,-1]     # Compute probabilities of possible outcomes for samples in X.\n",
    "SVM_test_pre = clf_rbf.predict(validation_test_f)                  # 模型对测试集的预测结果\n",
    "print('*** prob ***')\n",
    "judge(validation_test_l,np.where(SVM_test_prob >= 0.5,1,0))\n",
    "print('*** pre ***')\n",
    "judge(validation_test_l,SVM_test_pre)"
   ]
  },
  {
   "cell_type": "code",
   "execution_count": 53,
   "metadata": {},
   "outputs": [
    {
     "name": "stdout",
     "output_type": "stream",
     "text": [
      "#### kernel = linear ####\n"
     ]
    },
    {
     "data": {
      "text/plain": [
       "SVC(probability=True)"
      ]
     },
     "execution_count": 53,
     "metadata": {},
     "output_type": "execute_result"
    },
    {
     "name": "stdout",
     "output_type": "stream",
     "text": [
      "*** prob ***\n",
      "TN|FP\n",
      "FN|TP\n",
      "[[992 100]\n",
      " [112  38]]\n",
      "precision:27.54%, recall:25.33%, accuracy:82.93%\n",
      "*** pre ***\n",
      "TN|FP\n",
      "FN|TP\n",
      "[[947 145]\n",
      " [ 95  55]]\n",
      "precision:27.50%, recall:36.67%, accuracy:80.68%\n"
     ]
    }
   ],
   "source": [
    "# 选 linear \n",
    "print('#### kernel = linear ####')\n",
    "clf_rbf = svm.SVC(kernel='rbf',probability=True)\n",
    "clf_rbf.fit(SVM_train_x,SVM_train_y.values.ravel())\n",
    "SVM_test_prob = clf_rbf.predict_proba(validation_test_f)[:,-1]     # Compute probabilities of possible outcomes for samples in X.\n",
    "SVM_test_pre = clf_rbf.predict(validation_test_f)                  # 模型对测试集的预测结果\n",
    "print('*** prob ***')\n",
    "judge(validation_test_l,np.where(SVM_test_prob >= 0.5,1,0))\n",
    "print('*** pre ***')\n",
    "judge(validation_test_l,SVM_test_pre)"
   ]
  },
  {
   "cell_type": "markdown",
   "metadata": {},
   "source": [
    "## 多模型合并"
   ]
  },
  {
   "cell_type": "code",
   "execution_count": 54,
   "metadata": {
    "scrolled": true
   },
   "outputs": [
    {
     "name": "stdout",
     "output_type": "stream",
     "text": [
      "#### avg_prob ####\n",
      "TN|FP\n",
      "FN|TP\n",
      "[[982 110]\n",
      " [ 98  52]]\n",
      "precision:32.10%, recall:34.67%, accuracy:83.25%\n",
      "#### intersection_pre ####\n",
      "票数:4\n",
      "TN|FP\n",
      "FN|TP\n",
      "[[1065   27]\n",
      " [ 142    8]]\n",
      "precision:22.86%, recall:5.33%, accuracy:86.39%\n",
      "票数:3\n",
      "TN|FP\n",
      "FN|TP\n",
      "[[1034   58]\n",
      " [ 121   29]]\n",
      "precision:33.33%, recall:19.33%, accuracy:85.59%\n",
      "票数:2\n",
      "TN|FP\n",
      "FN|TP\n",
      "[[970 122]\n",
      " [ 89  61]]\n",
      "precision:33.33%, recall:40.67%, accuracy:83.01%\n",
      "票数:1\n",
      "TN|FP\n",
      "FN|TP\n",
      "[[878 214]\n",
      " [ 58  92]]\n",
      "precision:30.07%, recall:61.33%, accuracy:78.10%\n"
     ]
    }
   ],
   "source": [
    "XGB_test_pre = np.where(XGB_test_prob1 >= 0.8,1,0)\n",
    "LR_test_pre = np.where(LR_test_prob >= 0.8,1,0)\n",
    "RF_test_pre = np.where(RF_test_prob1 >= 0.8,1,0)\n",
    "SVM_test_pre = SVM_test_pre.copy()\n",
    "\n",
    "print('#### avg_prob ####')\n",
    "avg_test_prob = (XGB_test_prob1 + LR_test_prob + RF_test_prob1 + SVM_test_prob)/4\n",
    "\n",
    "\n",
    "avg_test_pre = np.where(avg_test_prob >= 0.8,1,0)\n",
    "judge(validation_test_l,avg_test_pre)\n",
    "print('#### intersection_pre ####')\n",
    "mix_test_pre = XGB_test_pre + LR_test_pre + RF_test_pre + SVM_test_pre\n",
    "print('票数:4')\n",
    "judge(validation_test_l,np.where(mix_test_pre >= 4,1,0))\n",
    "print('票数:3')\n",
    "judge(validation_test_l,np.where(mix_test_pre >= 3,1,0))\n",
    "print('票数:2')\n",
    "judge(validation_test_l,np.where(mix_test_pre >= 2,1,0))\n",
    "print('票数:1')\n",
    "judge(validation_test_l,np.where(mix_test_pre >= 1,1,0))\n"
   ]
  },
  {
   "cell_type": "code",
   "execution_count": 55,
   "metadata": {},
   "outputs": [],
   "source": [
    "# 最优pre结果\n",
    "best_test_pre =np.where(mix_test_pre >= 2,1,0)"
   ]
  },
  {
   "cell_type": "code",
   "execution_count": 56,
   "metadata": {},
   "outputs": [],
   "source": [
    "#1 V 0 \n",
    "raw_data = pd.read_csv('./data/sz50_flag.csv',index_col = 0)\n",
    "raw_data.DATETIME = pd.to_datetime(raw_data.DATETIME)\n",
    "raw_data.set_index('DATETIME',inplace = True)\n",
    "raw_data.flag = raw_data.flag.fillna(0)\n",
    "test_l_pre = validation_test_l.copy()\n",
    "test_l_pre['pre'] = best_test_pre\n",
    "\n",
    "vic_data = raw_data.iloc[:,[0,-1]].merge(test_l_pre,left_index = True,right_index = True,how = 'left')\n",
    "vic_data = vic_data[vic_data.index >= '2016-12-07']\n",
    "\n",
    "# flag + shift(-1)还原\n",
    "vic_data.flag = vic_data.flag.shift(1)\n",
    "vic_data.target = vic_data.target.shift(1)\n",
    "vic_data.pre = vic_data.pre.shift(1)"
   ]
  },
  {
   "cell_type": "code",
   "execution_count": 60,
   "metadata": {},
   "outputs": [],
   "source": [
    "vic_data.to_csv('./res/20220126_-1.csv')"
   ]
  },
  {
   "cell_type": "code",
   "execution_count": 57,
   "metadata": {},
   "outputs": [],
   "source": [
    "def long_vis(draw_df,title_name):\n",
    "    '''\n",
    "    输入1000个交易日左右的数据\n",
    "    输出open构成的折线 + 笔（拐点）\n",
    "    '''\n",
    "    draw_df = draw_df.reset_index().copy()\n",
    "    ## 生成part和pen的标注点\n",
    "    def part_pen_up_func(parting, open):\n",
    "        if parting == 1:\n",
    "            return open + 0\n",
    "        else:\n",
    "            return np.nan\n",
    "\n",
    "    def part_pen_down_func(parting, open):\n",
    "        if parting == -1:\n",
    "            return open - 0\n",
    "        else:\n",
    "            return np.nan\n",
    "\n",
    "    \n",
    "    # draw_part为分型part的标记高度，part_pen为笔pen的标记高度。\n",
    "    draw_df['draw_pre_up'] = draw_df.apply(lambda row: part_pen_up_func(row['pre'], row['open']), axis=1)\n",
    "#     draw_df['draw_pre_down'] = draw_df.apply(lambda row: part_pen_down_func(row['pre'], row['open']), axis=1)\n",
    "    draw_df['draw_true_up'] = draw_df.apply(lambda row: part_pen_up_func(row['flag'], row['open']), axis=1)\n",
    "    draw_df['draw_true_down'] = draw_df.apply(lambda row: part_pen_down_func(row['flag'], row['open']), axis=1)\n",
    "\n",
    "\n",
    "    \n",
    "    ## 用原始高开低收数据生成k线\n",
    "    draw_df['DATETIME'] = pd.to_datetime(draw_df['DATETIME'], format='%Y-%m-%d')\n",
    "    \n",
    "    plt.figure(figsize= (15,8));\n",
    "    plt.plot(draw_df['DATETIME'] ,draw_df.open,color = 'k',alpha = 0.7)\n",
    "    plt.scatter(draw_df['DATETIME'] ,draw_df.draw_pre_up,marker='o',label = 'Pre Downward inflection')\n",
    "#     plt.scatter(draw_df['DATETIME'] ,draw_df.draw_pre_down,marker='*',color = 'g',label = 'Pre Upward inflection')\n",
    "    plt.scatter(draw_df['DATETIME'] ,draw_df.draw_true_up,marker='^',color = 'r' ,label = 'True Downward inflection')\n",
    "    plt.scatter(draw_df['DATETIME'] ,draw_df.draw_true_down,marker='^',color = 'g' ,label = 'True Upward inflection')\n",
    "    plt.xticks(rotation=30)\n",
    "    plt.ylabel('open')\n",
    "    plt.title(title_name)\n",
    "    plt.legend()\n",
    "    plt.show()\n",
    "    print('plot success')\n",
    "#     save_path = '/pic/long_vis_'+ index_name + '.csv'\n",
    "#     plt.savefig(save_path)"
   ]
  },
  {
   "cell_type": "code",
   "execution_count": 58,
   "metadata": {},
   "outputs": [
    {
     "data": {
      "image/png": "[encoded data removed]",
      "text/plain": [
       "<Figure size 1080x576 with 1 Axes>"
      ]
     },
     "metadata": {
      "needs_background": "light"
     },
     "output_type": "display_data"
    },
    {
     "name": "stdout",
     "output_type": "stream",
     "text": [
      "plot success\n"
     ]
    }
   ],
   "source": [
    "long_vis(vic_data.iloc[-500:,:],'XGB_LR')"
   ]
  },
  {
   "cell_type": "code",
   "execution_count": 59,
   "metadata": {},
   "outputs": [
    {
     "data": {
      "image/png": "[encoded data removed]",
      "text/plain": [
       "<Figure size 1080x576 with 1 Axes>"
      ]
     },
     "metadata": {
      "needs_background": "light"
     },
     "output_type": "display_data"
    },
    {
     "name": "stdout",
     "output_type": "stream",
     "text": [
      "plot success\n"
     ]
    }
   ],
   "source": [
    "long_vis(vic_data.iloc[-1000:-500,:],'XGB_LR')"
   ]
  },
  {
   "cell_type": "code",
   "execution_count": null,
   "metadata": {},
   "outputs": [],
   "source": []
  }
 ],
 "metadata": {
  "kernelspec": {
   "display_name": "Python 3",
   "language": "python",
   "name": "python3"
  },
  "language_info": {
   "codemirror_mode": {
    "name": "ipython",
    "version": 3
   },
   "file_extension": ".py",
   "mimetype": "text/x-python",
   "name": "python",
   "nbconvert_exporter": "python",
   "pygments_lexer": "ipython3",
   "version": "3.7.6"
  },
  "varInspector": {
   "cols": {
    "lenName": 16,
    "lenType": 16,
    "lenVar": 40
   },
   "kernels_config": {
    "python": {
     "delete_cmd_postfix": "",
     "delete_cmd_prefix": "del ",
     "library": "var_list.py",
     "varRefreshCmd": "print(var_dic_list())"
    },
    "r": {
     "delete_cmd_postfix": ") ",
     "delete_cmd_prefix": "rm(",
     "library": "var_list.r",
     "varRefreshCmd": "cat(var_dic_list()) "
    }
   },
   "types_to_exclude": [
    "module",
    "function",
    "builtin_function_or_method",
    "instance",
    "_Feature"
   ],
   "window_display": false
  }
 },
 "nbformat": 4,
 "nbformat_minor": 4
}
