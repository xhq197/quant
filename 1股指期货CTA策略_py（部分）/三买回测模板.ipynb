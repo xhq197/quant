{
 "cells": [
  {
   "cell_type": "markdown",
   "metadata": {},
   "source": [
    "三买回测使用模板\n",
    "---\n",
    "    时间：0903\n",
    "    文件：严苛三买.py\n",
    "    策略：使用不同的K线组合计算中枢和笔，再计算第三买卖点；进入新的中枢平仓，回到所在中枢止损；使用平台数据进行回测；\n",
    "    调用：market_timing_lab_v0827;three_point_class_v0827\n",
    "    备注：在回测进行的过程中，只要已经回测完一个合约就可以使用【分类评估模板】随时调用中间结果，并做评估。！！请注意参数匹配。"
   ]
  },
  {
   "cell_type": "code",
   "execution_count": 1,
   "metadata": {},
   "outputs": [],
   "source": [
    "import os \n",
    "os.chdir('/home/jovyan/xhq/main/parting/')\n",
    "from backtest_class import backtest,roll_test\n",
    "import numpy as np\n",
    "import pandas as pd\n",
    "from ResAssese import ResultAssese\n",
    "from algoqi.data import D, plotutils\n",
    "D.switch_zxzx_client(access_key='e7e2de63f95674632824ed6b2be8dd1f', secret_key='d43ca617fe7048e4ccfb158dde8e1c32')\n",
    "D.load()\n",
    "from three_point_class_v0827 import three_point,three_point_backtest\n",
    "from highcharts import Highstock\n",
    "\n",
    "from IPython.core.interactiveshell import InteractiveShell\n",
    "InteractiveShell.ast_node_interactivity = \"all\""
   ]
  },
  {
   "cell_type": "markdown",
   "metadata": {},
   "source": [
    "### 1 参数"
   ]
  },
  {
   "cell_type": "code",
   "execution_count": 2,
   "metadata": {},
   "outputs": [],
   "source": [
    "start = '20190102' #回测开始时间（必须是交易日）\n",
    "end = '20190301' #回测结束时间（建议使用某个当月合约的结束时间）\n",
    "\n",
    "k_min_high_level = 1  #int：计算中枢的K线级别，如k_min_high_level =30 表示计算中枢的高级K线是30min K线\n",
    "k_min_low_level = 1  #int：计算笔的K线级别\n",
    "use_tick_merge = False  #use_tick_merge = True，使用tick数据合成K线；use_tick_merge = False，使用平台提供的K线数据。\n",
    "py_path0 = './第三买卖点/最终回测/严苛三买.py' #策略文件路径\n",
    "raw_save_name = '严苛三买' #str：建议使用策略文件名\n",
    "\n",
    "date_time = '0903'  #str: 回测当日日期，建议作为尾注，放入save_name0中，以免文件文件同名覆盖\n",
    "\n",
    "\n",
    "if use_tick_merge:\n",
    "    flag = 'use_tick' + date_time\n",
    "else:\n",
    "    flag = 'use_lab' + date_time\n",
    "\n",
    "save_name0 = f'{k_min_high_level}_{k_min_low_level}min_{raw_save_name}_{flag}_' #最终合成的名字"
   ]
  },
  {
   "cell_type": "markdown",
   "metadata": {},
   "source": [
    "### 2 回测"
   ]
  },
  {
   "cell_type": "markdown",
   "metadata": {},
   "source": [
    "#### 示例：\n",
    "---\n",
    "    trades_df,logs_df =  backtest.bt_long(py_path = './final_5min.py',code = 'IC00.CFE',start = '20190102',end = '20191231'\n",
    "                    ,N = 5,per_size = 1,save = False,save_path = './final_5min.pkl',save_name = 'final_5min',\n",
    "                   k_min_high_level = 1,k_min_low_level = 1,use_tick_merge = False)\n",
    "#### 参数说明：\n",
    "---\n",
    "    py_path：策略文件路径\n",
    "    code：获取当月合约，统一使用'IC00.CFE'\n",
    "    start：回测开始时间（必须是交易日）\n",
    "    end: 回测结束时间\n",
    "    N: 时间切割策略中，回测使用的K线数据做几次切割。如：N = 5（使用5minK线）代表将5minK线切割5次，生成5套5minK线数据。\n",
    "    per_size: 单次交易购买的合约数，一般情况下，使用per_size = 1\n",
    "    save: 是否存储回测过程中交易和日志的中间结果:trades_df,logs_df\n",
    "    save_path: 交易和日志的中间结果的存储路径\n",
    "    save_name: 建议使用策略文件名，或者在策略文件名上加一些尾注\n",
    "    k_min_high_level : （int）在第三买卖点策略中标识计算中枢的K线级别，如k_min_high_level =30 表示计算中枢的高级K线是30min K线\n",
    "    k_min_low_level :  （int）在第三买卖点策略中标识计算笔的K线级别\n",
    "    use_tick_merge : use_tick_merge = True，使用tick数据合成K线；use_tick_merge = False，使用平台提供的K线数据。"
   ]
  },
  {
   "cell_type": "code",
   "execution_count": 3,
   "metadata": {},
   "outputs": [
    {
     "name": "stdout",
     "output_type": "stream",
     "text": [
      "\n",
      " 20190102 - 20190118\n",
      "Percent: [##################################################] 100% Done...\n",
      "\n",
      " 20190121 - 20190215\n",
      "Percent: [##################################################] 100% Done...\n",
      "\n",
      " 20190218 - 20190301\n",
      "Percent: [##################################################] 100% Done...\n"
     ]
    }
   ],
   "source": [
    "trades_df0,logs_df0 = backtest.bt_long(py_path = py_path0,start =start,end = end,save = True\n",
    "                                       ,save_path = './第三买卖点/strategy_save/'+save_name0+start+'_'+end+'.pkl'\n",
    "                                       ,save_name = save_name0,k_min_high_level = k_min_high_level,k_min_low_level = k_min_low_level,use_tick_merge = use_tick_merge)"
   ]
  },
  {
   "cell_type": "code",
   "execution_count": null,
   "metadata": {},
   "outputs": [],
   "source": []
  },
  {
   "cell_type": "code",
   "execution_count": null,
   "metadata": {},
   "outputs": [],
   "source": []
  }
 ],
 "metadata": {
  "kernelspec": {
   "display_name": "Python 3",
   "language": "python",
   "name": "python3"
  },
  "language_info": {
   "codemirror_mode": {
    "name": "ipython",
    "version": 3
   },
   "file_extension": ".py",
   "mimetype": "text/x-python",
   "name": "python",
   "nbconvert_exporter": "python",
   "pygments_lexer": "ipython3",
   "version": "3.6.5"
  }
 },
 "nbformat": 4,
 "nbformat_minor": 2
}
